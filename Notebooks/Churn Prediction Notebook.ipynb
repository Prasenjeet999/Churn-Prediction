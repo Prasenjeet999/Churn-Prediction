{
 "cells": [
  {
   "cell_type": "markdown",
   "id": "3cfc82e2",
   "metadata": {},
   "source": [
    "# Data Description\n",
    "\n",
    "Dataset consists customer information for a customer churn prediction problem. It includes the following columns:\n",
    "\n",
    "**CustomerID**: Unique identifier for each customer.\n",
    "\n",
    "\n",
    "**Name**: Name of the customer.\n",
    "\n",
    "\n",
    "**Age: Age of the customer.**\n",
    "\n",
    "\n",
    "**Gender**: Gender of the customer (Male or Female).\n",
    "\n",
    "\n",
    "**Location**: Location where the customer is based, with options including Houston, Los Angeles, Miami, Chicago, and New York.\n",
    "\n",
    "\n",
    "**Subscription_Length_Months**: The number of months the customer has been subscribed.\n",
    "\n",
    "\n",
    "**Monthly_Bill**: Monthly bill amount for the customer.\n",
    "\n",
    "\n",
    "**Total_Usage_GB**: Total usage in gigabytes.\n",
    "\n",
    "\n",
    "**Churn**: A binary indicator (1 or 0) representing whether the customer has churned (1) or not (0)."
   ]
  },
  {
   "cell_type": "code",
   "execution_count": 24,
   "id": "e11fb6b1",
   "metadata": {},
   "outputs": [],
   "source": [
    "# importing required libraries\n",
    "\n",
    "import pandas as pd\n",
    "pd.set_option('display.max_columns', None)\n",
    "import numpy as np\n",
    "import matplotlib.pyplot as plt\n",
    "%matplotlib inline\n",
    "import seaborn as sns"
   ]
  },
  {
   "cell_type": "code",
   "execution_count": 25,
   "id": "0d757c76",
   "metadata": {},
   "outputs": [
    {
     "name": "stdout",
     "output_type": "stream",
     "text": [
      "Defaulting to user installation because normal site-packages is not writeable\n",
      "Requirement already satisfied: openpyxl in /Users/prasenjeetsmac/Library/Python/3.9/lib/python/site-packages (3.1.5)\n",
      "Requirement already satisfied: et-xmlfile in /Users/prasenjeetsmac/Library/Python/3.9/lib/python/site-packages (from openpyxl) (1.1.0)\n",
      "\n",
      "\u001b[1m[\u001b[0m\u001b[34;49mnotice\u001b[0m\u001b[1;39;49m]\u001b[0m\u001b[39;49m A new release of pip is available: \u001b[0m\u001b[31;49m24.0\u001b[0m\u001b[39;49m -> \u001b[0m\u001b[32;49m24.2\u001b[0m\n",
      "\u001b[1m[\u001b[0m\u001b[34;49mnotice\u001b[0m\u001b[1;39;49m]\u001b[0m\u001b[39;49m To update, run: \u001b[0m\u001b[32;49m/Library/Developer/CommandLineTools/usr/bin/python3 -m pip install --upgrade pip\u001b[0m\n",
      "Note: you may need to restart the kernel to use updated packages.\n"
     ]
    }
   ],
   "source": [
    "pip install openpyxl\n"
   ]
  },
  {
   "cell_type": "code",
   "execution_count": 38,
   "id": "853c8571",
   "metadata": {},
   "outputs": [
    {
     "data": {
      "text/html": [
       "<div>\n",
       "<style scoped>\n",
       "    .dataframe tbody tr th:only-of-type {\n",
       "        vertical-align: middle;\n",
       "    }\n",
       "\n",
       "    .dataframe tbody tr th {\n",
       "        vertical-align: top;\n",
       "    }\n",
       "\n",
       "    .dataframe thead th {\n",
       "        text-align: right;\n",
       "    }\n",
       "</style>\n",
       "<table border=\"1\" class=\"dataframe\">\n",
       "  <thead>\n",
       "    <tr style=\"text-align: right;\">\n",
       "      <th></th>\n",
       "      <th>CustomerID</th>\n",
       "      <th>Name</th>\n",
       "      <th>Age</th>\n",
       "      <th>Gender</th>\n",
       "      <th>Location</th>\n",
       "      <th>Subscription_Length_Months</th>\n",
       "      <th>Monthly_Bill</th>\n",
       "      <th>Total_Usage_GB</th>\n",
       "      <th>Churn</th>\n",
       "    </tr>\n",
       "  </thead>\n",
       "  <tbody>\n",
       "    <tr>\n",
       "      <th>0</th>\n",
       "      <td>1</td>\n",
       "      <td>Customer_1</td>\n",
       "      <td>63</td>\n",
       "      <td>Male</td>\n",
       "      <td>Los Angeles</td>\n",
       "      <td>17</td>\n",
       "      <td>73.36</td>\n",
       "      <td>236</td>\n",
       "      <td>0</td>\n",
       "    </tr>\n",
       "    <tr>\n",
       "      <th>1</th>\n",
       "      <td>2</td>\n",
       "      <td>Customer_2</td>\n",
       "      <td>62</td>\n",
       "      <td>Female</td>\n",
       "      <td>New York</td>\n",
       "      <td>1</td>\n",
       "      <td>48.76</td>\n",
       "      <td>172</td>\n",
       "      <td>0</td>\n",
       "    </tr>\n",
       "    <tr>\n",
       "      <th>2</th>\n",
       "      <td>3</td>\n",
       "      <td>Customer_3</td>\n",
       "      <td>24</td>\n",
       "      <td>Female</td>\n",
       "      <td>Los Angeles</td>\n",
       "      <td>5</td>\n",
       "      <td>85.47</td>\n",
       "      <td>460</td>\n",
       "      <td>0</td>\n",
       "    </tr>\n",
       "    <tr>\n",
       "      <th>3</th>\n",
       "      <td>4</td>\n",
       "      <td>Customer_4</td>\n",
       "      <td>36</td>\n",
       "      <td>Female</td>\n",
       "      <td>Miami</td>\n",
       "      <td>3</td>\n",
       "      <td>97.94</td>\n",
       "      <td>297</td>\n",
       "      <td>1</td>\n",
       "    </tr>\n",
       "    <tr>\n",
       "      <th>4</th>\n",
       "      <td>5</td>\n",
       "      <td>Customer_5</td>\n",
       "      <td>46</td>\n",
       "      <td>Female</td>\n",
       "      <td>Miami</td>\n",
       "      <td>19</td>\n",
       "      <td>58.14</td>\n",
       "      <td>266</td>\n",
       "      <td>0</td>\n",
       "    </tr>\n",
       "  </tbody>\n",
       "</table>\n",
       "</div>"
      ],
      "text/plain": [
       "   CustomerID        Name  Age  Gender     Location  \\\n",
       "0           1  Customer_1   63    Male  Los Angeles   \n",
       "1           2  Customer_2   62  Female     New York   \n",
       "2           3  Customer_3   24  Female  Los Angeles   \n",
       "3           4  Customer_4   36  Female        Miami   \n",
       "4           5  Customer_5   46  Female        Miami   \n",
       "\n",
       "   Subscription_Length_Months  Monthly_Bill  Total_Usage_GB  Churn  \n",
       "0                          17         73.36             236      0  \n",
       "1                           1         48.76             172      0  \n",
       "2                           5         85.47             460      0  \n",
       "3                           3         97.94             297      1  \n",
       "4                          19         58.14             266      0  "
      ]
     },
     "execution_count": 38,
     "metadata": {},
     "output_type": "execute_result"
    }
   ],
   "source": [
    "df = pd.read_excel(\"customer_churn_large_dataset.xlsx\")\n",
    "df.head()"
   ]
  },
  {
   "cell_type": "markdown",
   "id": "feaafb09",
   "metadata": {},
   "source": [
    "# Exploratory Data Analysis (EDA)"
   ]
  },
  {
   "cell_type": "code",
   "execution_count": 39,
   "id": "12046ca0",
   "metadata": {},
   "outputs": [
    {
     "data": {
      "text/plain": [
       "(100000, 9)"
      ]
     },
     "execution_count": 39,
     "metadata": {},
     "output_type": "execute_result"
    }
   ],
   "source": [
    "df.shape"
   ]
  },
  {
   "cell_type": "code",
   "execution_count": 40,
   "id": "8649918b",
   "metadata": {},
   "outputs": [
    {
     "data": {
      "text/plain": [
       "Index(['CustomerID', 'Name', 'Age', 'Gender', 'Location',\n",
       "       'Subscription_Length_Months', 'Monthly_Bill', 'Total_Usage_GB',\n",
       "       'Churn'],\n",
       "      dtype='object')"
      ]
     },
     "execution_count": 40,
     "metadata": {},
     "output_type": "execute_result"
    }
   ],
   "source": [
    "df.columns"
   ]
  },
  {
   "cell_type": "code",
   "execution_count": 41,
   "id": "768c1a1f",
   "metadata": {},
   "outputs": [
    {
     "name": "stdout",
     "output_type": "stream",
     "text": [
      "<class 'pandas.core.frame.DataFrame'>\n",
      "RangeIndex: 100000 entries, 0 to 99999\n",
      "Data columns (total 9 columns):\n",
      " #   Column                      Non-Null Count   Dtype  \n",
      "---  ------                      --------------   -----  \n",
      " 0   CustomerID                  100000 non-null  int64  \n",
      " 1   Name                        100000 non-null  object \n",
      " 2   Age                         100000 non-null  int64  \n",
      " 3   Gender                      100000 non-null  object \n",
      " 4   Location                    100000 non-null  object \n",
      " 5   Subscription_Length_Months  100000 non-null  int64  \n",
      " 6   Monthly_Bill                100000 non-null  float64\n",
      " 7   Total_Usage_GB              100000 non-null  int64  \n",
      " 8   Churn                       100000 non-null  int64  \n",
      "dtypes: float64(1), int64(5), object(3)\n",
      "memory usage: 6.9+ MB\n"
     ]
    }
   ],
   "source": [
    "df.info()"
   ]
  },
  {
   "cell_type": "markdown",
   "id": "c87b2b8a",
   "metadata": {},
   "source": [
    "**All variables has correct data type.**"
   ]
  },
  {
   "cell_type": "code",
   "execution_count": 42,
   "id": "13edb16c",
   "metadata": {},
   "outputs": [
    {
     "data": {
      "text/plain": [
       "CustomerID                    0.0\n",
       "Name                          0.0\n",
       "Age                           0.0\n",
       "Gender                        0.0\n",
       "Location                      0.0\n",
       "Subscription_Length_Months    0.0\n",
       "Monthly_Bill                  0.0\n",
       "Total_Usage_GB                0.0\n",
       "Churn                         0.0\n",
       "dtype: float64"
      ]
     },
     "execution_count": 42,
     "metadata": {},
     "output_type": "execute_result"
    }
   ],
   "source": [
    "df.isna().sum()/len(df)*100"
   ]
  },
  {
   "cell_type": "markdown",
   "id": "f7f7d2a0",
   "metadata": {},
   "source": [
    "**There is no null value in any of variable.**"
   ]
  },
  {
   "cell_type": "code",
   "execution_count": 43,
   "id": "62b833ab",
   "metadata": {},
   "outputs": [
    {
     "data": {
      "text/plain": [
       "0"
      ]
     },
     "execution_count": 43,
     "metadata": {},
     "output_type": "execute_result"
    }
   ],
   "source": [
    "df.duplicated().sum()"
   ]
  },
  {
   "cell_type": "markdown",
   "id": "928e183a",
   "metadata": {},
   "source": [
    "**There is no duplicate record in datset.**"
   ]
  },
  {
   "cell_type": "code",
   "execution_count": 44,
   "id": "0c5ad6a9",
   "metadata": {},
   "outputs": [
    {
     "data": {
      "text/html": [
       "<div>\n",
       "<style scoped>\n",
       "    .dataframe tbody tr th:only-of-type {\n",
       "        vertical-align: middle;\n",
       "    }\n",
       "\n",
       "    .dataframe tbody tr th {\n",
       "        vertical-align: top;\n",
       "    }\n",
       "\n",
       "    .dataframe thead th {\n",
       "        text-align: right;\n",
       "    }\n",
       "</style>\n",
       "<table border=\"1\" class=\"dataframe\">\n",
       "  <thead>\n",
       "    <tr style=\"text-align: right;\">\n",
       "      <th></th>\n",
       "      <th>CustomerID</th>\n",
       "      <th>Age</th>\n",
       "      <th>Subscription_Length_Months</th>\n",
       "      <th>Monthly_Bill</th>\n",
       "      <th>Total_Usage_GB</th>\n",
       "      <th>Churn</th>\n",
       "    </tr>\n",
       "  </thead>\n",
       "  <tbody>\n",
       "    <tr>\n",
       "      <th>count</th>\n",
       "      <td>100000.000000</td>\n",
       "      <td>100000.000000</td>\n",
       "      <td>100000.000000</td>\n",
       "      <td>100000.000000</td>\n",
       "      <td>100000.000000</td>\n",
       "      <td>100000.000000</td>\n",
       "    </tr>\n",
       "    <tr>\n",
       "      <th>mean</th>\n",
       "      <td>50000.500000</td>\n",
       "      <td>44.027020</td>\n",
       "      <td>12.490100</td>\n",
       "      <td>65.053197</td>\n",
       "      <td>274.393650</td>\n",
       "      <td>0.497790</td>\n",
       "    </tr>\n",
       "    <tr>\n",
       "      <th>std</th>\n",
       "      <td>28867.657797</td>\n",
       "      <td>15.280283</td>\n",
       "      <td>6.926461</td>\n",
       "      <td>20.230696</td>\n",
       "      <td>130.463063</td>\n",
       "      <td>0.499998</td>\n",
       "    </tr>\n",
       "    <tr>\n",
       "      <th>min</th>\n",
       "      <td>1.000000</td>\n",
       "      <td>18.000000</td>\n",
       "      <td>1.000000</td>\n",
       "      <td>30.000000</td>\n",
       "      <td>50.000000</td>\n",
       "      <td>0.000000</td>\n",
       "    </tr>\n",
       "    <tr>\n",
       "      <th>25%</th>\n",
       "      <td>25000.750000</td>\n",
       "      <td>31.000000</td>\n",
       "      <td>6.000000</td>\n",
       "      <td>47.540000</td>\n",
       "      <td>161.000000</td>\n",
       "      <td>0.000000</td>\n",
       "    </tr>\n",
       "    <tr>\n",
       "      <th>50%</th>\n",
       "      <td>50000.500000</td>\n",
       "      <td>44.000000</td>\n",
       "      <td>12.000000</td>\n",
       "      <td>65.010000</td>\n",
       "      <td>274.000000</td>\n",
       "      <td>0.000000</td>\n",
       "    </tr>\n",
       "    <tr>\n",
       "      <th>75%</th>\n",
       "      <td>75000.250000</td>\n",
       "      <td>57.000000</td>\n",
       "      <td>19.000000</td>\n",
       "      <td>82.640000</td>\n",
       "      <td>387.000000</td>\n",
       "      <td>1.000000</td>\n",
       "    </tr>\n",
       "    <tr>\n",
       "      <th>max</th>\n",
       "      <td>100000.000000</td>\n",
       "      <td>70.000000</td>\n",
       "      <td>24.000000</td>\n",
       "      <td>100.000000</td>\n",
       "      <td>500.000000</td>\n",
       "      <td>1.000000</td>\n",
       "    </tr>\n",
       "  </tbody>\n",
       "</table>\n",
       "</div>"
      ],
      "text/plain": [
       "          CustomerID            Age  Subscription_Length_Months  \\\n",
       "count  100000.000000  100000.000000               100000.000000   \n",
       "mean    50000.500000      44.027020                   12.490100   \n",
       "std     28867.657797      15.280283                    6.926461   \n",
       "min         1.000000      18.000000                    1.000000   \n",
       "25%     25000.750000      31.000000                    6.000000   \n",
       "50%     50000.500000      44.000000                   12.000000   \n",
       "75%     75000.250000      57.000000                   19.000000   \n",
       "max    100000.000000      70.000000                   24.000000   \n",
       "\n",
       "        Monthly_Bill  Total_Usage_GB          Churn  \n",
       "count  100000.000000   100000.000000  100000.000000  \n",
       "mean       65.053197      274.393650       0.497790  \n",
       "std        20.230696      130.463063       0.499998  \n",
       "min        30.000000       50.000000       0.000000  \n",
       "25%        47.540000      161.000000       0.000000  \n",
       "50%        65.010000      274.000000       0.000000  \n",
       "75%        82.640000      387.000000       1.000000  \n",
       "max       100.000000      500.000000       1.000000  "
      ]
     },
     "execution_count": 44,
     "metadata": {},
     "output_type": "execute_result"
    }
   ],
   "source": [
    "# Statistical summary of numerical variables\n",
    "\n",
    "df.describe()"
   ]
  },
  {
   "cell_type": "markdown",
   "id": "09996b54",
   "metadata": {},
   "source": [
    "### `Age` \n",
    "\n",
    "* **The average age of the customers is approximately 44 years.**\n",
    "\n",
    "\n",
    "* **The ages of the people varies widely. The youngest person is 18 years old and the oldest person is 70 years old.**\n",
    "\n",
    "\n",
    "* **The majority of customers fall within the range of 31 to 57 years.**\n",
    "\n",
    "\n",
    "* **The spread of ages is represented by a standard deviation of about 15 years.**\n",
    "\n",
    "\n",
    "### `Subscription_Length_Months` \n",
    "\n",
    "* **On average, customers have a subscription length of around 12.5 months.**\n",
    "\n",
    "\n",
    "* **Subscription lengths vary between 1 and 24 months.**\n",
    "\n",
    "\n",
    "* **The majority of customers have subscription lengths ranging from 6 to 19 months.**\n",
    "\n",
    "\n",
    "* **The standard deviation is approximately 6.9 months, indicating some variation in subscription lengths.**\n",
    "\n",
    "\n",
    "### `Monthly_Bill`\n",
    "\n",
    "* **Customers pay an average monthly bill of roughly $65.**\n",
    "\n",
    "\n",
    "* **Monthly bills range from 30 Dollar (minimum) to 100 Dollar (maximum).**\n",
    "\n",
    "\n",
    "* **The majority of customers pay between approximately 47.50 Dollar to 82.64 Dollar per month.**\n",
    "\n",
    "\n",
    "* **Monthly bill amounts have a standard deviation of about $20.23, showing some variability.**\n",
    "\n",
    "\n",
    "### `Total_Usage_GB`\n",
    "\n",
    "* **The average total usage of customers is about 274.4 GB.**\n",
    "\n",
    "\n",
    "* **Total usage varies between 50 GB (minimum) and 500 GB (maximum).**\n",
    "\n",
    "\n",
    "* **Most customers have total usage between 161 GB and 387 GB.**\n",
    "\n",
    "\n",
    "* **Total usage has a standard deviation of approximately 130.46 GB, indicating a significant range.**\n",
    "\n",
    "### `Churn`\n",
    "\n",
    "* **About half of the customers have churned (Churn value = 1), while the other half haven't (Churn value = 0).**\n",
    "\n",
    "\n",
    "* **This is represented by a mean churn rate of approximately 0.5.**\n",
    "\n",
    "\n",
    "* **Churn values are binary (0 or 1), indicating whether a customer has churned or not.**\n",
    "\n",
    "\n",
    "* **Churn rate is evenly distributed due to a mean close to 0.5.**"
   ]
  },
  {
   "cell_type": "code",
   "execution_count": 47,
   "id": "0fda8cd0",
   "metadata": {},
   "outputs": [
    {
     "data": {
      "text/html": [
       "<div>\n",
       "<style scoped>\n",
       "    .dataframe tbody tr th:only-of-type {\n",
       "        vertical-align: middle;\n",
       "    }\n",
       "\n",
       "    .dataframe tbody tr th {\n",
       "        vertical-align: top;\n",
       "    }\n",
       "\n",
       "    .dataframe thead th {\n",
       "        text-align: right;\n",
       "    }\n",
       "</style>\n",
       "<table border=\"1\" class=\"dataframe\">\n",
       "  <thead>\n",
       "    <tr style=\"text-align: right;\">\n",
       "      <th></th>\n",
       "      <th>Name</th>\n",
       "      <th>Gender</th>\n",
       "      <th>Location</th>\n",
       "    </tr>\n",
       "  </thead>\n",
       "  <tbody>\n",
       "    <tr>\n",
       "      <th>count</th>\n",
       "      <td>100000</td>\n",
       "      <td>100000</td>\n",
       "      <td>100000</td>\n",
       "    </tr>\n",
       "    <tr>\n",
       "      <th>unique</th>\n",
       "      <td>100000</td>\n",
       "      <td>2</td>\n",
       "      <td>5</td>\n",
       "    </tr>\n",
       "    <tr>\n",
       "      <th>top</th>\n",
       "      <td>Customer_1</td>\n",
       "      <td>Female</td>\n",
       "      <td>Houston</td>\n",
       "    </tr>\n",
       "    <tr>\n",
       "      <th>freq</th>\n",
       "      <td>1</td>\n",
       "      <td>50216</td>\n",
       "      <td>20157</td>\n",
       "    </tr>\n",
       "  </tbody>\n",
       "</table>\n",
       "</div>"
      ],
      "text/plain": [
       "              Name  Gender Location\n",
       "count       100000  100000   100000\n",
       "unique      100000       2        5\n",
       "top     Customer_1  Female  Houston\n",
       "freq             1   50216    20157"
      ]
     },
     "execution_count": 47,
     "metadata": {},
     "output_type": "execute_result"
    }
   ],
   "source": [
    "# Statistical summary of categoical variables\n",
    "\n",
    "df.describe(include=['object'])"
   ]
  },
  {
   "cell_type": "code",
   "execution_count": 48,
   "id": "68616266",
   "metadata": {},
   "outputs": [
    {
     "data": {
      "text/plain": [
       "Gender\n",
       "Female    50216\n",
       "Male      49784\n",
       "Name: count, dtype: int64"
      ]
     },
     "execution_count": 48,
     "metadata": {},
     "output_type": "execute_result"
    }
   ],
   "source": [
    "df['Gender'].value_counts()"
   ]
  },
  {
   "cell_type": "code",
   "execution_count": 49,
   "id": "4dbf1bae",
   "metadata": {},
   "outputs": [
    {
     "data": {
      "text/plain": [
       "Location\n",
       "Houston        20157\n",
       "Los Angeles    20041\n",
       "Miami          20031\n",
       "Chicago        19958\n",
       "New York       19813\n",
       "Name: count, dtype: int64"
      ]
     },
     "execution_count": 49,
     "metadata": {},
     "output_type": "execute_result"
    }
   ],
   "source": [
    "df['Location'].value_counts()"
   ]
  },
  {
   "cell_type": "markdown",
   "id": "190386dc",
   "metadata": {},
   "source": [
    "### `Gender`\n",
    "\n",
    "* **The dataset includes information about two unique genders.**\n",
    "\n",
    "\n",
    "* **The most common gender is \"Female,\" which appears 50,216 times.**\n",
    "\n",
    "\n",
    "* **The frequency of females in the dataset is greater than that Male.**\n",
    "\n",
    "\n",
    "### `Location`\n",
    "\n",
    "* **The dataset contains information about five unique locations[Houston, Los Angeles, Miami, Chicago, New York].**\n",
    "\n",
    "\n",
    "* **The most frequent location is \"Houston,\" occurring 20,157 times.**"
   ]
  },
  {
   "cell_type": "code",
   "execution_count": 50,
   "id": "a45008f9",
   "metadata": {},
   "outputs": [],
   "source": [
    "df.drop(columns=['CustomerID', 'Name'],axis=1,inplace=True)"
   ]
  },
  {
   "cell_type": "code",
   "execution_count": 52,
   "id": "804da930",
   "metadata": {},
   "outputs": [
    {
     "data": {
      "text/html": [
       "<div>\n",
       "<style scoped>\n",
       "    .dataframe tbody tr th:only-of-type {\n",
       "        vertical-align: middle;\n",
       "    }\n",
       "\n",
       "    .dataframe tbody tr th {\n",
       "        vertical-align: top;\n",
       "    }\n",
       "\n",
       "    .dataframe thead th {\n",
       "        text-align: right;\n",
       "    }\n",
       "</style>\n",
       "<table border=\"1\" class=\"dataframe\">\n",
       "  <thead>\n",
       "    <tr style=\"text-align: right;\">\n",
       "      <th></th>\n",
       "      <th>Age</th>\n",
       "      <th>Subscription_Length_Months</th>\n",
       "      <th>Monthly_Bill</th>\n",
       "      <th>Total_Usage_GB</th>\n",
       "      <th>Churn</th>\n",
       "    </tr>\n",
       "  </thead>\n",
       "  <tbody>\n",
       "    <tr>\n",
       "      <th>Age</th>\n",
       "      <td>1.000000</td>\n",
       "      <td>0.003382</td>\n",
       "      <td>0.001110</td>\n",
       "      <td>0.001927</td>\n",
       "      <td>0.001559</td>\n",
       "    </tr>\n",
       "    <tr>\n",
       "      <th>Subscription_Length_Months</th>\n",
       "      <td>0.003382</td>\n",
       "      <td>1.000000</td>\n",
       "      <td>-0.005294</td>\n",
       "      <td>-0.002203</td>\n",
       "      <td>0.002328</td>\n",
       "    </tr>\n",
       "    <tr>\n",
       "      <th>Monthly_Bill</th>\n",
       "      <td>0.001110</td>\n",
       "      <td>-0.005294</td>\n",
       "      <td>1.000000</td>\n",
       "      <td>0.003187</td>\n",
       "      <td>-0.000211</td>\n",
       "    </tr>\n",
       "    <tr>\n",
       "      <th>Total_Usage_GB</th>\n",
       "      <td>0.001927</td>\n",
       "      <td>-0.002203</td>\n",
       "      <td>0.003187</td>\n",
       "      <td>1.000000</td>\n",
       "      <td>-0.002842</td>\n",
       "    </tr>\n",
       "    <tr>\n",
       "      <th>Churn</th>\n",
       "      <td>0.001559</td>\n",
       "      <td>0.002328</td>\n",
       "      <td>-0.000211</td>\n",
       "      <td>-0.002842</td>\n",
       "      <td>1.000000</td>\n",
       "    </tr>\n",
       "  </tbody>\n",
       "</table>\n",
       "</div>"
      ],
      "text/plain": [
       "                                 Age  Subscription_Length_Months  \\\n",
       "Age                         1.000000                    0.003382   \n",
       "Subscription_Length_Months  0.003382                    1.000000   \n",
       "Monthly_Bill                0.001110                   -0.005294   \n",
       "Total_Usage_GB              0.001927                   -0.002203   \n",
       "Churn                       0.001559                    0.002328   \n",
       "\n",
       "                            Monthly_Bill  Total_Usage_GB     Churn  \n",
       "Age                             0.001110        0.001927  0.001559  \n",
       "Subscription_Length_Months     -0.005294       -0.002203  0.002328  \n",
       "Monthly_Bill                    1.000000        0.003187 -0.000211  \n",
       "Total_Usage_GB                  0.003187        1.000000 -0.002842  \n",
       "Churn                          -0.000211       -0.002842  1.000000  "
      ]
     },
     "execution_count": 52,
     "metadata": {},
     "output_type": "execute_result"
    }
   ],
   "source": [
    "# Checking correlation between numerical variables\n",
    "df = df.select_dtypes(include=['float64', 'int64'])\n",
    "\n",
    "\n",
    "df.corr()"
   ]
  },
  {
   "cell_type": "code",
   "execution_count": 53,
   "id": "f29e0eb8",
   "metadata": {},
   "outputs": [
    {
     "data": {
      "image/png": "[encoded data removed]",
      "text/plain": [
       "<Figure size 1000x500 with 2 Axes>"
      ]
     },
     "metadata": {},
     "output_type": "display_data"
    }
   ],
   "source": [
    "corr_matrix = df.corr()\n",
    "plt.figure(figsize=(10,5)) #(width,height)\n",
    "sns.heatmap(corr_matrix, annot=True, cmap='coolwarm', square=True)\n",
    "plt.title('Correlation Matrix Heatmap')\n",
    "plt.show()"
   ]
  },
  {
   "cell_type": "markdown",
   "id": "9c6531a4",
   "metadata": {},
   "source": [
    "### `Age and Subscription Length` \n",
    "\n",
    "* **Age and subscription length have a very low positive correlation of approximately 0.0034.**\n",
    "\n",
    "\n",
    "* **This indicates that there is almost no linear relationship between a customer's age and the length of their subscription. It means customer's age does not have a strong impact on how long they stay subscribed.**\n",
    "\n",
    "\n",
    "### `Age and Monthly Bill`\n",
    "\n",
    "* **Age and monthly bill amount have an extremely low positive correlation of about 0.0011.**\n",
    "\n",
    "\n",
    "* **This suggests that there is almost no linear relationship between a customer's age and the amount they are billed monthly. It means customer's age does not have a strong impact on the amount they are billed monthly.**\n",
    "\n",
    "\n",
    "### `Age and Total Usage`\n",
    "\n",
    "* **Age and total usage in GB have a very low positive correlation of around 0.0019.**\n",
    "\n",
    "\n",
    "* **This implies that there is almost no linear relationship between a customer's age and the amount of data they use. it means  customer's age does not have a strong impact on how much data they use.**\n",
    "\n",
    "\n",
    "### `Age and Churn`\n",
    "\n",
    "* **Age and churn have a very low positive correlation of about 0.0016.**\n",
    "\n",
    "\n",
    "* **This means that there is almost no linear relationship between a customer's age and their likelihood to churn means customer's age is not a good predictor of whether they will churn.**\n",
    "\n",
    "\n",
    "### `Subscription Length and Monthly Bill`\n",
    "\n",
    "* **Subscription length and monthly bill amount have a very low negative correlation of approximately -0.0053.**\n",
    "\n",
    "\n",
    "* **There is a weak relationship between how long a customer has been subscribed and how much they pay each month.**\n",
    "\n",
    "\n",
    "### `Subscription Length and Total Usage`\n",
    "\n",
    "* **Subscription length and total usage have a very low negative correlation of around -0.0022.**\n",
    "\n",
    "\n",
    "* **This suggests that changes in subscription length are not strongly associated with changes in total data usage.**\n",
    "\n",
    "\n",
    "### `Subscription Length and Churn`\n",
    "\n",
    "* **Subscription length and churn have a very low positive correlation of about 0.0023.** \n",
    "\n",
    "\n",
    "* **There is almost no linear relationship between subscription length and churn behavior means length of a subscription does not have a strong impact on whether a customer churns.**\n",
    "\n",
    "\n",
    "### `Monthly Bill and Total Usage`\n",
    "\n",
    "* **Monthly bill amount and total usage have an extremely low positive correlation of about 0.0032.**\n",
    "\n",
    "\n",
    "* **This indicates that there is almost no linear relationship between a customer's monthly bill and their total data usage. It means the amount of data a customer uses does not have a strong impact on their monthly bill.**\n",
    "\n",
    "### `Monthly Bill and Churn`\n",
    "\n",
    "* **Monthly bill amount and churn have an extremely low negative correlation of approximately -0.0002.**\n",
    "\n",
    "\n",
    "* **This suggests that there is hardly any linear relationship between monthly bill amount and churn behavior.** \n",
    "\n",
    "\n",
    "* **The amount a customer is billed monthly does not have a strong impact on whether they churn.**\n",
    "\n",
    "### `Total Usage and Churn`\n",
    "\n",
    "* **Total usage and churn have a very low negative correlation of about -0.0028.**\n",
    "\n",
    "\n",
    "* **There is almost no linear relationship between a customer's data usage and their likelihood to churn.**\n",
    "\n",
    "\n",
    "* **The amount of data a customer uses does not have a strong impact on whether they churn.**"
   ]
  },
  {
   "cell_type": "code",
   "execution_count": 54,
   "id": "bb1f3054",
   "metadata": {},
   "outputs": [
    {
     "ename": "KeyError",
     "evalue": "\"['CustomerID', 'Name'] not found in axis\"",
     "output_type": "error",
     "traceback": [
      "\u001b[0;31m---------------------------------------------------------------------------\u001b[0m",
      "\u001b[0;31mKeyError\u001b[0m                                  Traceback (most recent call last)",
      "Cell \u001b[0;32mIn[54], line 1\u001b[0m\n\u001b[0;32m----> 1\u001b[0m \u001b[43mdf\u001b[49m\u001b[38;5;241;43m.\u001b[39;49m\u001b[43mdrop\u001b[49m\u001b[43m(\u001b[49m\u001b[43mcolumns\u001b[49m\u001b[38;5;241;43m=\u001b[39;49m\u001b[43m[\u001b[49m\u001b[38;5;124;43m'\u001b[39;49m\u001b[38;5;124;43mCustomerID\u001b[39;49m\u001b[38;5;124;43m'\u001b[39;49m\u001b[43m,\u001b[49m\u001b[43m \u001b[49m\u001b[38;5;124;43m'\u001b[39;49m\u001b[38;5;124;43mName\u001b[39;49m\u001b[38;5;124;43m'\u001b[39;49m\u001b[43m]\u001b[49m\u001b[43m,\u001b[49m\u001b[43maxis\u001b[49m\u001b[38;5;241;43m=\u001b[39;49m\u001b[38;5;241;43m1\u001b[39;49m\u001b[43m,\u001b[49m\u001b[43minplace\u001b[49m\u001b[38;5;241;43m=\u001b[39;49m\u001b[38;5;28;43;01mTrue\u001b[39;49;00m\u001b[43m)\u001b[49m\n",
      "File \u001b[0;32m~/Library/Python/3.9/lib/python/site-packages/pandas/core/frame.py:5581\u001b[0m, in \u001b[0;36mDataFrame.drop\u001b[0;34m(self, labels, axis, index, columns, level, inplace, errors)\u001b[0m\n\u001b[1;32m   5433\u001b[0m \u001b[38;5;28;01mdef\u001b[39;00m \u001b[38;5;21mdrop\u001b[39m(\n\u001b[1;32m   5434\u001b[0m     \u001b[38;5;28mself\u001b[39m,\n\u001b[1;32m   5435\u001b[0m     labels: IndexLabel \u001b[38;5;241m|\u001b[39m \u001b[38;5;28;01mNone\u001b[39;00m \u001b[38;5;241m=\u001b[39m \u001b[38;5;28;01mNone\u001b[39;00m,\n\u001b[0;32m   (...)\u001b[0m\n\u001b[1;32m   5442\u001b[0m     errors: IgnoreRaise \u001b[38;5;241m=\u001b[39m \u001b[38;5;124m\"\u001b[39m\u001b[38;5;124mraise\u001b[39m\u001b[38;5;124m\"\u001b[39m,\n\u001b[1;32m   5443\u001b[0m ) \u001b[38;5;241m-\u001b[39m\u001b[38;5;241m>\u001b[39m DataFrame \u001b[38;5;241m|\u001b[39m \u001b[38;5;28;01mNone\u001b[39;00m:\n\u001b[1;32m   5444\u001b[0m \u001b[38;5;250m    \u001b[39m\u001b[38;5;124;03m\"\"\"\u001b[39;00m\n\u001b[1;32m   5445\u001b[0m \u001b[38;5;124;03m    Drop specified labels from rows or columns.\u001b[39;00m\n\u001b[1;32m   5446\u001b[0m \n\u001b[0;32m   (...)\u001b[0m\n\u001b[1;32m   5579\u001b[0m \u001b[38;5;124;03m            weight  1.0     0.8\u001b[39;00m\n\u001b[1;32m   5580\u001b[0m \u001b[38;5;124;03m    \"\"\"\u001b[39;00m\n\u001b[0;32m-> 5581\u001b[0m     \u001b[38;5;28;01mreturn\u001b[39;00m \u001b[38;5;28;43msuper\u001b[39;49m\u001b[43m(\u001b[49m\u001b[43m)\u001b[49m\u001b[38;5;241;43m.\u001b[39;49m\u001b[43mdrop\u001b[49m\u001b[43m(\u001b[49m\n\u001b[1;32m   5582\u001b[0m \u001b[43m        \u001b[49m\u001b[43mlabels\u001b[49m\u001b[38;5;241;43m=\u001b[39;49m\u001b[43mlabels\u001b[49m\u001b[43m,\u001b[49m\n\u001b[1;32m   5583\u001b[0m \u001b[43m        \u001b[49m\u001b[43maxis\u001b[49m\u001b[38;5;241;43m=\u001b[39;49m\u001b[43maxis\u001b[49m\u001b[43m,\u001b[49m\n\u001b[1;32m   5584\u001b[0m \u001b[43m        \u001b[49m\u001b[43mindex\u001b[49m\u001b[38;5;241;43m=\u001b[39;49m\u001b[43mindex\u001b[49m\u001b[43m,\u001b[49m\n\u001b[1;32m   5585\u001b[0m \u001b[43m        \u001b[49m\u001b[43mcolumns\u001b[49m\u001b[38;5;241;43m=\u001b[39;49m\u001b[43mcolumns\u001b[49m\u001b[43m,\u001b[49m\n\u001b[1;32m   5586\u001b[0m \u001b[43m        \u001b[49m\u001b[43mlevel\u001b[49m\u001b[38;5;241;43m=\u001b[39;49m\u001b[43mlevel\u001b[49m\u001b[43m,\u001b[49m\n\u001b[1;32m   5587\u001b[0m \u001b[43m        \u001b[49m\u001b[43minplace\u001b[49m\u001b[38;5;241;43m=\u001b[39;49m\u001b[43minplace\u001b[49m\u001b[43m,\u001b[49m\n\u001b[1;32m   5588\u001b[0m \u001b[43m        \u001b[49m\u001b[43merrors\u001b[49m\u001b[38;5;241;43m=\u001b[39;49m\u001b[43merrors\u001b[49m\u001b[43m,\u001b[49m\n\u001b[1;32m   5589\u001b[0m \u001b[43m    \u001b[49m\u001b[43m)\u001b[49m\n",
      "File \u001b[0;32m~/Library/Python/3.9/lib/python/site-packages/pandas/core/generic.py:4788\u001b[0m, in \u001b[0;36mNDFrame.drop\u001b[0;34m(self, labels, axis, index, columns, level, inplace, errors)\u001b[0m\n\u001b[1;32m   4786\u001b[0m \u001b[38;5;28;01mfor\u001b[39;00m axis, labels \u001b[38;5;129;01min\u001b[39;00m axes\u001b[38;5;241m.\u001b[39mitems():\n\u001b[1;32m   4787\u001b[0m     \u001b[38;5;28;01mif\u001b[39;00m labels \u001b[38;5;129;01mis\u001b[39;00m \u001b[38;5;129;01mnot\u001b[39;00m \u001b[38;5;28;01mNone\u001b[39;00m:\n\u001b[0;32m-> 4788\u001b[0m         obj \u001b[38;5;241m=\u001b[39m \u001b[43mobj\u001b[49m\u001b[38;5;241;43m.\u001b[39;49m\u001b[43m_drop_axis\u001b[49m\u001b[43m(\u001b[49m\u001b[43mlabels\u001b[49m\u001b[43m,\u001b[49m\u001b[43m \u001b[49m\u001b[43maxis\u001b[49m\u001b[43m,\u001b[49m\u001b[43m \u001b[49m\u001b[43mlevel\u001b[49m\u001b[38;5;241;43m=\u001b[39;49m\u001b[43mlevel\u001b[49m\u001b[43m,\u001b[49m\u001b[43m \u001b[49m\u001b[43merrors\u001b[49m\u001b[38;5;241;43m=\u001b[39;49m\u001b[43merrors\u001b[49m\u001b[43m)\u001b[49m\n\u001b[1;32m   4790\u001b[0m \u001b[38;5;28;01mif\u001b[39;00m inplace:\n\u001b[1;32m   4791\u001b[0m     \u001b[38;5;28mself\u001b[39m\u001b[38;5;241m.\u001b[39m_update_inplace(obj)\n",
      "File \u001b[0;32m~/Library/Python/3.9/lib/python/site-packages/pandas/core/generic.py:4830\u001b[0m, in \u001b[0;36mNDFrame._drop_axis\u001b[0;34m(self, labels, axis, level, errors, only_slice)\u001b[0m\n\u001b[1;32m   4828\u001b[0m         new_axis \u001b[38;5;241m=\u001b[39m axis\u001b[38;5;241m.\u001b[39mdrop(labels, level\u001b[38;5;241m=\u001b[39mlevel, errors\u001b[38;5;241m=\u001b[39merrors)\n\u001b[1;32m   4829\u001b[0m     \u001b[38;5;28;01melse\u001b[39;00m:\n\u001b[0;32m-> 4830\u001b[0m         new_axis \u001b[38;5;241m=\u001b[39m \u001b[43maxis\u001b[49m\u001b[38;5;241;43m.\u001b[39;49m\u001b[43mdrop\u001b[49m\u001b[43m(\u001b[49m\u001b[43mlabels\u001b[49m\u001b[43m,\u001b[49m\u001b[43m \u001b[49m\u001b[43merrors\u001b[49m\u001b[38;5;241;43m=\u001b[39;49m\u001b[43merrors\u001b[49m\u001b[43m)\u001b[49m\n\u001b[1;32m   4831\u001b[0m     indexer \u001b[38;5;241m=\u001b[39m axis\u001b[38;5;241m.\u001b[39mget_indexer(new_axis)\n\u001b[1;32m   4833\u001b[0m \u001b[38;5;66;03m# Case for non-unique axis\u001b[39;00m\n\u001b[1;32m   4834\u001b[0m \u001b[38;5;28;01melse\u001b[39;00m:\n",
      "File \u001b[0;32m~/Library/Python/3.9/lib/python/site-packages/pandas/core/indexes/base.py:7070\u001b[0m, in \u001b[0;36mIndex.drop\u001b[0;34m(self, labels, errors)\u001b[0m\n\u001b[1;32m   7068\u001b[0m \u001b[38;5;28;01mif\u001b[39;00m mask\u001b[38;5;241m.\u001b[39many():\n\u001b[1;32m   7069\u001b[0m     \u001b[38;5;28;01mif\u001b[39;00m errors \u001b[38;5;241m!=\u001b[39m \u001b[38;5;124m\"\u001b[39m\u001b[38;5;124mignore\u001b[39m\u001b[38;5;124m\"\u001b[39m:\n\u001b[0;32m-> 7070\u001b[0m         \u001b[38;5;28;01mraise\u001b[39;00m \u001b[38;5;167;01mKeyError\u001b[39;00m(\u001b[38;5;124mf\u001b[39m\u001b[38;5;124m\"\u001b[39m\u001b[38;5;132;01m{\u001b[39;00mlabels[mask]\u001b[38;5;241m.\u001b[39mtolist()\u001b[38;5;132;01m}\u001b[39;00m\u001b[38;5;124m not found in axis\u001b[39m\u001b[38;5;124m\"\u001b[39m)\n\u001b[1;32m   7071\u001b[0m     indexer \u001b[38;5;241m=\u001b[39m indexer[\u001b[38;5;241m~\u001b[39mmask]\n\u001b[1;32m   7072\u001b[0m \u001b[38;5;28;01mreturn\u001b[39;00m \u001b[38;5;28mself\u001b[39m\u001b[38;5;241m.\u001b[39mdelete(indexer)\n",
      "\u001b[0;31mKeyError\u001b[0m: \"['CustomerID', 'Name'] not found in axis\""
     ]
    }
   ],
   "source": [
    "#df.drop(columns=['CustomerID', 'Name'],axis=1,inplace=True)"
   ]
  },
  {
   "cell_type": "code",
   "execution_count": 55,
   "id": "82275164",
   "metadata": {},
   "outputs": [
    {
     "data": {
      "text/plain": [
       "Index(['Age', 'Subscription_Length_Months', 'Monthly_Bill', 'Total_Usage_GB',\n",
       "       'Churn'],\n",
       "      dtype='object')"
      ]
     },
     "execution_count": 55,
     "metadata": {},
     "output_type": "execute_result"
    }
   ],
   "source": [
    "df.columns"
   ]
  },
  {
   "cell_type": "markdown",
   "id": "d88a955b",
   "metadata": {},
   "source": [
    "**Removed ['CustomerID' & 'Name'] variables becuase they are irrelevant for analysis. Now dataset left with 6 variables**"
   ]
  },
  {
   "cell_type": "code",
   "execution_count": 56,
   "id": "c306b752",
   "metadata": {},
   "outputs": [
    {
     "name": "stdout",
     "output_type": "stream",
     "text": [
      "Unique values in 'Age': [63 62 24 36 46 67 30 20 53 50 44 34 28 42 55 43 31 41 58 64 70 18 25 27\n",
      " 66 29 60 26 45 19 37 49 38 57 47 48 40 21 33 51 35 69 61 52 39 56 59 65\n",
      " 22 54 68 32 23]\n",
      "\n",
      "Unique values in 'Subscription_Length_Months': [17  1  5  3 19 15 10 12 20 13  8 23  2  4 18  9 14 16  6  7 24 22 11 21]\n",
      "\n",
      "Unique values in 'Monthly_Bill': [73.36 48.76 85.47 ... 75.21 41.98 83.55]\n",
      "\n",
      "Unique values in 'Total_Usage_GB': [236 172 460 297 266 456 269 396 150 383 442 295 148 239 233 231 198 354\n",
      " 429 243 270 389 226 393  89 183 135 185 151 115 194 278 423 202 495 162\n",
      " 101 294 122 305 212 220 253 411 447 218 221 166  64  67 391 232 298 334\n",
      " 326 459 371 299 376 214 329  50 444 113  76 134 184 319 235  85 332  73\n",
      " 369 308 446 321  83 114 296 102 215 169 225 140  84 463 402 468 375 366\n",
      " 404 471 204 320 178 149 361 304 281 177 117 137 322 427 403 237 439 336\n",
      " 344 288 257 196 365 419 111 192 244 287 395 213 109 286 283 230 491 274\n",
      " 335 462 407 126 199 351 261 496 480 400 303 197 181 474 348 112 457  54\n",
      " 397 100 318 242 327 476 256 241 466 438  51 165 120 493  59 188 339 167\n",
      " 301 209 311 190 345 284 390  72 258 358 136 280  55 309 388  52 478 401\n",
      " 472  65 163 488 497  71 216 229 271 223 263 255 145 203 372 443 306 307\n",
      " 386 448 377 482 324 357 187 394 123 106  80 211  78 499 498 424 325 119\n",
      " 143 153 437 492 406  69 272 352 125  82 160 333 104 247 405 353  63 289\n",
      "  88 346  91 385 380 431 364  79 300 374  86 290 265 433 469 453 224 421\n",
      " 251 485 180 171  95  93 350  58 200 420 132 428 479  96 103 129 417  99\n",
      " 430  75  53 382 412 268 410  94 315 387 116 489 108 208 313 127 222 451\n",
      "  56 139 282 138 141 156 373 157 467  68 414 360 144 273 217 189 118 155\n",
      "  62 413 154 458 449 490 464 379 254 131  92 195 450 347 191 425 432 384\n",
      "  57 494 173 210 363 130 487 455 105 399 323  61 341 426 240 302 176 152\n",
      " 331 440 276  87 291 193  90 500 170 174 182 359 408 454 158 328 436 312\n",
      " 338  60 362 205 416 483 415 477 484 252 250 164 146 161 234 473 317  77\n",
      " 267 342 110 343 133 330 367 147  81 277 310 392 349 314 107 259 228 168\n",
      " 246 219  98 121 142 238 206  97 381 245 175 124 292 340 316 465 470 475\n",
      " 248 445 452 249 337  66 418 201 227 422 481 355 279 435 275 260  70 186\n",
      " 159 368 179 262 370  74 378 128 461 293 441 434 207 356 398 285 409 486\n",
      " 264]\n",
      "\n",
      "Unique values in 'Churn': [0 1]\n",
      "\n",
      "--------------------------------------------------\n",
      "Missing values:\n",
      "Age                           0\n",
      "Subscription_Length_Months    0\n",
      "Monthly_Bill                  0\n",
      "Total_Usage_GB                0\n",
      "Churn                         0\n",
      "dtype: int64\n",
      "\n",
      "--------------------------------------------------\n",
      "Duplicate values: 1\n",
      "\n",
      "--------------------------------------------------\n",
      "Shape of Dataset: (100000, 5)\n",
      "\n",
      "--------------------------------------------------\n",
      "Columns of Datset: Index(['Age', 'Subscription_Length_Months', 'Monthly_Bill', 'Total_Usage_GB',\n",
      "       'Churn'],\n",
      "      dtype='object')\n",
      "\n",
      "--------------------------------------------------\n",
      "\n",
      "Data types:\n",
      "Age                             int64\n",
      "Subscription_Length_Months      int64\n",
      "Monthly_Bill                  float64\n",
      "Total_Usage_GB                  int64\n",
      "Churn                           int64\n",
      "dtype: object\n",
      "\n"
     ]
    }
   ],
   "source": [
    "# Check for typo's & suspicious values and rechecking dataset \n",
    "\n",
    "for column in df.columns:\n",
    "    unique_values = df[column].unique()\n",
    "    print(f\"Unique values in '{column}': {unique_values}\")\n",
    "    print()\n",
    "\n",
    "missing_values = df.isnull().sum()\n",
    "data_types = df.dtypes\n",
    "\n",
    "print('-'*50)\n",
    "print(\"Missing values:\")\n",
    "print(missing_values)\n",
    "print()\n",
    "\n",
    "x = df.duplicated().sum()\n",
    "print('-'*50)\n",
    "print(\"Duplicate values:\", x)\n",
    "print()\n",
    "\n",
    "\n",
    "y = df.shape\n",
    "print('-'*50)\n",
    "print(\"Shape of Dataset:\", y)\n",
    "print()\n",
    "\n",
    "z = df.columns\n",
    "print('-'*50)\n",
    "print(\"Columns of Datset:\", z)\n",
    "print()\n",
    "\n",
    "print('-'*50)\n",
    "print(\"\\nData types:\")\n",
    "print(data_types)\n",
    "print()"
   ]
  },
  {
   "cell_type": "markdown",
   "id": "cbb7859c",
   "metadata": {},
   "source": [
    "**The dataset has been cleaned and no suspicious values or typos have been found.**"
   ]
  },
  {
   "cell_type": "markdown",
   "id": "8e9a9a41",
   "metadata": {},
   "source": [
    "# `Outliers Treatment`\n",
    "\n",
    "It is important to find and remove unusual or extreme data points, also known as outliers. Outliers can affect the model's understanding of the data and lead to wrong predictions. By identifying and removing outliers, the model becomes more accurate and reliable, and can better capture the actual patterns in the data."
   ]
  },
  {
   "cell_type": "code",
   "execution_count": 57,
   "id": "e1f660d4",
   "metadata": {},
   "outputs": [
    {
     "data": {
      "image/png": "[encoded data removed]",
      "text/plain": [
       "<Figure size 500x600 with 1 Axes>"
      ]
     },
     "metadata": {},
     "output_type": "display_data"
    }
   ],
   "source": [
    "# Adjust figure size based on the number of columns\n",
    "num_columns = len(df.columns)\n",
    "fig, ax = plt.subplots(figsize=(10, 6))\n",
    "if num_columns > 16:\n",
    "    fig.set_size_inches(10, num_columns * 0.6)\n",
    "else:\n",
    "    fig.set_size_inches(num_columns, 6)\n",
    "\n",
    "# Create a boxplot for each column\n",
    "df.boxplot(ax=ax)\n",
    "\n",
    "# Set the title and labels\n",
    "plt.title(\"Boxplot of Columns\")\n",
    "plt.xlabel(\"Columns\")\n",
    "plt.ylabel(\"Values\")\n",
    "\n",
    "# Rotate the x-axis labels for better readability (optional)\n",
    "plt.xticks(rotation=90)\n",
    "\n",
    "# Show the plot\n",
    "plt.show()"
   ]
  },
  {
   "cell_type": "markdown",
   "id": "8f3de4af",
   "metadata": {},
   "source": [
    "**There is no outlier present in any of the variable.**"
   ]
  },
  {
   "cell_type": "code",
   "execution_count": 58,
   "id": "6193a6bf",
   "metadata": {},
   "outputs": [],
   "source": [
    "# Make a copy of cleaned data\n",
    "\n",
    "df_cleaned = df.copy()"
   ]
  },
  {
   "cell_type": "markdown",
   "id": "b09da425",
   "metadata": {},
   "source": [
    "# `Feature Encoding`\n",
    "\n",
    "Feature encoding techniques converts categorical data (like labels) into numbers that algorithms understand. This is essential because algorithms work with numbers, ensuring valuable info from categories isn't lost."
   ]
  },
  {
   "cell_type": "code",
   "execution_count": 59,
   "id": "868b4e5d",
   "metadata": {},
   "outputs": [
    {
     "data": {
      "text/plain": [
       "Index([], dtype='object')"
      ]
     },
     "execution_count": 59,
     "metadata": {},
     "output_type": "execute_result"
    }
   ],
   "source": [
    "categorical_columns = df.select_dtypes(include=['object']).columns\n",
    "categorical_columns"
   ]
  },
  {
   "cell_type": "markdown",
   "id": "b68a4328",
   "metadata": {},
   "source": [
    "**There are two variables, which needs to be encode.**"
   ]
  },
  {
   "cell_type": "code",
   "execution_count": 61,
   "id": "6a7d7273",
   "metadata": {},
   "outputs": [
    {
     "ename": "KeyError",
     "evalue": "\"None of [Index(['Gender', 'Location'], dtype='object')] are in the [columns]\"",
     "output_type": "error",
     "traceback": [
      "\u001b[0;31m---------------------------------------------------------------------------\u001b[0m",
      "\u001b[0;31mKeyError\u001b[0m                                  Traceback (most recent call last)",
      "Cell \u001b[0;32mIn[61], line 1\u001b[0m\n\u001b[0;32m----> 1\u001b[0m df \u001b[38;5;241m=\u001b[39m \u001b[43mpd\u001b[49m\u001b[38;5;241;43m.\u001b[39;49m\u001b[43mget_dummies\u001b[49m\u001b[43m(\u001b[49m\u001b[43mdf\u001b[49m\u001b[43m,\u001b[49m\u001b[43m \u001b[49m\u001b[43mcolumns\u001b[49m\u001b[38;5;241;43m=\u001b[39;49m\u001b[43m[\u001b[49m\u001b[38;5;124;43m'\u001b[39;49m\u001b[38;5;124;43mGender\u001b[39;49m\u001b[38;5;124;43m'\u001b[39;49m\u001b[43m,\u001b[49m\u001b[43m \u001b[49m\u001b[38;5;124;43m'\u001b[39;49m\u001b[38;5;124;43mLocation\u001b[39;49m\u001b[38;5;124;43m'\u001b[39;49m\u001b[43m]\u001b[49m\u001b[43m,\u001b[49m\u001b[43m \u001b[49m\u001b[43mdrop_first\u001b[49m\u001b[43m \u001b[49m\u001b[38;5;241;43m=\u001b[39;49m\u001b[43m \u001b[49m\u001b[38;5;28;43;01mTrue\u001b[39;49;00m\u001b[43m)\u001b[49m\n",
      "File \u001b[0;32m~/Library/Python/3.9/lib/python/site-packages/pandas/core/reshape/encoding.py:169\u001b[0m, in \u001b[0;36mget_dummies\u001b[0;34m(data, prefix, prefix_sep, dummy_na, columns, sparse, drop_first, dtype)\u001b[0m\n\u001b[1;32m    167\u001b[0m     \u001b[38;5;28;01mraise\u001b[39;00m \u001b[38;5;167;01mTypeError\u001b[39;00m(\u001b[38;5;124m\"\u001b[39m\u001b[38;5;124mInput must be a list-like for parameter `columns`\u001b[39m\u001b[38;5;124m\"\u001b[39m)\n\u001b[1;32m    168\u001b[0m \u001b[38;5;28;01melse\u001b[39;00m:\n\u001b[0;32m--> 169\u001b[0m     data_to_encode \u001b[38;5;241m=\u001b[39m \u001b[43mdata\u001b[49m\u001b[43m[\u001b[49m\u001b[43mcolumns\u001b[49m\u001b[43m]\u001b[49m\n\u001b[1;32m    171\u001b[0m \u001b[38;5;66;03m# validate prefixes and separator to avoid silently dropping cols\u001b[39;00m\n\u001b[1;32m    172\u001b[0m \u001b[38;5;28;01mdef\u001b[39;00m \u001b[38;5;21mcheck_len\u001b[39m(item, name: \u001b[38;5;28mstr\u001b[39m):\n",
      "File \u001b[0;32m~/Library/Python/3.9/lib/python/site-packages/pandas/core/frame.py:4108\u001b[0m, in \u001b[0;36mDataFrame.__getitem__\u001b[0;34m(self, key)\u001b[0m\n\u001b[1;32m   4106\u001b[0m     \u001b[38;5;28;01mif\u001b[39;00m is_iterator(key):\n\u001b[1;32m   4107\u001b[0m         key \u001b[38;5;241m=\u001b[39m \u001b[38;5;28mlist\u001b[39m(key)\n\u001b[0;32m-> 4108\u001b[0m     indexer \u001b[38;5;241m=\u001b[39m \u001b[38;5;28;43mself\u001b[39;49m\u001b[38;5;241;43m.\u001b[39;49m\u001b[43mcolumns\u001b[49m\u001b[38;5;241;43m.\u001b[39;49m\u001b[43m_get_indexer_strict\u001b[49m\u001b[43m(\u001b[49m\u001b[43mkey\u001b[49m\u001b[43m,\u001b[49m\u001b[43m \u001b[49m\u001b[38;5;124;43m\"\u001b[39;49m\u001b[38;5;124;43mcolumns\u001b[39;49m\u001b[38;5;124;43m\"\u001b[39;49m\u001b[43m)\u001b[49m[\u001b[38;5;241m1\u001b[39m]\n\u001b[1;32m   4110\u001b[0m \u001b[38;5;66;03m# take() does not accept boolean indexers\u001b[39;00m\n\u001b[1;32m   4111\u001b[0m \u001b[38;5;28;01mif\u001b[39;00m \u001b[38;5;28mgetattr\u001b[39m(indexer, \u001b[38;5;124m\"\u001b[39m\u001b[38;5;124mdtype\u001b[39m\u001b[38;5;124m\"\u001b[39m, \u001b[38;5;28;01mNone\u001b[39;00m) \u001b[38;5;241m==\u001b[39m \u001b[38;5;28mbool\u001b[39m:\n",
      "File \u001b[0;32m~/Library/Python/3.9/lib/python/site-packages/pandas/core/indexes/base.py:6200\u001b[0m, in \u001b[0;36mIndex._get_indexer_strict\u001b[0;34m(self, key, axis_name)\u001b[0m\n\u001b[1;32m   6197\u001b[0m \u001b[38;5;28;01melse\u001b[39;00m:\n\u001b[1;32m   6198\u001b[0m     keyarr, indexer, new_indexer \u001b[38;5;241m=\u001b[39m \u001b[38;5;28mself\u001b[39m\u001b[38;5;241m.\u001b[39m_reindex_non_unique(keyarr)\n\u001b[0;32m-> 6200\u001b[0m \u001b[38;5;28;43mself\u001b[39;49m\u001b[38;5;241;43m.\u001b[39;49m\u001b[43m_raise_if_missing\u001b[49m\u001b[43m(\u001b[49m\u001b[43mkeyarr\u001b[49m\u001b[43m,\u001b[49m\u001b[43m \u001b[49m\u001b[43mindexer\u001b[49m\u001b[43m,\u001b[49m\u001b[43m \u001b[49m\u001b[43maxis_name\u001b[49m\u001b[43m)\u001b[49m\n\u001b[1;32m   6202\u001b[0m keyarr \u001b[38;5;241m=\u001b[39m \u001b[38;5;28mself\u001b[39m\u001b[38;5;241m.\u001b[39mtake(indexer)\n\u001b[1;32m   6203\u001b[0m \u001b[38;5;28;01mif\u001b[39;00m \u001b[38;5;28misinstance\u001b[39m(key, Index):\n\u001b[1;32m   6204\u001b[0m     \u001b[38;5;66;03m# GH 42790 - Preserve name from an Index\u001b[39;00m\n",
      "File \u001b[0;32m~/Library/Python/3.9/lib/python/site-packages/pandas/core/indexes/base.py:6249\u001b[0m, in \u001b[0;36mIndex._raise_if_missing\u001b[0;34m(self, key, indexer, axis_name)\u001b[0m\n\u001b[1;32m   6247\u001b[0m \u001b[38;5;28;01mif\u001b[39;00m nmissing:\n\u001b[1;32m   6248\u001b[0m     \u001b[38;5;28;01mif\u001b[39;00m nmissing \u001b[38;5;241m==\u001b[39m \u001b[38;5;28mlen\u001b[39m(indexer):\n\u001b[0;32m-> 6249\u001b[0m         \u001b[38;5;28;01mraise\u001b[39;00m \u001b[38;5;167;01mKeyError\u001b[39;00m(\u001b[38;5;124mf\u001b[39m\u001b[38;5;124m\"\u001b[39m\u001b[38;5;124mNone of [\u001b[39m\u001b[38;5;132;01m{\u001b[39;00mkey\u001b[38;5;132;01m}\u001b[39;00m\u001b[38;5;124m] are in the [\u001b[39m\u001b[38;5;132;01m{\u001b[39;00maxis_name\u001b[38;5;132;01m}\u001b[39;00m\u001b[38;5;124m]\u001b[39m\u001b[38;5;124m\"\u001b[39m)\n\u001b[1;32m   6251\u001b[0m     not_found \u001b[38;5;241m=\u001b[39m \u001b[38;5;28mlist\u001b[39m(ensure_index(key)[missing_mask\u001b[38;5;241m.\u001b[39mnonzero()[\u001b[38;5;241m0\u001b[39m]]\u001b[38;5;241m.\u001b[39munique())\n\u001b[1;32m   6252\u001b[0m     \u001b[38;5;28;01mraise\u001b[39;00m \u001b[38;5;167;01mKeyError\u001b[39;00m(\u001b[38;5;124mf\u001b[39m\u001b[38;5;124m\"\u001b[39m\u001b[38;5;132;01m{\u001b[39;00mnot_found\u001b[38;5;132;01m}\u001b[39;00m\u001b[38;5;124m not in index\u001b[39m\u001b[38;5;124m\"\u001b[39m)\n",
      "\u001b[0;31mKeyError\u001b[0m: \"None of [Index(['Gender', 'Location'], dtype='object')] are in the [columns]\""
     ]
    }
   ],
   "source": [
    "df = pd.get_dummies(df, columns=['Gender', 'Location'], drop_first = True)"
   ]
  },
  {
   "cell_type": "code",
   "execution_count": 62,
   "id": "a2bdab30",
   "metadata": {},
   "outputs": [
    {
     "data": {
      "text/html": [
       "<div>\n",
       "<style scoped>\n",
       "    .dataframe tbody tr th:only-of-type {\n",
       "        vertical-align: middle;\n",
       "    }\n",
       "\n",
       "    .dataframe tbody tr th {\n",
       "        vertical-align: top;\n",
       "    }\n",
       "\n",
       "    .dataframe thead th {\n",
       "        text-align: right;\n",
       "    }\n",
       "</style>\n",
       "<table border=\"1\" class=\"dataframe\">\n",
       "  <thead>\n",
       "    <tr style=\"text-align: right;\">\n",
       "      <th></th>\n",
       "      <th>Age</th>\n",
       "      <th>Subscription_Length_Months</th>\n",
       "      <th>Monthly_Bill</th>\n",
       "      <th>Total_Usage_GB</th>\n",
       "      <th>Churn</th>\n",
       "    </tr>\n",
       "  </thead>\n",
       "  <tbody>\n",
       "    <tr>\n",
       "      <th>0</th>\n",
       "      <td>63</td>\n",
       "      <td>17</td>\n",
       "      <td>73.36</td>\n",
       "      <td>236</td>\n",
       "      <td>0</td>\n",
       "    </tr>\n",
       "    <tr>\n",
       "      <th>1</th>\n",
       "      <td>62</td>\n",
       "      <td>1</td>\n",
       "      <td>48.76</td>\n",
       "      <td>172</td>\n",
       "      <td>0</td>\n",
       "    </tr>\n",
       "    <tr>\n",
       "      <th>2</th>\n",
       "      <td>24</td>\n",
       "      <td>5</td>\n",
       "      <td>85.47</td>\n",
       "      <td>460</td>\n",
       "      <td>0</td>\n",
       "    </tr>\n",
       "    <tr>\n",
       "      <th>3</th>\n",
       "      <td>36</td>\n",
       "      <td>3</td>\n",
       "      <td>97.94</td>\n",
       "      <td>297</td>\n",
       "      <td>1</td>\n",
       "    </tr>\n",
       "    <tr>\n",
       "      <th>4</th>\n",
       "      <td>46</td>\n",
       "      <td>19</td>\n",
       "      <td>58.14</td>\n",
       "      <td>266</td>\n",
       "      <td>0</td>\n",
       "    </tr>\n",
       "  </tbody>\n",
       "</table>\n",
       "</div>"
      ],
      "text/plain": [
       "   Age  Subscription_Length_Months  Monthly_Bill  Total_Usage_GB  Churn\n",
       "0   63                          17         73.36             236      0\n",
       "1   62                           1         48.76             172      0\n",
       "2   24                           5         85.47             460      0\n",
       "3   36                           3         97.94             297      1\n",
       "4   46                          19         58.14             266      0"
      ]
     },
     "execution_count": 62,
     "metadata": {},
     "output_type": "execute_result"
    }
   ],
   "source": [
    "df.head()"
   ]
  },
  {
   "cell_type": "markdown",
   "id": "3536f146",
   "metadata": {},
   "source": [
    "**Here I apply One Hot Encoding becuase both variables have less number of categories.**"
   ]
  },
  {
   "cell_type": "code",
   "execution_count": 63,
   "id": "3e7ce710",
   "metadata": {},
   "outputs": [
    {
     "name": "stdout",
     "output_type": "stream",
     "text": [
      "<class 'pandas.core.frame.DataFrame'>\n",
      "RangeIndex: 100000 entries, 0 to 99999\n",
      "Data columns (total 5 columns):\n",
      " #   Column                      Non-Null Count   Dtype  \n",
      "---  ------                      --------------   -----  \n",
      " 0   Age                         100000 non-null  int64  \n",
      " 1   Subscription_Length_Months  100000 non-null  int64  \n",
      " 2   Monthly_Bill                100000 non-null  float64\n",
      " 3   Total_Usage_GB              100000 non-null  int64  \n",
      " 4   Churn                       100000 non-null  int64  \n",
      "dtypes: float64(1), int64(4)\n",
      "memory usage: 3.8 MB\n"
     ]
    }
   ],
   "source": [
    "df.info()"
   ]
  },
  {
   "cell_type": "markdown",
   "id": "004d0106",
   "metadata": {},
   "source": [
    "**Data types of all variables is fine.**"
   ]
  },
  {
   "cell_type": "markdown",
   "id": "23e3847f",
   "metadata": {},
   "source": [
    "# `Checking Distribution of data`\n",
    "\n",
    "* In machine learning, it is important to check how the data is spread across different values. This is called the distribution of data.\n",
    "\n",
    "\n",
    "* If the data is skewed, meaning that there are more data points in one area than others, it can affect the performance of our models. For example, if the data is skewed towards the majority class, the model might perform well on the majority class but poorly on the minority class.\n",
    "\n",
    "\n",
    "* By understanding the data distribution, we can choose appropriate strategies to handle imbalances, outliers, or other issues. This will ensure that our model works well across all scenarios and accurately represents the underlying patterns in the data."
   ]
  },
  {
   "cell_type": "code",
   "execution_count": 64,
   "id": "252af253",
   "metadata": {},
   "outputs": [
    {
     "data": {
      "text/plain": [
       "(100000, 5)"
      ]
     },
     "execution_count": 64,
     "metadata": {},
     "output_type": "execute_result"
    }
   ],
   "source": [
    "df.shape"
   ]
  },
  {
   "cell_type": "code",
   "execution_count": 65,
   "id": "5dc90af4",
   "metadata": {},
   "outputs": [
    {
     "name": "stdout",
     "output_type": "stream",
     "text": [
      "Number of bins according to Sturges' Rule: 17\n"
     ]
    }
   ],
   "source": [
    "# Select appropriate bin size using sturges_rule\n",
    "\n",
    "import math\n",
    "\n",
    "def sturges_rule(num_data_points):\n",
    "    k = 1 + math.log2(num_data_points)\n",
    "    return int(k)\n",
    "\n",
    "# Example usage\n",
    "num_data_points = 100000\n",
    "bins = sturges_rule(num_data_points)\n",
    "print(\"Number of bins according to Sturges' Rule:\", bins)"
   ]
  },
  {
   "cell_type": "code",
   "execution_count": 66,
   "id": "1b92b6a7",
   "metadata": {},
   "outputs": [
    {
     "data": {
      "image/png": "[encoded data removed]",
      "text/plain": [
       "<Figure size 600x400 with 1 Axes>"
      ]
     },
     "metadata": {},
     "output_type": "display_data"
    },
    {
     "data": {
      "image/png": "[encoded data removed]",
      "text/plain": [
       "<Figure size 600x400 with 1 Axes>"
      ]
     },
     "metadata": {},
     "output_type": "display_data"
    },
    {
     "data": {
      "image/png": "[encoded data removed]",
      "text/plain": [
       "<Figure size 600x400 with 1 Axes>"
      ]
     },
     "metadata": {},
     "output_type": "display_data"
    },
    {
     "data": {
      "image/png": "[encoded data removed]",
      "text/plain": [
       "<Figure size 600x400 with 1 Axes>"
      ]
     },
     "metadata": {},
     "output_type": "display_data"
    }
   ],
   "source": [
    "# check distribution of all continuous variables\n",
    "continuous_vars = df.select_dtypes(include=['float64', 'int64']).columns\n",
    "\n",
    "# Exclude binary variables from the list\n",
    "binary_vars = [var for var in continuous_vars if df[var].nunique() == 2]\n",
    "\n",
    "# Exclude binary variables from the continuous variables\n",
    "continuous_vars = [var for var in continuous_vars if var not in binary_vars]\n",
    "\n",
    "# Plot the distribution of each continuous variable\n",
    "for var in continuous_vars:\n",
    "    plt.figure(figsize=(6, 4))\n",
    "    sns.histplot(data=df, x=var, bins=17, kde=True)\n",
    "    plt.xlabel(var)\n",
    "    plt.ylabel('Frequency')\n",
    "    plt.title(f'Distribution of {var}')\n",
    "    plt.show()"
   ]
  },
  {
   "cell_type": "code",
   "execution_count": null,
   "id": "8bd2974f",
   "metadata": {},
   "outputs": [
    {
     "data": {
      "text/plain": [
       "Age                          -0.002689\n",
       "Subscription_Length_Months   -0.001655\n",
       "Monthly_Bill                 -0.000326\n",
       "Total_Usage_GB                0.007113\n",
       "dtype: float64"
      ]
     },
     "execution_count": 27,
     "metadata": {},
     "output_type": "execute_result"
    }
   ],
   "source": [
    "# check skewness of all continuous variables\n",
    "df[continuous_vars].skew()"
   ]
  },
  {
   "cell_type": "markdown",
   "id": "5b766e7a",
   "metadata": {},
   "source": [
    "**All variables are approx normally distributed.**"
   ]
  },
  {
   "cell_type": "markdown",
   "id": "f0e2fd60",
   "metadata": {},
   "source": [
    "# `Check colinearity between variables`\n",
    "\n",
    "* In machine learning, it is important to check if there are variables that are highly correlated with each other. If there are, then we should remove one of them to improve the stability and interpretability of the model.\n",
    "\n",
    "\n",
    "* Highly correlated variables are redundant, meaning that they provide the same information. This can cause the model to give too much importance to one variable, leading to overfitting. Overfitting is when the model learns the training data too well and does not generalize well to new data.\n",
    "\n",
    "\n",
    "* By removing highly correlated variables, we can make the model focus on distinct and meaningful information. This makes the model more reliable and understandable. It also helps to prevent multicollinearity, which is a problem that can distort the model's predictions and insights."
   ]
  },
  {
   "cell_type": "code",
   "execution_count": 67,
   "id": "b36ffdb4",
   "metadata": {},
   "outputs": [
    {
     "data": {
      "image/png": "[encoded data removed]",
      "text/plain": [
       "<Figure size 1400x800 with 2 Axes>"
      ]
     },
     "metadata": {},
     "output_type": "display_data"
    }
   ],
   "source": [
    "#checking colinearity between variables\n",
    "\n",
    "corr_matrix = df.corr()\n",
    "\n",
    "plt.figure(figsize=(14,8)) #(width,height)\n",
    "sns.heatmap(corr_matrix, annot=True, cmap='coolwarm', square=True)\n",
    "plt.title('Correlation Matrix Heatmap')\n",
    "plt.show()"
   ]
  },
  {
   "cell_type": "markdown",
   "id": "ebb5a9f9",
   "metadata": {},
   "source": [
    "**No pair of variable is highly corrleated.**"
   ]
  },
  {
   "cell_type": "markdown",
   "id": "4305d7b8",
   "metadata": {},
   "source": [
    "# `Diving data into train and test set` "
   ]
  },
  {
   "cell_type": "code",
   "execution_count": 68,
   "id": "03a06ca8",
   "metadata": {},
   "outputs": [],
   "source": [
    "x = df.drop(\"Churn\",axis=1)\n",
    "y = df['Churn']"
   ]
  },
  {
   "cell_type": "code",
   "execution_count": 69,
   "id": "3b609f9b",
   "metadata": {},
   "outputs": [],
   "source": [
    "from sklearn.model_selection import train_test_split\n",
    "\n",
    "X_train, X_test, y_train, y_test = train_test_split(x, y, test_size=0.3, random_state=42)"
   ]
  },
  {
   "cell_type": "markdown",
   "id": "ae6f0cc2",
   "metadata": {},
   "source": [
    "**Take 70% data for training and 30% for testing.**"
   ]
  },
  {
   "cell_type": "code",
   "execution_count": 70,
   "id": "7ac957d2",
   "metadata": {},
   "outputs": [
    {
     "data": {
      "text/plain": [
       "((70000, 4), (70000,))"
      ]
     },
     "execution_count": 70,
     "metadata": {},
     "output_type": "execute_result"
    }
   ],
   "source": [
    "X_train.shape, y_train.shape"
   ]
  },
  {
   "cell_type": "code",
   "execution_count": 71,
   "id": "de22f658",
   "metadata": {},
   "outputs": [
    {
     "data": {
      "text/plain": [
       "((30000, 4), (30000,))"
      ]
     },
     "execution_count": 71,
     "metadata": {},
     "output_type": "execute_result"
    }
   ],
   "source": [
    "X_test.shape, y_test.shape"
   ]
  },
  {
   "cell_type": "markdown",
   "id": "51bb2d34",
   "metadata": {},
   "source": [
    "# `Feature Scaling` \n",
    "\n",
    "* In machine learning, it is important to make sure that all features are on the same scale. This is called feature scaling.\n",
    "\n",
    "\n",
    "* Feature scaling is important because it ensures that no single feature dominates the learning process. This is because many machine learning algorithms use distance-based calculations, and if features are on different scales, those with larger values could disproportionately influence the results.\n",
    "\n",
    "\n",
    "* Feature scaling also helps to improve the convergence of gradient-based optimization algorithms, which can lead to faster training.\n",
    "\n",
    "\n",
    "* By scaling features, we create a balanced playing field for each feature. This allows the algorithm to make fair and accurate comparisons, which can lead to better model performance."
   ]
  },
  {
   "cell_type": "code",
   "execution_count": 72,
   "id": "244aeef4",
   "metadata": {},
   "outputs": [
    {
     "data": {
      "text/html": [
       "<div>\n",
       "<style scoped>\n",
       "    .dataframe tbody tr th:only-of-type {\n",
       "        vertical-align: middle;\n",
       "    }\n",
       "\n",
       "    .dataframe tbody tr th {\n",
       "        vertical-align: top;\n",
       "    }\n",
       "\n",
       "    .dataframe thead th {\n",
       "        text-align: right;\n",
       "    }\n",
       "</style>\n",
       "<table border=\"1\" class=\"dataframe\">\n",
       "  <thead>\n",
       "    <tr style=\"text-align: right;\">\n",
       "      <th></th>\n",
       "      <th>Age</th>\n",
       "      <th>Subscription_Length_Months</th>\n",
       "      <th>Monthly_Bill</th>\n",
       "      <th>Total_Usage_GB</th>\n",
       "      <th>Churn</th>\n",
       "    </tr>\n",
       "  </thead>\n",
       "  <tbody>\n",
       "    <tr>\n",
       "      <th>0</th>\n",
       "      <td>63</td>\n",
       "      <td>17</td>\n",
       "      <td>73.36</td>\n",
       "      <td>236</td>\n",
       "      <td>0</td>\n",
       "    </tr>\n",
       "    <tr>\n",
       "      <th>1</th>\n",
       "      <td>62</td>\n",
       "      <td>1</td>\n",
       "      <td>48.76</td>\n",
       "      <td>172</td>\n",
       "      <td>0</td>\n",
       "    </tr>\n",
       "    <tr>\n",
       "      <th>2</th>\n",
       "      <td>24</td>\n",
       "      <td>5</td>\n",
       "      <td>85.47</td>\n",
       "      <td>460</td>\n",
       "      <td>0</td>\n",
       "    </tr>\n",
       "    <tr>\n",
       "      <th>3</th>\n",
       "      <td>36</td>\n",
       "      <td>3</td>\n",
       "      <td>97.94</td>\n",
       "      <td>297</td>\n",
       "      <td>1</td>\n",
       "    </tr>\n",
       "    <tr>\n",
       "      <th>4</th>\n",
       "      <td>46</td>\n",
       "      <td>19</td>\n",
       "      <td>58.14</td>\n",
       "      <td>266</td>\n",
       "      <td>0</td>\n",
       "    </tr>\n",
       "  </tbody>\n",
       "</table>\n",
       "</div>"
      ],
      "text/plain": [
       "   Age  Subscription_Length_Months  Monthly_Bill  Total_Usage_GB  Churn\n",
       "0   63                          17         73.36             236      0\n",
       "1   62                           1         48.76             172      0\n",
       "2   24                           5         85.47             460      0\n",
       "3   36                           3         97.94             297      1\n",
       "4   46                          19         58.14             266      0"
      ]
     },
     "execution_count": 72,
     "metadata": {},
     "output_type": "execute_result"
    }
   ],
   "source": [
    "df.head()"
   ]
  },
  {
   "cell_type": "code",
   "execution_count": 73,
   "id": "d0cfed04",
   "metadata": {},
   "outputs": [
    {
     "name": "stdout",
     "output_type": "stream",
     "text": [
      "Columns with values greater than 1 or less than 0:\n",
      "['Age', 'Subscription_Length_Months', 'Monthly_Bill', 'Total_Usage_GB']\n"
     ]
    }
   ],
   "source": [
    "columns_to_check = df.columns\n",
    "columns_needs_to_be_scaled = []\n",
    "\n",
    "for column in columns_to_check:\n",
    "    if (df[column] > 1).any() or (df[column] < 0).any():\n",
    "        columns_needs_to_be_scaled.append(column)\n",
    "\n",
    "print(\"Columns with values greater than 1 or less than 0:\")\n",
    "print(columns_needs_to_be_scaled)"
   ]
  },
  {
   "cell_type": "markdown",
   "id": "9f05c1f9",
   "metadata": {},
   "source": [
    "**These four columns need scaling, ['Age', 'Subscription_Length_Months', 'Monthly_Bill', 'Total_Usage_GB']. I decide to use MinMax Scaler becuase majority of variables in binary.**"
   ]
  },
  {
   "cell_type": "code",
   "execution_count": 75,
   "id": "f39c5dbe",
   "metadata": {},
   "outputs": [],
   "source": [
    "from sklearn.preprocessing import MinMaxScaler\n",
    "\n",
    "columns_to_scale = ['Age', 'Subscription_Length_Months', 'Monthly_Bill', 'Total_Usage_GB']\n",
    "\n",
    "scaler = MinMaxScaler()\n",
    "\n",
    "X_train[columns_to_scale] = scaler.fit_transform(X_train[columns_to_scale])\n",
    "\n",
    "X_test[columns_to_scale] = scaler.transform(X_test[columns_to_scale])"
   ]
  },
  {
   "cell_type": "markdown",
   "id": "4edb5d53",
   "metadata": {},
   "source": [
    "* We use the .fit_transform() method on training data to calculate the scaling parameters (such as mean and standard deviation) and then apply the transformation. This ensures that the training data is scaled properly.\n",
    "\n",
    "\n",
    "* However, we use the .transform() method on test data because we do not want to change the scaling parameters based on the test data. Instead, we want to apply the same scaling that was learned from the training data. This maintains the consistency of scaling between training and testing data, which is more realistic and prevents the model from learning information from the test data during training."
   ]
  },
  {
   "cell_type": "code",
   "execution_count": 76,
   "id": "cef1ac85",
   "metadata": {},
   "outputs": [
    {
     "data": {
      "text/html": [
       "<div>\n",
       "<style scoped>\n",
       "    .dataframe tbody tr th:only-of-type {\n",
       "        vertical-align: middle;\n",
       "    }\n",
       "\n",
       "    .dataframe tbody tr th {\n",
       "        vertical-align: top;\n",
       "    }\n",
       "\n",
       "    .dataframe thead th {\n",
       "        text-align: right;\n",
       "    }\n",
       "</style>\n",
       "<table border=\"1\" class=\"dataframe\">\n",
       "  <thead>\n",
       "    <tr style=\"text-align: right;\">\n",
       "      <th></th>\n",
       "      <th>Age</th>\n",
       "      <th>Subscription_Length_Months</th>\n",
       "      <th>Monthly_Bill</th>\n",
       "      <th>Total_Usage_GB</th>\n",
       "    </tr>\n",
       "  </thead>\n",
       "  <tbody>\n",
       "    <tr>\n",
       "      <th>76513</th>\n",
       "      <td>0.134615</td>\n",
       "      <td>0.521739</td>\n",
       "      <td>0.973425</td>\n",
       "      <td>0.928889</td>\n",
       "    </tr>\n",
       "    <tr>\n",
       "      <th>60406</th>\n",
       "      <td>0.692308</td>\n",
       "      <td>0.043478</td>\n",
       "      <td>0.598657</td>\n",
       "      <td>0.740000</td>\n",
       "    </tr>\n",
       "    <tr>\n",
       "      <th>27322</th>\n",
       "      <td>0.269231</td>\n",
       "      <td>0.826087</td>\n",
       "      <td>0.509358</td>\n",
       "      <td>0.837778</td>\n",
       "    </tr>\n",
       "    <tr>\n",
       "      <th>53699</th>\n",
       "      <td>0.826923</td>\n",
       "      <td>0.478261</td>\n",
       "      <td>0.760109</td>\n",
       "      <td>0.031111</td>\n",
       "    </tr>\n",
       "    <tr>\n",
       "      <th>65412</th>\n",
       "      <td>1.000000</td>\n",
       "      <td>0.173913</td>\n",
       "      <td>0.170453</td>\n",
       "      <td>0.108889</td>\n",
       "    </tr>\n",
       "  </tbody>\n",
       "</table>\n",
       "</div>"
      ],
      "text/plain": [
       "            Age  Subscription_Length_Months  Monthly_Bill  Total_Usage_GB\n",
       "76513  0.134615                    0.521739      0.973425        0.928889\n",
       "60406  0.692308                    0.043478      0.598657        0.740000\n",
       "27322  0.269231                    0.826087      0.509358        0.837778\n",
       "53699  0.826923                    0.478261      0.760109        0.031111\n",
       "65412  1.000000                    0.173913      0.170453        0.108889"
      ]
     },
     "execution_count": 76,
     "metadata": {},
     "output_type": "execute_result"
    }
   ],
   "source": [
    "X_train.head()"
   ]
  },
  {
   "cell_type": "code",
   "execution_count": 77,
   "id": "5e234ecc",
   "metadata": {},
   "outputs": [
    {
     "data": {
      "text/html": [
       "<div>\n",
       "<style scoped>\n",
       "    .dataframe tbody tr th:only-of-type {\n",
       "        vertical-align: middle;\n",
       "    }\n",
       "\n",
       "    .dataframe tbody tr th {\n",
       "        vertical-align: top;\n",
       "    }\n",
       "\n",
       "    .dataframe thead th {\n",
       "        text-align: right;\n",
       "    }\n",
       "</style>\n",
       "<table border=\"1\" class=\"dataframe\">\n",
       "  <thead>\n",
       "    <tr style=\"text-align: right;\">\n",
       "      <th></th>\n",
       "      <th>Age</th>\n",
       "      <th>Subscription_Length_Months</th>\n",
       "      <th>Monthly_Bill</th>\n",
       "      <th>Total_Usage_GB</th>\n",
       "    </tr>\n",
       "  </thead>\n",
       "  <tbody>\n",
       "    <tr>\n",
       "      <th>75721</th>\n",
       "      <td>0.576923</td>\n",
       "      <td>0.434783</td>\n",
       "      <td>0.835548</td>\n",
       "      <td>0.982222</td>\n",
       "    </tr>\n",
       "    <tr>\n",
       "      <th>80184</th>\n",
       "      <td>0.596154</td>\n",
       "      <td>0.521739</td>\n",
       "      <td>0.151593</td>\n",
       "      <td>0.828889</td>\n",
       "    </tr>\n",
       "    <tr>\n",
       "      <th>19864</th>\n",
       "      <td>0.250000</td>\n",
       "      <td>0.173913</td>\n",
       "      <td>0.043006</td>\n",
       "      <td>0.502222</td>\n",
       "    </tr>\n",
       "    <tr>\n",
       "      <th>76699</th>\n",
       "      <td>0.673077</td>\n",
       "      <td>0.130435</td>\n",
       "      <td>0.923846</td>\n",
       "      <td>0.642222</td>\n",
       "    </tr>\n",
       "    <tr>\n",
       "      <th>92991</th>\n",
       "      <td>0.096154</td>\n",
       "      <td>1.000000</td>\n",
       "      <td>0.745964</td>\n",
       "      <td>0.564444</td>\n",
       "    </tr>\n",
       "  </tbody>\n",
       "</table>\n",
       "</div>"
      ],
      "text/plain": [
       "            Age  Subscription_Length_Months  Monthly_Bill  Total_Usage_GB\n",
       "75721  0.576923                    0.434783      0.835548        0.982222\n",
       "80184  0.596154                    0.521739      0.151593        0.828889\n",
       "19864  0.250000                    0.173913      0.043006        0.502222\n",
       "76699  0.673077                    0.130435      0.923846        0.642222\n",
       "92991  0.096154                    1.000000      0.745964        0.564444"
      ]
     },
     "execution_count": 77,
     "metadata": {},
     "output_type": "execute_result"
    }
   ],
   "source": [
    "X_test.head()"
   ]
  },
  {
   "cell_type": "markdown",
   "id": "f0b47457",
   "metadata": {},
   "source": [
    "# `Check for the class imbalance`\n",
    "\n",
    "* In machine learning, it is important to check if the data is balanced or not. This is called class imbalance.\n",
    "\n",
    "\n",
    "* Class imbalance happens when there are more data points in one class than in the other class. This can affect the performance of the model. For example, if the majority class has more data points than the minority class, the model might perform well on the majority class but poorly on the minority class.\n",
    "\n",
    "\n",
    "* By identifying class imbalance, we can employ strategies to address the issue. These strategies include resampling, adjusting class weights, or using different evaluation metrics. This will help us create a fair and accurate model that performs well across all classes\n"
   ]
  },
  {
   "cell_type": "code",
   "execution_count": 78,
   "id": "6a543d50",
   "metadata": {},
   "outputs": [
    {
     "data": {
      "text/plain": [
       "Churn\n",
       "0    50221\n",
       "1    49779\n",
       "Name: count, dtype: int64"
      ]
     },
     "execution_count": 78,
     "metadata": {},
     "output_type": "execute_result"
    }
   ],
   "source": [
    "class_counts = df['Churn'].value_counts()\n",
    "class_counts"
   ]
  },
  {
   "cell_type": "code",
   "execution_count": 79,
   "id": "a9f5d311",
   "metadata": {},
   "outputs": [
    {
     "data": {
      "image/png": "[encoded data removed]",
      "text/plain": [
       "<Figure size 1000x600 with 1 Axes>"
      ]
     },
     "metadata": {},
     "output_type": "display_data"
    }
   ],
   "source": [
    "plt.figure(figsize=(10, 6)) \n",
    "class_counts.plot(kind='bar')\n",
    "plt.title('Class Distribution')\n",
    "plt.xlabel('Class')\n",
    "plt.ylabel('Count')\n",
    "plt.xticks(rotation=45)\n",
    "plt.show()"
   ]
  },
  {
   "cell_type": "markdown",
   "id": "e12836a5",
   "metadata": {},
   "source": [
    "**The churn variables are almost evenly distributed, which means that there is no problem of class imbalance.**"
   ]
  },
  {
   "cell_type": "markdown",
   "id": "6a216c9b",
   "metadata": {},
   "source": [
    "# `Feature Selection using Random Forest Feature Importance Method`"
   ]
  },
  {
   "cell_type": "code",
   "execution_count": 81,
   "id": "119b2b21",
   "metadata": {},
   "outputs": [
    {
     "data": {
      "text/html": [
       "<div>\n",
       "<style scoped>\n",
       "    .dataframe tbody tr th:only-of-type {\n",
       "        vertical-align: middle;\n",
       "    }\n",
       "\n",
       "    .dataframe tbody tr th {\n",
       "        vertical-align: top;\n",
       "    }\n",
       "\n",
       "    .dataframe thead th {\n",
       "        text-align: right;\n",
       "    }\n",
       "</style>\n",
       "<table border=\"1\" class=\"dataframe\">\n",
       "  <thead>\n",
       "    <tr style=\"text-align: right;\">\n",
       "      <th></th>\n",
       "      <th>Feature</th>\n",
       "      <th>Importance</th>\n",
       "    </tr>\n",
       "  </thead>\n",
       "  <tbody>\n",
       "    <tr>\n",
       "      <th>0</th>\n",
       "      <td>Monthly_Bill</td>\n",
       "      <td>0.363033</td>\n",
       "    </tr>\n",
       "    <tr>\n",
       "      <th>1</th>\n",
       "      <td>Total_Usage_GB</td>\n",
       "      <td>0.300354</td>\n",
       "    </tr>\n",
       "    <tr>\n",
       "      <th>2</th>\n",
       "      <td>Age</td>\n",
       "      <td>0.188628</td>\n",
       "    </tr>\n",
       "    <tr>\n",
       "      <th>3</th>\n",
       "      <td>Subscription_Length_Months</td>\n",
       "      <td>0.147986</td>\n",
       "    </tr>\n",
       "  </tbody>\n",
       "</table>\n",
       "</div>"
      ],
      "text/plain": [
       "                      Feature  Importance\n",
       "0                Monthly_Bill    0.363033\n",
       "1              Total_Usage_GB    0.300354\n",
       "2                         Age    0.188628\n",
       "3  Subscription_Length_Months    0.147986"
      ]
     },
     "execution_count": 81,
     "metadata": {},
     "output_type": "execute_result"
    }
   ],
   "source": [
    "from sklearn.ensemble import RandomForestClassifier\n",
    "\n",
    "rf_classifier = RandomForestClassifier(n_jobs=-1, random_state=42)\n",
    "\n",
    "rf_classifier.fit(X_train, y_train)\n",
    "\n",
    "importances = rf_classifier.feature_importances_\n",
    "\n",
    "feature_importance_df = pd.DataFrame({'Feature': X_train.columns, 'Importance': importances})\n",
    "\n",
    "feature_importance_df = feature_importance_df.sort_values(by='Importance', ascending=False).reset_index(drop=True)\n",
    "\n",
    "feature_importance_df"
   ]
  },
  {
   "cell_type": "code",
   "execution_count": 82,
   "id": "ed2cabfd",
   "metadata": {},
   "outputs": [
    {
     "data": {
      "image/png": "[encoded data removed]",
      "text/plain": [
       "<Figure size 640x480 with 1 Axes>"
      ]
     },
     "metadata": {},
     "output_type": "display_data"
    }
   ],
   "source": [
    "#check optimal number of features\n",
    "\n",
    "sorted_indices = np.argsort(importances)[::-1]\n",
    "cumulative_importance = np.cumsum(importances[sorted_indices])\n",
    "\n",
    "plt.plot(range(1, len(importances) + 1), cumulative_importance, 'b-')\n",
    "plt.xlabel('Number of Features')\n",
    "plt.ylabel('Cumulative Importance')\n",
    "plt.title('Cumulative Importance of Features')\n",
    "plt.grid(True)\n",
    "plt.show()"
   ]
  },
  {
   "cell_type": "markdown",
   "id": "d5d712fa",
   "metadata": {},
   "source": [
    "**The graph shows that only 4 variables are important for the analysis. These variables are:**\n",
    "\n",
    "* **Monthly bill**\n",
    "\n",
    "\n",
    "* **Total usage in GB**\n",
    "\n",
    "\n",
    "* **Age**\n",
    "\n",
    "\n",
    "* **Subscription length in months**\n",
    "\n",
    "\n",
    "* **These 4 variables together account for approximately 94% of the importance for the analysis. This means that they are the most important variables to consider when trying to predict customer churn.**\n",
    "\n",
    "\n",
    "* **Here, I will use all the variables for analysis because there are not many variables. If the model does not perform well or overfits, I will remove variables and build a model on the features that contribute more to the model.**"
   ]
  },
  {
   "cell_type": "markdown",
   "id": "65c055c6",
   "metadata": {},
   "source": [
    "# `Check multi-colinearity between variables`\n",
    "\n",
    "* In machine learning, it is important to check if there are variables that are highly correlated with each other. This is called multicollinearity.\n",
    "\n",
    "\n",
    "* Multicollinearity can cause problems with the model, such as making it unstable and difficult to interpret. This is because correlated variables are redundant, meaning that they provide the same information. This can cause the model to give too much importance to one variable, leading to overfitting.\n",
    "\n",
    "\n",
    "* By identifying and addressing multicollinearity, we can make the model more reliable and interpretable. This improves the model's predictive power and makes it easier to understand how the variables affect the target variable."
   ]
  },
  {
   "cell_type": "code",
   "execution_count": 87,
   "id": "486fc90b",
   "metadata": {},
   "outputs": [
    {
     "name": "stdout",
     "output_type": "stream",
     "text": [
      "Defaulting to user installation because normal site-packages is not writeable\n",
      "Collecting statsmodels\n",
      "  Downloading statsmodels-0.14.3-cp39-cp39-macosx_11_0_arm64.whl.metadata (9.2 kB)\n",
      "Requirement already satisfied: numpy<3,>=1.22.3 in /Users/prasenjeetsmac/Library/Python/3.9/lib/python/site-packages (from statsmodels) (1.26.4)\n",
      "Requirement already satisfied: scipy!=1.9.2,>=1.8 in /Users/prasenjeetsmac/Library/Python/3.9/lib/python/site-packages (from statsmodels) (1.13.1)\n",
      "Requirement already satisfied: pandas!=2.1.0,>=1.4 in /Users/prasenjeetsmac/Library/Python/3.9/lib/python/site-packages (from statsmodels) (2.2.2)\n",
      "Collecting patsy>=0.5.6 (from statsmodels)\n",
      "  Downloading patsy-0.5.6-py2.py3-none-any.whl.metadata (3.5 kB)\n",
      "Requirement already satisfied: packaging>=21.3 in /Users/prasenjeetsmac/Library/Python/3.9/lib/python/site-packages (from statsmodels) (24.0)\n",
      "Requirement already satisfied: python-dateutil>=2.8.2 in /Users/prasenjeetsmac/Library/Python/3.9/lib/python/site-packages (from pandas!=2.1.0,>=1.4->statsmodels) (2.9.0.post0)\n",
      "Requirement already satisfied: pytz>=2020.1 in /Users/prasenjeetsmac/Library/Python/3.9/lib/python/site-packages (from pandas!=2.1.0,>=1.4->statsmodels) (2024.1)\n",
      "Requirement already satisfied: tzdata>=2022.7 in /Users/prasenjeetsmac/Library/Python/3.9/lib/python/site-packages (from pandas!=2.1.0,>=1.4->statsmodels) (2024.1)\n",
      "Requirement already satisfied: six in /Library/Developer/CommandLineTools/Library/Frameworks/Python3.framework/Versions/3.9/lib/python3.9/site-packages (from patsy>=0.5.6->statsmodels) (1.15.0)\n",
      "Downloading statsmodels-0.14.3-cp39-cp39-macosx_11_0_arm64.whl (9.9 MB)\n",
      "\u001b[2K   \u001b[90m━━━━━━━━━━━━━━━━━━━━━━━━━━━━━━━━━━━━━━━━\u001b[0m \u001b[32m9.9/9.9 MB\u001b[0m \u001b[31m14.1 MB/s\u001b[0m eta \u001b[36m0:00:00\u001b[0m00:01\u001b[0m00:01\u001b[0m\n",
      "\u001b[?25hDownloading patsy-0.5.6-py2.py3-none-any.whl (233 kB)\n",
      "\u001b[2K   \u001b[90m━━━━━━━━━━━━━━━━━━━━━━━━━━━━━━━━━━━━━━━━\u001b[0m \u001b[32m233.9/233.9 kB\u001b[0m \u001b[31m27.6 MB/s\u001b[0m eta \u001b[36m0:00:00\u001b[0m\n",
      "\u001b[?25hInstalling collected packages: patsy, statsmodels\n",
      "Successfully installed patsy-0.5.6 statsmodels-0.14.3\n",
      "\n",
      "\u001b[1m[\u001b[0m\u001b[34;49mnotice\u001b[0m\u001b[1;39;49m]\u001b[0m\u001b[39;49m A new release of pip is available: \u001b[0m\u001b[31;49m24.0\u001b[0m\u001b[39;49m -> \u001b[0m\u001b[32;49m24.2\u001b[0m\n",
      "\u001b[1m[\u001b[0m\u001b[34;49mnotice\u001b[0m\u001b[1;39;49m]\u001b[0m\u001b[39;49m To update, run: \u001b[0m\u001b[32;49m/Library/Developer/CommandLineTools/usr/bin/python3 -m pip install --upgrade pip\u001b[0m\n",
      "Note: you may need to restart the kernel to use updated packages.\n"
     ]
    }
   ],
   "source": [
    "pip install statsmodels\n"
   ]
  },
  {
   "cell_type": "code",
   "execution_count": 88,
   "id": "40457ee0",
   "metadata": {},
   "outputs": [
    {
     "data": {
      "text/html": [
       "<div>\n",
       "<style scoped>\n",
       "    .dataframe tbody tr th:only-of-type {\n",
       "        vertical-align: middle;\n",
       "    }\n",
       "\n",
       "    .dataframe tbody tr th {\n",
       "        vertical-align: top;\n",
       "    }\n",
       "\n",
       "    .dataframe thead th {\n",
       "        text-align: right;\n",
       "    }\n",
       "</style>\n",
       "<table border=\"1\" class=\"dataframe\">\n",
       "  <thead>\n",
       "    <tr style=\"text-align: right;\">\n",
       "      <th></th>\n",
       "      <th>Variable</th>\n",
       "      <th>VIF</th>\n",
       "    </tr>\n",
       "  </thead>\n",
       "  <tbody>\n",
       "    <tr>\n",
       "      <th>2</th>\n",
       "      <td>Monthly_Bill</td>\n",
       "      <td>3.055120</td>\n",
       "    </tr>\n",
       "    <tr>\n",
       "      <th>3</th>\n",
       "      <td>Total_Usage_GB</td>\n",
       "      <td>3.043256</td>\n",
       "    </tr>\n",
       "    <tr>\n",
       "      <th>0</th>\n",
       "      <td>Age</td>\n",
       "      <td>3.002887</td>\n",
       "    </tr>\n",
       "    <tr>\n",
       "      <th>1</th>\n",
       "      <td>Subscription_Length_Months</td>\n",
       "      <td>2.922424</td>\n",
       "    </tr>\n",
       "  </tbody>\n",
       "</table>\n",
       "</div>"
      ],
      "text/plain": [
       "                     Variable       VIF\n",
       "2                Monthly_Bill  3.055120\n",
       "3              Total_Usage_GB  3.043256\n",
       "0                         Age  3.002887\n",
       "1  Subscription_Length_Months  2.922424"
      ]
     },
     "execution_count": 88,
     "metadata": {},
     "output_type": "execute_result"
    }
   ],
   "source": [
    "#checking multicolinearity of X_train_resampled\n",
    "\n",
    "from statsmodels.stats.outliers_influence import variance_inflation_factor\n",
    "\n",
    "vif = pd.DataFrame()\n",
    "vif[\"Variable\"] = X_train.columns\n",
    "vif[\"VIF\"] = [variance_inflation_factor(X_train.values, i) for i in range(X_train.shape[1])]\n",
    "vif = vif.sort_values(by='VIF', ascending=False)\n",
    "\n",
    "vif"
   ]
  },
  {
   "cell_type": "markdown",
   "id": "4ec6c0fa",
   "metadata": {},
   "source": [
    "**The training data does not contain multicollinearity because all of the variables have a VIF value less than 5.**"
   ]
  },
  {
   "cell_type": "markdown",
   "id": "a540b882",
   "metadata": {},
   "source": [
    "# `Model Building: Machine Learning Algorithms`"
   ]
  },
  {
   "cell_type": "code",
   "execution_count": 90,
   "id": "fca7e78e",
   "metadata": {},
   "outputs": [
    {
     "ename": "SyntaxError",
     "evalue": "invalid syntax (661035427.py, line 1)",
     "output_type": "error",
     "traceback": [
      "\u001b[0;36m  Cell \u001b[0;32mIn[90], line 1\u001b[0;36m\u001b[0m\n\u001b[0;31m    pip install xgboost\u001b[0m\n\u001b[0m        ^\u001b[0m\n\u001b[0;31mSyntaxError\u001b[0m\u001b[0;31m:\u001b[0m invalid syntax\n"
     ]
    }
   ],
   "source": [
    "pip install xgboost"
   ]
  },
  {
   "cell_type": "code",
   "execution_count": 91,
   "id": "2e1185dc",
   "metadata": {},
   "outputs": [],
   "source": [
    "#importing algorithms, metrics and time\n",
    "\n",
    "import time\n",
    "\n",
    "from sklearn.metrics import classification_report, accuracy_score, precision_score, recall_score, f1_score\n",
    "\n",
    "from sklearn.linear_model import LogisticRegression\n",
    "from sklearn.tree import DecisionTreeClassifier\n",
    "from sklearn.neighbors import KNeighborsClassifier\n",
    "from sklearn.svm import SVC\n",
    "from sklearn.naive_bayes import GaussianNB\n",
    "from sklearn.ensemble import AdaBoostClassifier, GradientBoostingClassifier, RandomForestClassifier\n",
    "from xgboost import XGBClassifier"
   ]
  },
  {
   "cell_type": "code",
   "execution_count": 92,
   "id": "81daac2c",
   "metadata": {},
   "outputs": [
    {
     "name": "stderr",
     "output_type": "stream",
     "text": [
      "/Users/prasenjeetsmac/Library/Python/3.9/lib/python/site-packages/sklearn/ensemble/_weight_boosting.py:527: FutureWarning: The SAMME.R algorithm (the default) is deprecated and will be removed in 1.6. Use the SAMME algorithm to circumvent this warning.\n",
      "  warnings.warn(\n"
     ]
    },
    {
     "data": {
      "text/html": [
       "<div>\n",
       "<style scoped>\n",
       "    .dataframe tbody tr th:only-of-type {\n",
       "        vertical-align: middle;\n",
       "    }\n",
       "\n",
       "    .dataframe tbody tr th {\n",
       "        vertical-align: top;\n",
       "    }\n",
       "\n",
       "    .dataframe thead th {\n",
       "        text-align: right;\n",
       "    }\n",
       "</style>\n",
       "<table border=\"1\" class=\"dataframe\">\n",
       "  <thead>\n",
       "    <tr style=\"text-align: right;\">\n",
       "      <th></th>\n",
       "      <th>Algorithm</th>\n",
       "      <th>Accuracy</th>\n",
       "      <th>Precision</th>\n",
       "      <th>Recall</th>\n",
       "      <th>F1-score</th>\n",
       "      <th>Building Time (s)</th>\n",
       "    </tr>\n",
       "  </thead>\n",
       "  <tbody>\n",
       "    <tr>\n",
       "      <th>0</th>\n",
       "      <td>LogisticRegression</td>\n",
       "      <td>0.503400</td>\n",
       "      <td>0.503356</td>\n",
       "      <td>0.503400</td>\n",
       "      <td>0.496215</td>\n",
       "      <td>2.129534</td>\n",
       "    </tr>\n",
       "    <tr>\n",
       "      <th>1</th>\n",
       "      <td>DecisionTreeClassifier</td>\n",
       "      <td>1.000000</td>\n",
       "      <td>1.000000</td>\n",
       "      <td>1.000000</td>\n",
       "      <td>1.000000</td>\n",
       "      <td>0.422559</td>\n",
       "    </tr>\n",
       "    <tr>\n",
       "      <th>2</th>\n",
       "      <td>KNeighborsClassifier</td>\n",
       "      <td>0.686600</td>\n",
       "      <td>0.686602</td>\n",
       "      <td>0.686600</td>\n",
       "      <td>0.686596</td>\n",
       "      <td>1.043395</td>\n",
       "    </tr>\n",
       "    <tr>\n",
       "      <th>3</th>\n",
       "      <td>GaussianNB</td>\n",
       "      <td>0.501486</td>\n",
       "      <td>0.501325</td>\n",
       "      <td>0.501486</td>\n",
       "      <td>0.493915</td>\n",
       "      <td>0.050936</td>\n",
       "    </tr>\n",
       "    <tr>\n",
       "      <th>4</th>\n",
       "      <td>AdaBoostClassifier</td>\n",
       "      <td>0.513000</td>\n",
       "      <td>0.512984</td>\n",
       "      <td>0.513000</td>\n",
       "      <td>0.512904</td>\n",
       "      <td>1.044270</td>\n",
       "    </tr>\n",
       "    <tr>\n",
       "      <th>5</th>\n",
       "      <td>GradientBoostingClassifier</td>\n",
       "      <td>0.538557</td>\n",
       "      <td>0.538573</td>\n",
       "      <td>0.538557</td>\n",
       "      <td>0.538399</td>\n",
       "      <td>3.740535</td>\n",
       "    </tr>\n",
       "    <tr>\n",
       "      <th>6</th>\n",
       "      <td>RandomForestClassifier</td>\n",
       "      <td>1.000000</td>\n",
       "      <td>1.000000</td>\n",
       "      <td>1.000000</td>\n",
       "      <td>1.000000</td>\n",
       "      <td>2.114240</td>\n",
       "    </tr>\n",
       "    <tr>\n",
       "      <th>7</th>\n",
       "      <td>XGBClassifier</td>\n",
       "      <td>0.660357</td>\n",
       "      <td>0.660365</td>\n",
       "      <td>0.660357</td>\n",
       "      <td>0.660347</td>\n",
       "      <td>0.229431</td>\n",
       "    </tr>\n",
       "    <tr>\n",
       "      <th>8</th>\n",
       "      <td>SVC</td>\n",
       "      <td>0.517714</td>\n",
       "      <td>0.517997</td>\n",
       "      <td>0.517714</td>\n",
       "      <td>0.514748</td>\n",
       "      <td>220.828473</td>\n",
       "    </tr>\n",
       "  </tbody>\n",
       "</table>\n",
       "</div>"
      ],
      "text/plain": [
       "                    Algorithm  Accuracy  Precision    Recall  F1-score  \\\n",
       "0          LogisticRegression  0.503400   0.503356  0.503400  0.496215   \n",
       "1      DecisionTreeClassifier  1.000000   1.000000  1.000000  1.000000   \n",
       "2        KNeighborsClassifier  0.686600   0.686602  0.686600  0.686596   \n",
       "3                  GaussianNB  0.501486   0.501325  0.501486  0.493915   \n",
       "4          AdaBoostClassifier  0.513000   0.512984  0.513000  0.512904   \n",
       "5  GradientBoostingClassifier  0.538557   0.538573  0.538557  0.538399   \n",
       "6      RandomForestClassifier  1.000000   1.000000  1.000000  1.000000   \n",
       "7               XGBClassifier  0.660357   0.660365  0.660357  0.660347   \n",
       "8                         SVC  0.517714   0.517997  0.517714  0.514748   \n",
       "\n",
       "   Building Time (s)  \n",
       "0           2.129534  \n",
       "1           0.422559  \n",
       "2           1.043395  \n",
       "3           0.050936  \n",
       "4           1.044270  \n",
       "5           3.740535  \n",
       "6           2.114240  \n",
       "7           0.229431  \n",
       "8         220.828473  "
      ]
     },
     "execution_count": 92,
     "metadata": {},
     "output_type": "execute_result"
    }
   ],
   "source": [
    "algorithms = [\n",
    "    LogisticRegression(n_jobs=-1, random_state=42),\n",
    "    DecisionTreeClassifier(random_state=42),\n",
    "    KNeighborsClassifier(n_jobs=-1),\n",
    "    GaussianNB(),\n",
    "    AdaBoostClassifier(random_state=42),\n",
    "    GradientBoostingClassifier(random_state=42),\n",
    "    RandomForestClassifier(n_jobs=-1, random_state=42),\n",
    "    XGBClassifier(n_jobs=-1, random_state=42),\n",
    "    SVC(random_state=42)\n",
    "]\n",
    "\n",
    "# Initialize the results dictionary for training data\n",
    "results_train = {\n",
    "    'Algorithm': [],\n",
    "    'Accuracy': [],\n",
    "    'Precision': [],\n",
    "    'Recall': [],\n",
    "    'F1-score': [],\n",
    "    'Building Time (s)': []\n",
    "}\n",
    "\n",
    "# Apply the algorithms and calculate performance metrics for training data\n",
    "for algorithm in algorithms:\n",
    "    start_time = time.time()  # Start timer\n",
    "\n",
    "    algorithm_name = type(algorithm).__name__\n",
    "    algorithm.fit(X_train, y_train)\n",
    "    y_train_pred = algorithm.predict(X_train)\n",
    "\n",
    "    accuracy = accuracy_score(y_train, y_train_pred)\n",
    "    precision = precision_score(y_train, y_train_pred, average='weighted')\n",
    "    recall = recall_score(y_train, y_train_pred, average='weighted')\n",
    "    f1 = f1_score(y_train, y_train_pred, average='weighted')\n",
    "\n",
    "    end_time = time.time()  # End timer\n",
    "    building_time = end_time - start_time\n",
    "\n",
    "    results_train['Algorithm'].append(algorithm_name)\n",
    "    results_train['Accuracy'].append(accuracy)\n",
    "    results_train['Precision'].append(precision)\n",
    "    results_train['Recall'].append(recall)\n",
    "    results_train['F1-score'].append(f1)\n",
    "    results_train['Building Time (s)'].append(building_time)\n",
    "\n",
    "# Create a dataframe for the training data results\n",
    "df_train = pd.DataFrame(results_train)\n",
    "df_train"
   ]
  },
  {
   "cell_type": "markdown",
   "id": "64c4b923",
   "metadata": {},
   "source": [
    "* **Decision Tree, Random Forest, and Gradient Boosting achieved perfect accuracy on the training data, suggesting potential overfitting.**\n",
    "\n",
    "\n",
    "* **Logistic Regression, GaussianNB, and AdaBoost have relatively low accuracy and F1-score.**\n",
    "\n",
    "\n",
    "* **KNeighborsClassifier and XGBClassifier have moderate accuracy and F1-score.**\n",
    "\n",
    "\n",
    "* **SVC has moderate accuracy but high building time.**"
   ]
  },
  {
   "cell_type": "code",
   "execution_count": 93,
   "id": "c1c1a933",
   "metadata": {},
   "outputs": [
    {
     "data": {
      "text/html": [
       "<div>\n",
       "<style scoped>\n",
       "    .dataframe tbody tr th:only-of-type {\n",
       "        vertical-align: middle;\n",
       "    }\n",
       "\n",
       "    .dataframe tbody tr th {\n",
       "        vertical-align: top;\n",
       "    }\n",
       "\n",
       "    .dataframe thead th {\n",
       "        text-align: right;\n",
       "    }\n",
       "</style>\n",
       "<table border=\"1\" class=\"dataframe\">\n",
       "  <thead>\n",
       "    <tr style=\"text-align: right;\">\n",
       "      <th></th>\n",
       "      <th>Algorithm</th>\n",
       "      <th>Accuracy</th>\n",
       "      <th>Precision</th>\n",
       "      <th>Recall</th>\n",
       "      <th>F1-score</th>\n",
       "    </tr>\n",
       "  </thead>\n",
       "  <tbody>\n",
       "    <tr>\n",
       "      <th>0</th>\n",
       "      <td>LogisticRegression</td>\n",
       "      <td>0.498600</td>\n",
       "      <td>0.497328</td>\n",
       "      <td>0.498600</td>\n",
       "      <td>0.491694</td>\n",
       "    </tr>\n",
       "    <tr>\n",
       "      <th>1</th>\n",
       "      <td>DecisionTreeClassifier</td>\n",
       "      <td>0.500100</td>\n",
       "      <td>0.500078</td>\n",
       "      <td>0.500100</td>\n",
       "      <td>0.500087</td>\n",
       "    </tr>\n",
       "    <tr>\n",
       "      <th>2</th>\n",
       "      <td>KNeighborsClassifier</td>\n",
       "      <td>0.497900</td>\n",
       "      <td>0.497918</td>\n",
       "      <td>0.497900</td>\n",
       "      <td>0.497907</td>\n",
       "    </tr>\n",
       "    <tr>\n",
       "      <th>3</th>\n",
       "      <td>GaussianNB</td>\n",
       "      <td>0.499333</td>\n",
       "      <td>0.498084</td>\n",
       "      <td>0.499333</td>\n",
       "      <td>0.492268</td>\n",
       "    </tr>\n",
       "    <tr>\n",
       "      <th>4</th>\n",
       "      <td>AdaBoostClassifier</td>\n",
       "      <td>0.498467</td>\n",
       "      <td>0.498457</td>\n",
       "      <td>0.498467</td>\n",
       "      <td>0.498461</td>\n",
       "    </tr>\n",
       "    <tr>\n",
       "      <th>5</th>\n",
       "      <td>GradientBoostingClassifier</td>\n",
       "      <td>0.502000</td>\n",
       "      <td>0.501906</td>\n",
       "      <td>0.502000</td>\n",
       "      <td>0.501909</td>\n",
       "    </tr>\n",
       "    <tr>\n",
       "      <th>6</th>\n",
       "      <td>RandomForestClassifier</td>\n",
       "      <td>0.503567</td>\n",
       "      <td>0.503378</td>\n",
       "      <td>0.503567</td>\n",
       "      <td>0.503286</td>\n",
       "    </tr>\n",
       "    <tr>\n",
       "      <th>7</th>\n",
       "      <td>XGBClassifier</td>\n",
       "      <td>0.500933</td>\n",
       "      <td>0.500908</td>\n",
       "      <td>0.500933</td>\n",
       "      <td>0.500918</td>\n",
       "    </tr>\n",
       "    <tr>\n",
       "      <th>8</th>\n",
       "      <td>SVC</td>\n",
       "      <td>0.501733</td>\n",
       "      <td>0.501010</td>\n",
       "      <td>0.501733</td>\n",
       "      <td>0.498641</td>\n",
       "    </tr>\n",
       "  </tbody>\n",
       "</table>\n",
       "</div>"
      ],
      "text/plain": [
       "                    Algorithm  Accuracy  Precision    Recall  F1-score\n",
       "0          LogisticRegression  0.498600   0.497328  0.498600  0.491694\n",
       "1      DecisionTreeClassifier  0.500100   0.500078  0.500100  0.500087\n",
       "2        KNeighborsClassifier  0.497900   0.497918  0.497900  0.497907\n",
       "3                  GaussianNB  0.499333   0.498084  0.499333  0.492268\n",
       "4          AdaBoostClassifier  0.498467   0.498457  0.498467  0.498461\n",
       "5  GradientBoostingClassifier  0.502000   0.501906  0.502000  0.501909\n",
       "6      RandomForestClassifier  0.503567   0.503378  0.503567  0.503286\n",
       "7               XGBClassifier  0.500933   0.500908  0.500933  0.500918\n",
       "8                         SVC  0.501733   0.501010  0.501733  0.498641"
      ]
     },
     "execution_count": 93,
     "metadata": {},
     "output_type": "execute_result"
    }
   ],
   "source": [
    "results_test = {\n",
    "    'Algorithm': [],\n",
    "    'Accuracy': [],\n",
    "    'Precision': [],\n",
    "    'Recall': [],\n",
    "    'F1-score': []\n",
    "}\n",
    "\n",
    "# Apply the algorithms and calculate performance metrics for test data\n",
    "for algorithm in algorithms:\n",
    "    algorithm_name = type(algorithm).__name__\n",
    "    y_test_pred = algorithm.predict(X_test)\n",
    "\n",
    "    accuracy = accuracy_score(y_test, y_test_pred)\n",
    "    precision = precision_score(y_test, y_test_pred, average='weighted')\n",
    "    recall = recall_score(y_test, y_test_pred, average='weighted')\n",
    "    f1 = f1_score(y_test, y_test_pred, average='weighted')\n",
    "\n",
    "    results_test['Algorithm'].append(algorithm_name)\n",
    "    results_test['Accuracy'].append(accuracy)\n",
    "    results_test['Precision'].append(precision)\n",
    "    results_test['Recall'].append(recall)\n",
    "    results_test['F1-score'].append(f1)\n",
    "\n",
    "# Create a dataframe for the test data results\n",
    "df_test = pd.DataFrame(results_test)\n",
    "df_test"
   ]
  },
  {
   "cell_type": "markdown",
   "id": "f9ff4f2e",
   "metadata": {},
   "source": [
    "* **Most algorithms have mediocre performance on the test data, with accuracy close to random guessing (around 0.5).**\n",
    "\n",
    "\n",
    "* **Decision Tree, Random Forest, and Gradient Boosting also show subpar results, indicating overfitting.**\n",
    "\n",
    "\n",
    "* **No algorithm is performing well, so I decided to take only 4 variables that contribute more to the target variable and build the model again.**\n",
    "\n",
    "\n",
    "* **I removed the age and location variables because they are not good predictors of whether a customer will churn or not.**"
   ]
  },
  {
   "cell_type": "code",
   "execution_count": 94,
   "id": "74bb15cb",
   "metadata": {},
   "outputs": [],
   "source": [
    "X_train = X_train[['Monthly_Bill', 'Total_Usage_GB', 'Age', 'Subscription_Length_Months']]\n",
    "\n",
    "X_test = X_test[['Monthly_Bill', 'Total_Usage_GB', 'Age', 'Subscription_Length_Months']]"
   ]
  },
  {
   "cell_type": "code",
   "execution_count": 95,
   "id": "24fda754",
   "metadata": {},
   "outputs": [
    {
     "name": "stdout",
     "output_type": "stream",
     "text": [
      "X_train columns: Index(['Monthly_Bill', 'Total_Usage_GB', 'Age', 'Subscription_Length_Months'], dtype='object')\n",
      "------------------------------------------------------------------------------------------------------------------------\n",
      "X_test columns: Index(['Monthly_Bill', 'Total_Usage_GB', 'Age', 'Subscription_Length_Months'], dtype='object')\n"
     ]
    }
   ],
   "source": [
    "print('X_train columns:', X_train.columns)\n",
    "print('-'*120)\n",
    "print('X_test columns:', X_test.columns)"
   ]
  },
  {
   "cell_type": "code",
   "execution_count": 96,
   "id": "fa3ef4e4",
   "metadata": {},
   "outputs": [
    {
     "name": "stderr",
     "output_type": "stream",
     "text": [
      "/Users/prasenjeetsmac/Library/Python/3.9/lib/python/site-packages/sklearn/ensemble/_weight_boosting.py:527: FutureWarning: The SAMME.R algorithm (the default) is deprecated and will be removed in 1.6. Use the SAMME algorithm to circumvent this warning.\n",
      "  warnings.warn(\n"
     ]
    },
    {
     "data": {
      "text/html": [
       "<div>\n",
       "<style scoped>\n",
       "    .dataframe tbody tr th:only-of-type {\n",
       "        vertical-align: middle;\n",
       "    }\n",
       "\n",
       "    .dataframe tbody tr th {\n",
       "        vertical-align: top;\n",
       "    }\n",
       "\n",
       "    .dataframe thead th {\n",
       "        text-align: right;\n",
       "    }\n",
       "</style>\n",
       "<table border=\"1\" class=\"dataframe\">\n",
       "  <thead>\n",
       "    <tr style=\"text-align: right;\">\n",
       "      <th></th>\n",
       "      <th>Algorithm</th>\n",
       "      <th>Accuracy</th>\n",
       "      <th>Precision</th>\n",
       "      <th>Recall</th>\n",
       "      <th>F1-score</th>\n",
       "      <th>Building Time (s)</th>\n",
       "    </tr>\n",
       "  </thead>\n",
       "  <tbody>\n",
       "    <tr>\n",
       "      <th>0</th>\n",
       "      <td>LogisticRegression</td>\n",
       "      <td>0.503400</td>\n",
       "      <td>0.503356</td>\n",
       "      <td>0.503400</td>\n",
       "      <td>0.496215</td>\n",
       "      <td>2.232962</td>\n",
       "    </tr>\n",
       "    <tr>\n",
       "      <th>1</th>\n",
       "      <td>DecisionTreeClassifier</td>\n",
       "      <td>1.000000</td>\n",
       "      <td>1.000000</td>\n",
       "      <td>1.000000</td>\n",
       "      <td>1.000000</td>\n",
       "      <td>0.427965</td>\n",
       "    </tr>\n",
       "    <tr>\n",
       "      <th>2</th>\n",
       "      <td>KNeighborsClassifier</td>\n",
       "      <td>0.686600</td>\n",
       "      <td>0.686602</td>\n",
       "      <td>0.686600</td>\n",
       "      <td>0.686596</td>\n",
       "      <td>1.050024</td>\n",
       "    </tr>\n",
       "    <tr>\n",
       "      <th>3</th>\n",
       "      <td>GaussianNB</td>\n",
       "      <td>0.501486</td>\n",
       "      <td>0.501325</td>\n",
       "      <td>0.501486</td>\n",
       "      <td>0.493915</td>\n",
       "      <td>0.053642</td>\n",
       "    </tr>\n",
       "    <tr>\n",
       "      <th>4</th>\n",
       "      <td>AdaBoostClassifier</td>\n",
       "      <td>0.513000</td>\n",
       "      <td>0.512984</td>\n",
       "      <td>0.513000</td>\n",
       "      <td>0.512904</td>\n",
       "      <td>0.984227</td>\n",
       "    </tr>\n",
       "    <tr>\n",
       "      <th>5</th>\n",
       "      <td>GradientBoostingClassifier</td>\n",
       "      <td>0.538557</td>\n",
       "      <td>0.538573</td>\n",
       "      <td>0.538557</td>\n",
       "      <td>0.538399</td>\n",
       "      <td>3.744292</td>\n",
       "    </tr>\n",
       "    <tr>\n",
       "      <th>6</th>\n",
       "      <td>RandomForestClassifier</td>\n",
       "      <td>1.000000</td>\n",
       "      <td>1.000000</td>\n",
       "      <td>1.000000</td>\n",
       "      <td>1.000000</td>\n",
       "      <td>2.256945</td>\n",
       "    </tr>\n",
       "    <tr>\n",
       "      <th>7</th>\n",
       "      <td>XGBClassifier</td>\n",
       "      <td>0.662214</td>\n",
       "      <td>0.662220</td>\n",
       "      <td>0.662214</td>\n",
       "      <td>0.662205</td>\n",
       "      <td>0.228406</td>\n",
       "    </tr>\n",
       "    <tr>\n",
       "      <th>8</th>\n",
       "      <td>SVC</td>\n",
       "      <td>0.517700</td>\n",
       "      <td>0.517982</td>\n",
       "      <td>0.517700</td>\n",
       "      <td>0.514735</td>\n",
       "      <td>223.008885</td>\n",
       "    </tr>\n",
       "  </tbody>\n",
       "</table>\n",
       "</div>"
      ],
      "text/plain": [
       "                    Algorithm  Accuracy  Precision    Recall  F1-score  \\\n",
       "0          LogisticRegression  0.503400   0.503356  0.503400  0.496215   \n",
       "1      DecisionTreeClassifier  1.000000   1.000000  1.000000  1.000000   \n",
       "2        KNeighborsClassifier  0.686600   0.686602  0.686600  0.686596   \n",
       "3                  GaussianNB  0.501486   0.501325  0.501486  0.493915   \n",
       "4          AdaBoostClassifier  0.513000   0.512984  0.513000  0.512904   \n",
       "5  GradientBoostingClassifier  0.538557   0.538573  0.538557  0.538399   \n",
       "6      RandomForestClassifier  1.000000   1.000000  1.000000  1.000000   \n",
       "7               XGBClassifier  0.662214   0.662220  0.662214  0.662205   \n",
       "8                         SVC  0.517700   0.517982  0.517700  0.514735   \n",
       "\n",
       "   Building Time (s)  \n",
       "0           2.232962  \n",
       "1           0.427965  \n",
       "2           1.050024  \n",
       "3           0.053642  \n",
       "4           0.984227  \n",
       "5           3.744292  \n",
       "6           2.256945  \n",
       "7           0.228406  \n",
       "8         223.008885  "
      ]
     },
     "execution_count": 96,
     "metadata": {},
     "output_type": "execute_result"
    }
   ],
   "source": [
    "algorithms = [\n",
    "    LogisticRegression(n_jobs=-1, random_state=42),\n",
    "    DecisionTreeClassifier(random_state=42),\n",
    "    KNeighborsClassifier(n_jobs=-1),\n",
    "    GaussianNB(),\n",
    "    AdaBoostClassifier(random_state=42),\n",
    "    GradientBoostingClassifier(random_state=42),\n",
    "    RandomForestClassifier(n_jobs=-1, random_state=42),\n",
    "    XGBClassifier(n_jobs=-1, random_state=42),\n",
    "    SVC(random_state=42)\n",
    "]\n",
    "\n",
    "# Initialize the results dictionary for training data\n",
    "results_train = {\n",
    "    'Algorithm': [],\n",
    "    'Accuracy': [],\n",
    "    'Precision': [],\n",
    "    'Recall': [],\n",
    "    'F1-score': [],\n",
    "    'Building Time (s)': []\n",
    "}\n",
    "\n",
    "# Apply the algorithms and calculate performance metrics for training data\n",
    "for algorithm in algorithms:\n",
    "    start_time = time.time()  # Start timer\n",
    "\n",
    "    algorithm_name = type(algorithm).__name__\n",
    "    algorithm.fit(X_train, y_train)\n",
    "    y_train_pred = algorithm.predict(X_train)\n",
    "\n",
    "    accuracy = accuracy_score(y_train, y_train_pred)\n",
    "    precision = precision_score(y_train, y_train_pred, average='weighted')\n",
    "    recall = recall_score(y_train, y_train_pred, average='weighted')\n",
    "    f1 = f1_score(y_train, y_train_pred, average='weighted')\n",
    "\n",
    "    end_time = time.time()  # End timer\n",
    "    building_time = end_time - start_time\n",
    "\n",
    "    results_train['Algorithm'].append(algorithm_name)\n",
    "    results_train['Accuracy'].append(accuracy)\n",
    "    results_train['Precision'].append(precision)\n",
    "    results_train['Recall'].append(recall)\n",
    "    results_train['F1-score'].append(f1)\n",
    "    results_train['Building Time (s)'].append(building_time)\n",
    "\n",
    "# Create a dataframe for the training data results\n",
    "df_train = pd.DataFrame(results_train)\n",
    "df_train"
   ]
  },
  {
   "cell_type": "markdown",
   "id": "4b51c921",
   "metadata": {},
   "source": [
    "* **Decision Tree and Random Forest still achieve perfect accuracy, likely overfitting again.**\n",
    "\n",
    "\n",
    "* **Logistic Regression, GaussianNB, and AdaBoost have improved slightly.**\n",
    "\n",
    "\n",
    "* **KNeighborsClassifier and XGBClassifier remain moderate.**\n",
    "\n",
    "\n",
    "* **SVC still has high building time.**"
   ]
  },
  {
   "cell_type": "code",
   "execution_count": null,
   "id": "b3fa9f01",
   "metadata": {},
   "outputs": [
    {
     "name": "stderr",
     "output_type": "stream",
     "text": [
      "C:\\Users\\HP\\Anaconda3\\lib\\site-packages\\sklearn\\neighbors\\_classification.py:228: FutureWarning: Unlike other reduction functions (e.g. `skew`, `kurtosis`), the default behavior of `mode` typically preserves the axis it acts along. In SciPy 1.11.0, this behavior will change: the default value of `keepdims` will become False, the `axis` over which the statistic is taken will be eliminated, and the value None will no longer be accepted. Set `keepdims` to True or False to avoid this warning.\n",
      "  mode, _ = stats.mode(_y[neigh_ind, k], axis=1)\n"
     ]
    },
    {
     "data": {
      "text/html": [
       "<div>\n",
       "<style scoped>\n",
       "    .dataframe tbody tr th:only-of-type {\n",
       "        vertical-align: middle;\n",
       "    }\n",
       "\n",
       "    .dataframe tbody tr th {\n",
       "        vertical-align: top;\n",
       "    }\n",
       "\n",
       "    .dataframe thead th {\n",
       "        text-align: right;\n",
       "    }\n",
       "</style>\n",
       "<table border=\"1\" class=\"dataframe\">\n",
       "  <thead>\n",
       "    <tr style=\"text-align: right;\">\n",
       "      <th></th>\n",
       "      <th>Algorithm</th>\n",
       "      <th>Accuracy</th>\n",
       "      <th>Precision</th>\n",
       "      <th>Recall</th>\n",
       "      <th>F1-score</th>\n",
       "    </tr>\n",
       "  </thead>\n",
       "  <tbody>\n",
       "    <tr>\n",
       "      <th>0</th>\n",
       "      <td>LogisticRegression</td>\n",
       "      <td>0.498433</td>\n",
       "      <td>0.497171</td>\n",
       "      <td>0.498433</td>\n",
       "      <td>0.491696</td>\n",
       "    </tr>\n",
       "    <tr>\n",
       "      <th>1</th>\n",
       "      <td>DecisionTreeClassifier</td>\n",
       "      <td>0.500400</td>\n",
       "      <td>0.500360</td>\n",
       "      <td>0.500400</td>\n",
       "      <td>0.500372</td>\n",
       "    </tr>\n",
       "    <tr>\n",
       "      <th>2</th>\n",
       "      <td>KNeighborsClassifier</td>\n",
       "      <td>0.497900</td>\n",
       "      <td>0.497918</td>\n",
       "      <td>0.497900</td>\n",
       "      <td>0.497907</td>\n",
       "    </tr>\n",
       "    <tr>\n",
       "      <th>3</th>\n",
       "      <td>GaussianNB</td>\n",
       "      <td>0.499333</td>\n",
       "      <td>0.498084</td>\n",
       "      <td>0.499333</td>\n",
       "      <td>0.492268</td>\n",
       "    </tr>\n",
       "    <tr>\n",
       "      <th>4</th>\n",
       "      <td>AdaBoostClassifier</td>\n",
       "      <td>0.498467</td>\n",
       "      <td>0.498457</td>\n",
       "      <td>0.498467</td>\n",
       "      <td>0.498461</td>\n",
       "    </tr>\n",
       "    <tr>\n",
       "      <th>5</th>\n",
       "      <td>GradientBoostingClassifier</td>\n",
       "      <td>0.502000</td>\n",
       "      <td>0.501906</td>\n",
       "      <td>0.502000</td>\n",
       "      <td>0.501909</td>\n",
       "    </tr>\n",
       "    <tr>\n",
       "      <th>6</th>\n",
       "      <td>RandomForestClassifier</td>\n",
       "      <td>0.505767</td>\n",
       "      <td>0.505583</td>\n",
       "      <td>0.505767</td>\n",
       "      <td>0.505489</td>\n",
       "    </tr>\n",
       "    <tr>\n",
       "      <th>7</th>\n",
       "      <td>XGBClassifier</td>\n",
       "      <td>0.497667</td>\n",
       "      <td>0.497633</td>\n",
       "      <td>0.497667</td>\n",
       "      <td>0.497644</td>\n",
       "    </tr>\n",
       "    <tr>\n",
       "      <th>8</th>\n",
       "      <td>SVC</td>\n",
       "      <td>0.501733</td>\n",
       "      <td>0.501010</td>\n",
       "      <td>0.501733</td>\n",
       "      <td>0.498641</td>\n",
       "    </tr>\n",
       "  </tbody>\n",
       "</table>\n",
       "</div>"
      ],
      "text/plain": [
       "                    Algorithm  Accuracy  Precision    Recall  F1-score\n",
       "0          LogisticRegression  0.498433   0.497171  0.498433  0.491696\n",
       "1      DecisionTreeClassifier  0.500400   0.500360  0.500400  0.500372\n",
       "2        KNeighborsClassifier  0.497900   0.497918  0.497900  0.497907\n",
       "3                  GaussianNB  0.499333   0.498084  0.499333  0.492268\n",
       "4          AdaBoostClassifier  0.498467   0.498457  0.498467  0.498461\n",
       "5  GradientBoostingClassifier  0.502000   0.501906  0.502000  0.501909\n",
       "6      RandomForestClassifier  0.505767   0.505583  0.505767  0.505489\n",
       "7               XGBClassifier  0.497667   0.497633  0.497667  0.497644\n",
       "8                         SVC  0.501733   0.501010  0.501733  0.498641"
      ]
     },
     "execution_count": 49,
     "metadata": {},
     "output_type": "execute_result"
    }
   ],
   "source": [
    "results_test = {\n",
    "    'Algorithm': [],\n",
    "    'Accuracy': [],\n",
    "    'Precision': [],\n",
    "    'Recall': [],\n",
    "    'F1-score': []\n",
    "}\n",
    "\n",
    "# Apply the algorithms and calculate performance metrics for test data\n",
    "for algorithm in algorithms:\n",
    "    algorithm_name = type(algorithm).__name__\n",
    "    y_test_pred = algorithm.predict(X_test)\n",
    "\n",
    "    accuracy = accuracy_score(y_test, y_test_pred)\n",
    "    precision = precision_score(y_test, y_test_pred, average='weighted')\n",
    "    recall = recall_score(y_test, y_test_pred, average='weighted')\n",
    "    f1 = f1_score(y_test, y_test_pred, average='weighted')\n",
    "\n",
    "    results_test['Algorithm'].append(algorithm_name)\n",
    "    results_test['Accuracy'].append(accuracy)\n",
    "    results_test['Precision'].append(precision)\n",
    "    results_test['Recall'].append(recall)\n",
    "    results_test['F1-score'].append(f1)\n",
    "\n",
    "# Create a dataframe for the test data results\n",
    "df_test = pd.DataFrame(results_test)\n",
    "df_test"
   ]
  },
  {
   "cell_type": "markdown",
   "id": "03dcb884",
   "metadata": {},
   "source": [
    "* **Decision Tree and Random Forest overfits.**\n",
    "\n",
    "\n",
    "* **No algorithm is performing well, so I decided to build model using neural networks.**\n",
    "\n",
    "\n",
    "* **If the neural network does not provide better results than machine learning algorithms, then I will build ensembles of random forests because random forests achieve perfect scores in all metrics in the training data. Decision trees also achieve perfect scores in all metrics in the training data, but I have already tried and tested multiple ensembles that use decision trees. Therefore, I will now build ensembles using random forests**."
   ]
  },
  {
   "cell_type": "markdown",
   "id": "5cd508fc",
   "metadata": {},
   "source": [
    "# `Model Building: Neural Network`"
   ]
  },
  {
   "cell_type": "code",
   "execution_count": 98,
   "id": "d52377f6",
   "metadata": {},
   "outputs": [
    {
     "name": "stdout",
     "output_type": "stream",
     "text": [
      "Defaulting to user installation because normal site-packages is not writeable\n",
      "Collecting tensorflow\n",
      "  Downloading tensorflow-2.17.0-cp39-cp39-macosx_12_0_arm64.whl.metadata (4.1 kB)\n",
      "Collecting absl-py>=1.0.0 (from tensorflow)\n",
      "  Downloading absl_py-2.1.0-py3-none-any.whl.metadata (2.3 kB)\n",
      "Collecting astunparse>=1.6.0 (from tensorflow)\n",
      "  Downloading astunparse-1.6.3-py2.py3-none-any.whl.metadata (4.4 kB)\n",
      "Collecting flatbuffers>=24.3.25 (from tensorflow)\n",
      "  Downloading flatbuffers-24.3.25-py2.py3-none-any.whl.metadata (850 bytes)\n",
      "Collecting gast!=0.5.0,!=0.5.1,!=0.5.2,>=0.2.1 (from tensorflow)\n",
      "  Downloading gast-0.6.0-py3-none-any.whl.metadata (1.3 kB)\n",
      "Collecting google-pasta>=0.1.1 (from tensorflow)\n",
      "  Downloading google_pasta-0.2.0-py3-none-any.whl.metadata (814 bytes)\n",
      "Collecting h5py>=3.10.0 (from tensorflow)\n",
      "  Downloading h5py-3.12.1-cp39-cp39-macosx_11_0_arm64.whl.metadata (2.5 kB)\n",
      "Collecting libclang>=13.0.0 (from tensorflow)\n",
      "  Downloading libclang-18.1.1-1-py2.py3-none-macosx_11_0_arm64.whl.metadata (5.2 kB)\n",
      "Collecting ml-dtypes<0.5.0,>=0.3.1 (from tensorflow)\n",
      "  Downloading ml_dtypes-0.4.1-cp39-cp39-macosx_10_9_universal2.whl.metadata (20 kB)\n",
      "Collecting opt-einsum>=2.3.2 (from tensorflow)\n",
      "  Downloading opt_einsum-3.4.0-py3-none-any.whl.metadata (6.3 kB)\n",
      "Requirement already satisfied: packaging in /Users/prasenjeetsmac/Library/Python/3.9/lib/python/site-packages (from tensorflow) (24.0)\n",
      "Collecting protobuf!=4.21.0,!=4.21.1,!=4.21.2,!=4.21.3,!=4.21.4,!=4.21.5,<5.0.0dev,>=3.20.3 (from tensorflow)\n",
      "  Downloading protobuf-4.25.5-cp37-abi3-macosx_10_9_universal2.whl.metadata (541 bytes)\n",
      "Requirement already satisfied: requests<3,>=2.21.0 in /Users/prasenjeetsmac/Library/Python/3.9/lib/python/site-packages (from tensorflow) (2.32.3)\n",
      "Requirement already satisfied: setuptools in /Library/Developer/CommandLineTools/Library/Frameworks/Python3.framework/Versions/3.9/lib/python3.9/site-packages (from tensorflow) (58.0.4)\n",
      "Requirement already satisfied: six>=1.12.0 in /Library/Developer/CommandLineTools/Library/Frameworks/Python3.framework/Versions/3.9/lib/python3.9/site-packages (from tensorflow) (1.15.0)\n",
      "Collecting termcolor>=1.1.0 (from tensorflow)\n",
      "  Downloading termcolor-2.4.0-py3-none-any.whl.metadata (6.1 kB)\n",
      "Requirement already satisfied: typing-extensions>=3.6.6 in /Users/prasenjeetsmac/Library/Python/3.9/lib/python/site-packages (from tensorflow) (4.12.1)\n",
      "Requirement already satisfied: wrapt>=1.11.0 in /Users/prasenjeetsmac/Library/Python/3.9/lib/python/site-packages (from tensorflow) (1.16.0)\n",
      "Collecting grpcio<2.0,>=1.24.3 (from tensorflow)\n",
      "  Downloading grpcio-1.66.2-cp39-cp39-macosx_10_9_universal2.whl.metadata (3.9 kB)\n",
      "Collecting tensorboard<2.18,>=2.17 (from tensorflow)\n",
      "  Downloading tensorboard-2.17.1-py3-none-any.whl.metadata (1.6 kB)\n",
      "Collecting keras>=3.2.0 (from tensorflow)\n",
      "  Downloading keras-3.5.0-py3-none-any.whl.metadata (5.8 kB)\n",
      "Collecting tensorflow-io-gcs-filesystem>=0.23.1 (from tensorflow)\n",
      "  Downloading tensorflow_io_gcs_filesystem-0.37.1-cp39-cp39-macosx_12_0_arm64.whl.metadata (14 kB)\n",
      "Requirement already satisfied: numpy<2.0.0,>=1.23.5 in /Users/prasenjeetsmac/Library/Python/3.9/lib/python/site-packages (from tensorflow) (1.26.4)\n",
      "Requirement already satisfied: wheel<1.0,>=0.23.0 in /Library/Developer/CommandLineTools/Library/Frameworks/Python3.framework/Versions/3.9/lib/python3.9/site-packages (from astunparse>=1.6.0->tensorflow) (0.37.0)\n",
      "Requirement already satisfied: rich in /Users/prasenjeetsmac/Library/Python/3.9/lib/python/site-packages (from keras>=3.2.0->tensorflow) (13.7.1)\n",
      "Collecting namex (from keras>=3.2.0->tensorflow)\n",
      "  Downloading namex-0.0.8-py3-none-any.whl.metadata (246 bytes)\n",
      "Collecting optree (from keras>=3.2.0->tensorflow)\n",
      "  Downloading optree-0.12.1-cp39-cp39-macosx_11_0_arm64.whl.metadata (47 kB)\n",
      "\u001b[2K     \u001b[90m━━━━━━━━━━━━━━━━━━━━━━━━━━━━━━━━━━━━━━━━\u001b[0m \u001b[32m47.8/47.8 kB\u001b[0m \u001b[31m2.8 MB/s\u001b[0m eta \u001b[36m0:00:00\u001b[0m\n",
      "\u001b[?25hRequirement already satisfied: charset-normalizer<4,>=2 in /Users/prasenjeetsmac/Library/Python/3.9/lib/python/site-packages (from requests<3,>=2.21.0->tensorflow) (3.3.2)\n",
      "Requirement already satisfied: idna<4,>=2.5 in /Users/prasenjeetsmac/Library/Python/3.9/lib/python/site-packages (from requests<3,>=2.21.0->tensorflow) (3.7)\n",
      "Requirement already satisfied: urllib3<3,>=1.21.1 in /Users/prasenjeetsmac/Library/Python/3.9/lib/python/site-packages (from requests<3,>=2.21.0->tensorflow) (2.2.2)\n",
      "Requirement already satisfied: certifi>=2017.4.17 in /Users/prasenjeetsmac/Library/Python/3.9/lib/python/site-packages (from requests<3,>=2.21.0->tensorflow) (2024.7.4)\n",
      "Collecting markdown>=2.6.8 (from tensorboard<2.18,>=2.17->tensorflow)\n",
      "  Downloading Markdown-3.7-py3-none-any.whl.metadata (7.0 kB)\n",
      "Collecting tensorboard-data-server<0.8.0,>=0.7.0 (from tensorboard<2.18,>=2.17->tensorflow)\n",
      "  Downloading tensorboard_data_server-0.7.2-py3-none-any.whl.metadata (1.1 kB)\n",
      "Collecting werkzeug>=1.0.1 (from tensorboard<2.18,>=2.17->tensorflow)\n",
      "  Downloading werkzeug-3.0.4-py3-none-any.whl.metadata (3.7 kB)\n",
      "Requirement already satisfied: importlib-metadata>=4.4 in /Users/prasenjeetsmac/Library/Python/3.9/lib/python/site-packages (from markdown>=2.6.8->tensorboard<2.18,>=2.17->tensorflow) (7.1.0)\n",
      "Requirement already satisfied: MarkupSafe>=2.1.1 in /Users/prasenjeetsmac/Library/Python/3.9/lib/python/site-packages (from werkzeug>=1.0.1->tensorboard<2.18,>=2.17->tensorflow) (2.1.5)\n",
      "Requirement already satisfied: markdown-it-py>=2.2.0 in /Users/prasenjeetsmac/Library/Python/3.9/lib/python/site-packages (from rich->keras>=3.2.0->tensorflow) (3.0.0)\n",
      "Requirement already satisfied: pygments<3.0.0,>=2.13.0 in /Users/prasenjeetsmac/Library/Python/3.9/lib/python/site-packages (from rich->keras>=3.2.0->tensorflow) (2.18.0)\n",
      "Requirement already satisfied: zipp>=0.5 in /Users/prasenjeetsmac/Library/Python/3.9/lib/python/site-packages (from importlib-metadata>=4.4->markdown>=2.6.8->tensorboard<2.18,>=2.17->tensorflow) (3.19.1)\n",
      "Requirement already satisfied: mdurl~=0.1 in /Users/prasenjeetsmac/Library/Python/3.9/lib/python/site-packages (from markdown-it-py>=2.2.0->rich->keras>=3.2.0->tensorflow) (0.1.2)\n",
      "Downloading tensorflow-2.17.0-cp39-cp39-macosx_12_0_arm64.whl (236.1 MB)\n",
      "\u001b[2K   \u001b[90m━━━━━━━━━━━━━━━━━━━━━━━━━━━━━━━━━━━━━━━━\u001b[0m \u001b[32m236.1/236.1 MB\u001b[0m \u001b[31m6.7 MB/s\u001b[0m eta \u001b[36m0:00:00\u001b[0m:00:01\u001b[0m00:01\u001b[0m\n",
      "\u001b[?25hDownloading absl_py-2.1.0-py3-none-any.whl (133 kB)\n",
      "\u001b[2K   \u001b[90m━━━━━━━━━━━━━━━━━━━━━━━━━━━━━━━━━━━━━━━━\u001b[0m \u001b[32m133.7/133.7 kB\u001b[0m \u001b[31m1.2 MB/s\u001b[0m eta \u001b[36m0:00:00\u001b[0m:00:01\u001b[0m\n",
      "\u001b[?25hDownloading astunparse-1.6.3-py2.py3-none-any.whl (12 kB)\n",
      "Downloading flatbuffers-24.3.25-py2.py3-none-any.whl (26 kB)\n",
      "Downloading gast-0.6.0-py3-none-any.whl (21 kB)\n",
      "Downloading google_pasta-0.2.0-py3-none-any.whl (57 kB)\n",
      "\u001b[2K   \u001b[90m━━━━━━━━━━━━━━━━━━━━━━━━━━━━━━━━━━━━━━━━\u001b[0m \u001b[32m57.5/57.5 kB\u001b[0m \u001b[31m8.1 MB/s\u001b[0m eta \u001b[36m0:00:00\u001b[0m\n",
      "\u001b[?25hDownloading grpcio-1.66.2-cp39-cp39-macosx_10_9_universal2.whl (10.8 MB)\n",
      "\u001b[2K   \u001b[90m━━━━━━━━━━━━━━━━━━━━━━━━━━━━━━━━━━━━━━━━\u001b[0m \u001b[32m10.8/10.8 MB\u001b[0m \u001b[31m23.8 MB/s\u001b[0m eta \u001b[36m0:00:00\u001b[0ma \u001b[36m0:00:01\u001b[0m\n",
      "\u001b[?25hDownloading h5py-3.12.1-cp39-cp39-macosx_11_0_arm64.whl (2.9 MB)\n",
      "\u001b[2K   \u001b[90m━━━━━━━━━━━━━━━━━━━━━━━━━━━━━━━━━━━━━━━━\u001b[0m \u001b[32m2.9/2.9 MB\u001b[0m \u001b[31m15.6 MB/s\u001b[0m eta \u001b[36m0:00:00\u001b[0ma \u001b[36m0:00:01\u001b[0m\n",
      "\u001b[?25hDownloading keras-3.5.0-py3-none-any.whl (1.1 MB)\n",
      "\u001b[2K   \u001b[90m━━━━━━━━━━━━━━━━━━━━━━━━━━━━━━━━━━━━━━━━\u001b[0m \u001b[32m1.1/1.1 MB\u001b[0m \u001b[31m25.5 MB/s\u001b[0m eta \u001b[36m0:00:00\u001b[0ma \u001b[36m0:00:01\u001b[0m\n",
      "\u001b[?25hDownloading libclang-18.1.1-1-py2.py3-none-macosx_11_0_arm64.whl (25.8 MB)\n",
      "\u001b[2K   \u001b[90m━━━━━━━━━━━━━━━━━━━━━━━━━━━━━━━━━━━━━━━━\u001b[0m \u001b[32m25.8/25.8 MB\u001b[0m \u001b[31m27.2 MB/s\u001b[0m eta \u001b[36m0:00:00\u001b[0m00:01\u001b[0m00:01\u001b[0m\n",
      "\u001b[?25hDownloading ml_dtypes-0.4.1-cp39-cp39-macosx_10_9_universal2.whl (396 kB)\n",
      "\u001b[2K   \u001b[90m━━━━━━━━━━━━━━━━━━━━━━━━━━━━━━━━━━━━━━━━\u001b[0m \u001b[32m396.6/396.6 kB\u001b[0m \u001b[31m22.5 MB/s\u001b[0m eta \u001b[36m0:00:00\u001b[0m\n",
      "\u001b[?25hDownloading opt_einsum-3.4.0-py3-none-any.whl (71 kB)\n",
      "\u001b[2K   \u001b[90m━━━━━━━━━━━━━━━━━━━━━━━━━━━━━━━━━━━━━━━━\u001b[0m \u001b[32m71.9/71.9 kB\u001b[0m \u001b[31m7.8 MB/s\u001b[0m eta \u001b[36m0:00:00\u001b[0m\n",
      "\u001b[?25hDownloading protobuf-4.25.5-cp37-abi3-macosx_10_9_universal2.whl (394 kB)\n",
      "\u001b[2K   \u001b[90m━━━━━━━━━━━━━━━━━━━━━━━━━━━━━━━━━━━━━━━━\u001b[0m \u001b[32m394.2/394.2 kB\u001b[0m \u001b[31m24.9 MB/s\u001b[0m eta \u001b[36m0:00:00\u001b[0m\n",
      "\u001b[?25hDownloading tensorboard-2.17.1-py3-none-any.whl (5.5 MB)\n",
      "\u001b[2K   \u001b[90m━━━━━━━━━━━━━━━━━━━━━━━━━━━━━━━━━━━━━━━━\u001b[0m \u001b[32m5.5/5.5 MB\u001b[0m \u001b[31m27.6 MB/s\u001b[0m eta \u001b[36m0:00:00\u001b[0m00:01\u001b[0m00:01\u001b[0m\n",
      "\u001b[?25hDownloading tensorflow_io_gcs_filesystem-0.37.1-cp39-cp39-macosx_12_0_arm64.whl (3.5 MB)\n",
      "\u001b[2K   \u001b[90m━━━━━━━━━━━━━━━━━━━━━━━━━━━━━━━━━━━━━━━━\u001b[0m \u001b[32m3.5/3.5 MB\u001b[0m \u001b[31m19.5 MB/s\u001b[0m eta \u001b[36m0:00:00\u001b[0ma \u001b[36m0:00:01\u001b[0m\n",
      "\u001b[?25hDownloading termcolor-2.4.0-py3-none-any.whl (7.7 kB)\n",
      "Downloading Markdown-3.7-py3-none-any.whl (106 kB)\n",
      "\u001b[2K   \u001b[90m━━━━━━━━━━━━━━━━━━━━━━━━━━━━━━━━━━━━━━━━\u001b[0m \u001b[32m106.3/106.3 kB\u001b[0m \u001b[31m13.2 MB/s\u001b[0m eta \u001b[36m0:00:00\u001b[0m\n",
      "\u001b[?25hDownloading tensorboard_data_server-0.7.2-py3-none-any.whl (2.4 kB)\n",
      "Downloading werkzeug-3.0.4-py3-none-any.whl (227 kB)\n",
      "\u001b[2K   \u001b[90m━━━━━━━━━━━━━━━━━━━━━━━━━━━━━━━━━━━━━━━━\u001b[0m \u001b[32m227.6/227.6 kB\u001b[0m \u001b[31m16.8 MB/s\u001b[0m eta \u001b[36m0:00:00\u001b[0m\n",
      "\u001b[?25hDownloading namex-0.0.8-py3-none-any.whl (5.8 kB)\n",
      "Downloading optree-0.12.1-cp39-cp39-macosx_11_0_arm64.whl (282 kB)\n",
      "\u001b[2K   \u001b[90m━━━━━━━━━━━━━━━━━━━━━━━━━━━━━━━━━━━━━━━━\u001b[0m \u001b[32m282.5/282.5 kB\u001b[0m \u001b[31m17.0 MB/s\u001b[0m eta \u001b[36m0:00:00\u001b[0m\n",
      "\u001b[?25hInstalling collected packages: namex, libclang, flatbuffers, werkzeug, termcolor, tensorflow-io-gcs-filesystem, tensorboard-data-server, protobuf, optree, opt-einsum, ml-dtypes, h5py, grpcio, google-pasta, gast, astunparse, absl-py, markdown, tensorboard, keras, tensorflow\n",
      "Successfully installed absl-py-2.1.0 astunparse-1.6.3 flatbuffers-24.3.25 gast-0.6.0 google-pasta-0.2.0 grpcio-1.66.2 h5py-3.12.1 keras-3.5.0 libclang-18.1.1 markdown-3.7 ml-dtypes-0.4.1 namex-0.0.8 opt-einsum-3.4.0 optree-0.12.1 protobuf-4.25.5 tensorboard-2.17.1 tensorboard-data-server-0.7.2 tensorflow-2.17.0 tensorflow-io-gcs-filesystem-0.37.1 termcolor-2.4.0 werkzeug-3.0.4\n",
      "\n",
      "\u001b[1m[\u001b[0m\u001b[34;49mnotice\u001b[0m\u001b[1;39;49m]\u001b[0m\u001b[39;49m A new release of pip is available: \u001b[0m\u001b[31;49m24.0\u001b[0m\u001b[39;49m -> \u001b[0m\u001b[32;49m24.2\u001b[0m\n",
      "\u001b[1m[\u001b[0m\u001b[34;49mnotice\u001b[0m\u001b[1;39;49m]\u001b[0m\u001b[39;49m To update, run: \u001b[0m\u001b[32;49m/Library/Developer/CommandLineTools/usr/bin/python3 -m pip install --upgrade pip\u001b[0m\n",
      "Note: you may need to restart the kernel to use updated packages.\n"
     ]
    }
   ],
   "source": [
    "pip install tensorflow\n"
   ]
  },
  {
   "cell_type": "code",
   "execution_count": 99,
   "id": "d56b5604",
   "metadata": {},
   "outputs": [
    {
     "name": "stderr",
     "output_type": "stream",
     "text": [
      "/Users/prasenjeetsmac/Library/Python/3.9/lib/python/site-packages/urllib3/__init__.py:35: NotOpenSSLWarning: urllib3 v2 only supports OpenSSL 1.1.1+, currently the 'ssl' module is compiled with 'LibreSSL 2.8.3'. See: https://github.com/urllib3/urllib3/issues/3020\n",
      "  warnings.warn(\n"
     ]
    }
   ],
   "source": [
    "import tensorflow as tf\n",
    "from tensorflow.keras.models import Sequential\n",
    "from tensorflow.keras.utils import plot_model\n",
    "from tensorflow.keras.layers import Dense, BatchNormalization, Activation, Dropout\n",
    "from tensorflow.keras.optimizers import Adam\n",
    "from tensorflow.keras.callbacks import EarlyStopping, ModelCheckpoint\n",
    "from sklearn.metrics import recall_score"
   ]
  },
  {
   "cell_type": "markdown",
   "id": "abacd02c",
   "metadata": {},
   "source": [
    "## `Defining Callbacks for Early Stopping and Model Checkpoint`\n",
    "\n",
    "* Best model will save to pwd (present working directory) as 'Churn Classifier.h5'\n",
    "\n",
    "\n",
    "* Early stopping is a regularization technique that stops the training of a neural network before it reaches the maximum number of epochs or iterations. It is important because it helps to prevent overfitting.\n",
    "\n",
    "\n",
    "* Early stopping is a technique that stops the training of a model when the validation loss stops improving. If you set restore_best_weights to False, the model will be saved at the end of the training, even if the validation loss has not improved. This could result in the model being saved at a point where it is overfitting the training data. By setting restore_best_weights to True, the model will be saved at the epoch with the best validation loss. This ensures that the model that is saved is the one that is most likely to generalize well to new data.\n",
    "\n",
    "\n",
    "* When you set restore_best_weights=True in the EarlyStopping callback, it ensures that the model's weights are restored to the state they were in at the epoch with the lowest validation loss. This means that when you evaluate the model after training, the evaluation metrics, including accuracy and other metrics, are computed based on the weights of the model that performed the best on the validation data."
   ]
  },
  {
   "cell_type": "code",
   "execution_count": 100,
   "id": "0d997187",
   "metadata": {},
   "outputs": [],
   "source": [
    "# Define the EarlyStopping and ModelCheckpoint callbacks\n",
    "\n",
    "early_stopping = EarlyStopping(\n",
    "    monitor='val_loss',        # The metric to monitor. This is usually the validation loss.\n",
    "    min_delta=0.001,           # The minimum amount of improvement required to consider the model to have improved.\n",
    "    patience=10,               # The number of epochs to wait without improvement before stopping the training.\n",
    "    verbose=1,                 # Print output\n",
    "    mode='auto',               # Consider mode of the metric as min or max.\n",
    "    restore_best_weights=True  # Whether to restore the model weights at the epoch with the best validation loss.\n",
    ")"
   ]
  },
  {
   "cell_type": "code",
   "execution_count": 101,
   "id": "aa0fb849",
   "metadata": {},
   "outputs": [
    {
     "ename": "ValueError",
     "evalue": "The filepath provided must end in `.keras` (Keras model format). Received: filepath=ChurnClassifier.h5",
     "output_type": "error",
     "traceback": [
      "\u001b[0;31m---------------------------------------------------------------------------\u001b[0m",
      "\u001b[0;31mValueError\u001b[0m                                Traceback (most recent call last)",
      "Cell \u001b[0;32mIn[101], line 1\u001b[0m\n\u001b[0;32m----> 1\u001b[0m checkpoint \u001b[38;5;241m=\u001b[39m \u001b[43mModelCheckpoint\u001b[49m\u001b[43m(\u001b[49m\u001b[38;5;124;43m'\u001b[39;49m\u001b[38;5;124;43mChurnClassifier.h5\u001b[39;49m\u001b[38;5;124;43m'\u001b[39;49m\u001b[43m,\u001b[49m\u001b[43m \u001b[49m\u001b[43mmonitor\u001b[49m\u001b[38;5;241;43m=\u001b[39;49m\u001b[38;5;124;43m'\u001b[39;49m\u001b[38;5;124;43mval_loss\u001b[39;49m\u001b[38;5;124;43m'\u001b[39;49m\u001b[43m,\u001b[49m\u001b[43m \u001b[49m\u001b[43mverbose\u001b[49m\u001b[38;5;241;43m=\u001b[39;49m\u001b[38;5;241;43m1\u001b[39;49m\u001b[43m,\u001b[49m\u001b[43m \u001b[49m\u001b[43msave_best_only\u001b[49m\u001b[38;5;241;43m=\u001b[39;49m\u001b[38;5;28;43;01mTrue\u001b[39;49;00m\u001b[43m,\u001b[49m\u001b[43m \u001b[49m\u001b[43mmode\u001b[49m\u001b[38;5;241;43m=\u001b[39;49m\u001b[38;5;124;43m'\u001b[39;49m\u001b[38;5;124;43mmin\u001b[39;49m\u001b[38;5;124;43m'\u001b[39;49m\u001b[43m)\u001b[49m\n",
      "File \u001b[0;32m~/Library/Python/3.9/lib/python/site-packages/keras/src/callbacks/model_checkpoint.py:191\u001b[0m, in \u001b[0;36mModelCheckpoint.__init__\u001b[0;34m(self, filepath, monitor, verbose, save_best_only, save_weights_only, mode, save_freq, initial_value_threshold)\u001b[0m\n\u001b[1;32m    189\u001b[0m \u001b[38;5;28;01melse\u001b[39;00m:\n\u001b[1;32m    190\u001b[0m     \u001b[38;5;28;01mif\u001b[39;00m \u001b[38;5;129;01mnot\u001b[39;00m \u001b[38;5;28mself\u001b[39m\u001b[38;5;241m.\u001b[39mfilepath\u001b[38;5;241m.\u001b[39mendswith(\u001b[38;5;124m\"\u001b[39m\u001b[38;5;124m.keras\u001b[39m\u001b[38;5;124m\"\u001b[39m):\n\u001b[0;32m--> 191\u001b[0m         \u001b[38;5;28;01mraise\u001b[39;00m \u001b[38;5;167;01mValueError\u001b[39;00m(\n\u001b[1;32m    192\u001b[0m             \u001b[38;5;124m\"\u001b[39m\u001b[38;5;124mThe filepath provided must end in `.keras` \u001b[39m\u001b[38;5;124m\"\u001b[39m\n\u001b[1;32m    193\u001b[0m             \u001b[38;5;124m\"\u001b[39m\u001b[38;5;124m(Keras model format). Received: \u001b[39m\u001b[38;5;124m\"\u001b[39m\n\u001b[1;32m    194\u001b[0m             \u001b[38;5;124mf\u001b[39m\u001b[38;5;124m\"\u001b[39m\u001b[38;5;124mfilepath=\u001b[39m\u001b[38;5;132;01m{\u001b[39;00m\u001b[38;5;28mself\u001b[39m\u001b[38;5;241m.\u001b[39mfilepath\u001b[38;5;132;01m}\u001b[39;00m\u001b[38;5;124m\"\u001b[39m\n\u001b[1;32m    195\u001b[0m         )\n",
      "\u001b[0;31mValueError\u001b[0m: The filepath provided must end in `.keras` (Keras model format). Received: filepath=ChurnClassifier.h5"
     ]
    }
   ],
   "source": [
    "#checkpoint = ModelCheckpoint('ChurnClassifier.h5', monitor='val_loss', verbose=1, save_best_only=True, mode='min')"
   ]
  },
  {
   "cell_type": "code",
   "execution_count": 102,
   "id": "c03413af",
   "metadata": {},
   "outputs": [],
   "source": [
    "from tensorflow.keras.callbacks import ModelCheckpoint\n",
    "\n",
    "checkpoint = ModelCheckpoint('ChurnClassifier.keras', monitor='val_loss', verbose=1, save_best_only=True, mode='min')\n"
   ]
  },
  {
   "cell_type": "markdown",
   "id": "1ee0c8bf",
   "metadata": {},
   "source": [
    "## `Build Neural Network Architectures & Fit Model on Training Data`"
   ]
  },
  {
   "cell_type": "markdown",
   "id": "10399651",
   "metadata": {},
   "source": [
    "### `Architecture I`"
   ]
  },
  {
   "cell_type": "code",
   "execution_count": 103,
   "id": "af7bb570",
   "metadata": {},
   "outputs": [],
   "source": [
    "model = tf.keras.Sequential([\n",
    "    tf.keras.layers.Dense(128, activation='relu'),\n",
    "    tf.keras.layers.Dense(64, activation='relu'),\n",
    "    tf.keras.layers.Dense(1, activation='sigmoid')\n",
    "])\n",
    "\n",
    "# Compile the model]\n",
    "model.compile(optimizer='adam', loss='binary_crossentropy', metrics=['accuracy'])"
   ]
  },
  {
   "cell_type": "code",
   "execution_count": 104,
   "id": "36a16a03",
   "metadata": {},
   "outputs": [
    {
     "name": "stdout",
     "output_type": "stream",
     "text": [
      "Epoch 1/100\n",
      "\u001b[1m363/383\u001b[0m \u001b[32m━━━━━━━━━━━━━━━━━━\u001b[0m\u001b[37m━━\u001b[0m \u001b[1m0s\u001b[0m 416us/step - accuracy: 0.5017 - loss: 0.6936\n",
      "Epoch 1: val_loss improved from inf to 0.69340, saving model to ChurnClassifier.keras\n",
      "\u001b[1m383/383\u001b[0m \u001b[32m━━━━━━━━━━━━━━━━━━━━\u001b[0m\u001b[37m\u001b[0m \u001b[1m1s\u001b[0m 817us/step - accuracy: 0.5017 - loss: 0.6936 - val_accuracy: 0.4984 - val_loss: 0.6934\n",
      "Epoch 2/100\n",
      "\u001b[1m357/383\u001b[0m \u001b[32m━━━━━━━━━━━━━━━━━━\u001b[0m\u001b[37m━━\u001b[0m \u001b[1m0s\u001b[0m 422us/step - accuracy: 0.5039 - loss: 0.6934\n",
      "Epoch 2: val_loss improved from 0.69340 to 0.69329, saving model to ChurnClassifier.keras\n",
      "\u001b[1m383/383\u001b[0m \u001b[32m━━━━━━━━━━━━━━━━━━━━\u001b[0m\u001b[37m\u001b[0m \u001b[1m0s\u001b[0m 585us/step - accuracy: 0.5038 - loss: 0.6934 - val_accuracy: 0.5017 - val_loss: 0.6933\n",
      "Epoch 3/100\n",
      "\u001b[1m363/383\u001b[0m \u001b[32m━━━━━━━━━━━━━━━━━━\u001b[0m\u001b[37m━━\u001b[0m \u001b[1m0s\u001b[0m 416us/step - accuracy: 0.4992 - loss: 0.6934\n",
      "Epoch 3: val_loss did not improve from 0.69329\n",
      "\u001b[1m383/383\u001b[0m \u001b[32m━━━━━━━━━━━━━━━━━━━━\u001b[0m\u001b[37m\u001b[0m \u001b[1m0s\u001b[0m 557us/step - accuracy: 0.4993 - loss: 0.6934 - val_accuracy: 0.5036 - val_loss: 0.6934\n",
      "Epoch 4/100\n",
      "\u001b[1m361/383\u001b[0m \u001b[32m━━━━━━━━━━━━━━━━━━\u001b[0m\u001b[37m━━\u001b[0m \u001b[1m0s\u001b[0m 419us/step - accuracy: 0.5058 - loss: 0.6931\n",
      "Epoch 4: val_loss improved from 0.69329 to 0.69317, saving model to ChurnClassifier.keras\n",
      "\u001b[1m383/383\u001b[0m \u001b[32m━━━━━━━━━━━━━━━━━━━━\u001b[0m\u001b[37m\u001b[0m \u001b[1m0s\u001b[0m 575us/step - accuracy: 0.5057 - loss: 0.6931 - val_accuracy: 0.5007 - val_loss: 0.6932\n",
      "Epoch 5/100\n",
      "\u001b[1m351/383\u001b[0m \u001b[32m━━━━━━━━━━━━━━━━━━\u001b[0m\u001b[37m━━\u001b[0m \u001b[1m0s\u001b[0m 430us/step - accuracy: 0.4986 - loss: 0.6932\n",
      "Epoch 5: val_loss improved from 0.69317 to 0.69317, saving model to ChurnClassifier.keras\n",
      "\u001b[1m383/383\u001b[0m \u001b[32m━━━━━━━━━━━━━━━━━━━━\u001b[0m\u001b[37m\u001b[0m \u001b[1m0s\u001b[0m 597us/step - accuracy: 0.4988 - loss: 0.6932 - val_accuracy: 0.4994 - val_loss: 0.6932\n",
      "Epoch 6/100\n",
      "\u001b[1m361/383\u001b[0m \u001b[32m━━━━━━━━━━━━━━━━━━\u001b[0m\u001b[37m━━\u001b[0m \u001b[1m0s\u001b[0m 418us/step - accuracy: 0.5073 - loss: 0.6930\n",
      "Epoch 6: val_loss did not improve from 0.69317\n",
      "\u001b[1m383/383\u001b[0m \u001b[32m━━━━━━━━━━━━━━━━━━━━\u001b[0m\u001b[37m\u001b[0m \u001b[1m0s\u001b[0m 560us/step - accuracy: 0.5071 - loss: 0.6930 - val_accuracy: 0.5001 - val_loss: 0.6933\n",
      "Epoch 7/100\n",
      "\u001b[1m343/383\u001b[0m \u001b[32m━━━━━━━━━━━━━━━━━\u001b[0m\u001b[37m━━━\u001b[0m \u001b[1m0s\u001b[0m 441us/step - accuracy: 0.5041 - loss: 0.6931\n",
      "Epoch 7: val_loss improved from 0.69317 to 0.69316, saving model to ChurnClassifier.keras\n",
      "\u001b[1m383/383\u001b[0m \u001b[32m━━━━━━━━━━━━━━━━━━━━\u001b[0m\u001b[37m\u001b[0m \u001b[1m0s\u001b[0m 593us/step - accuracy: 0.5041 - loss: 0.6931 - val_accuracy: 0.5019 - val_loss: 0.6932\n",
      "Epoch 8/100\n",
      "\u001b[1m353/383\u001b[0m \u001b[32m━━━━━━━━━━━━━━━━━━\u001b[0m\u001b[37m━━\u001b[0m \u001b[1m0s\u001b[0m 428us/step - accuracy: 0.5054 - loss: 0.6931\n",
      "Epoch 8: val_loss did not improve from 0.69316\n",
      "\u001b[1m383/383\u001b[0m \u001b[32m━━━━━━━━━━━━━━━━━━━━\u001b[0m\u001b[37m\u001b[0m \u001b[1m0s\u001b[0m 572us/step - accuracy: 0.5052 - loss: 0.6931 - val_accuracy: 0.4973 - val_loss: 0.6933\n",
      "Epoch 9/100\n",
      "\u001b[1m370/383\u001b[0m \u001b[32m━━━━━━━━━━━━━━━━━━━\u001b[0m\u001b[37m━\u001b[0m \u001b[1m0s\u001b[0m 408us/step - accuracy: 0.5001 - loss: 0.6932\n",
      "Epoch 9: val_loss did not improve from 0.69316\n",
      "\u001b[1m383/383\u001b[0m \u001b[32m━━━━━━━━━━━━━━━━━━━━\u001b[0m\u001b[37m\u001b[0m \u001b[1m0s\u001b[0m 547us/step - accuracy: 0.5002 - loss: 0.6932 - val_accuracy: 0.4975 - val_loss: 0.6932\n",
      "Epoch 10/100\n",
      "\u001b[1m369/383\u001b[0m \u001b[32m━━━━━━━━━━━━━━━━━━━\u001b[0m\u001b[37m━\u001b[0m \u001b[1m0s\u001b[0m 547us/step - accuracy: 0.5050 - loss: 0.6930\n",
      "Epoch 10: val_loss improved from 0.69316 to 0.69312, saving model to ChurnClassifier.keras\n",
      "\u001b[1m383/383\u001b[0m \u001b[32m━━━━━━━━━━━━━━━━━━━━\u001b[0m\u001b[37m\u001b[0m \u001b[1m0s\u001b[0m 734us/step - accuracy: 0.5050 - loss: 0.6930 - val_accuracy: 0.5037 - val_loss: 0.6931\n",
      "Epoch 11/100\n",
      "\u001b[1m356/383\u001b[0m \u001b[32m━━━━━━━━━━━━━━━━━━\u001b[0m\u001b[37m━━\u001b[0m \u001b[1m0s\u001b[0m 423us/step - accuracy: 0.5035 - loss: 0.6930\n",
      "Epoch 11: val_loss did not improve from 0.69312\n",
      "\u001b[1m383/383\u001b[0m \u001b[32m━━━━━━━━━━━━━━━━━━━━\u001b[0m\u001b[37m\u001b[0m \u001b[1m0s\u001b[0m 562us/step - accuracy: 0.5037 - loss: 0.6930 - val_accuracy: 0.5007 - val_loss: 0.6933\n",
      "Epoch 11: early stopping\n",
      "Restoring model weights from the end of the best epoch: 1.\n"
     ]
    }
   ],
   "source": [
    "# Train the model\n",
    "history = model.fit(X_train, y_train, epochs=100, batch_size=128, validation_split=0.3, callbacks=[early_stopping, checkpoint],\n",
    "                    verbose=1)"
   ]
  },
  {
   "cell_type": "markdown",
   "id": "174e1ecb",
   "metadata": {},
   "source": [
    "### `Architecture II`"
   ]
  },
  {
   "cell_type": "code",
   "execution_count": 105,
   "id": "fbb03b77",
   "metadata": {},
   "outputs": [
    {
     "name": "stderr",
     "output_type": "stream",
     "text": [
      "/Users/prasenjeetsmac/Library/Python/3.9/lib/python/site-packages/keras/src/layers/core/dense.py:87: UserWarning: Do not pass an `input_shape`/`input_dim` argument to a layer. When using Sequential models, prefer using an `Input(shape)` object as the first layer in the model instead.\n",
      "  super().__init__(activity_regularizer=activity_regularizer, **kwargs)\n"
     ]
    }
   ],
   "source": [
    "model = Sequential()\n",
    "\n",
    "# layers\n",
    "model.add(Dense(units = 32, kernel_initializer = 'uniform', activation = 'relu', input_dim = 4))\n",
    "model.add(Dense(units = 32, kernel_initializer = 'uniform', activation = 'relu'))\n",
    "model.add(Dense(units = 16, kernel_initializer = 'uniform', activation = 'relu'))\n",
    "model.add(Dropout(0.25))\n",
    "model.add(Dense(units = 8, kernel_initializer = 'uniform', activation = 'relu'))\n",
    "model.add(Dropout(0.5))\n",
    "model.add(Dense(units = 1, kernel_initializer = 'uniform', activation = 'sigmoid'))\n",
    "\n",
    "# Compile the model]\n",
    "model.compile(optimizer='adam', loss='binary_crossentropy', metrics=['accuracy'])"
   ]
  },
  {
   "cell_type": "code",
   "execution_count": 106,
   "id": "7efcf0ed",
   "metadata": {},
   "outputs": [
    {
     "name": "stdout",
     "output_type": "stream",
     "text": [
      "Epoch 1/100\n",
      "\u001b[1m374/383\u001b[0m \u001b[32m━━━━━━━━━━━━━━━━━━━\u001b[0m\u001b[37m━\u001b[0m \u001b[1m0s\u001b[0m 404us/step - accuracy: 0.4989 - loss: 0.6932\n",
      "Epoch 1: val_loss did not improve from 0.69312\n",
      "\u001b[1m383/383\u001b[0m \u001b[32m━━━━━━━━━━━━━━━━━━━━\u001b[0m\u001b[37m\u001b[0m \u001b[1m1s\u001b[0m 735us/step - accuracy: 0.4989 - loss: 0.6932 - val_accuracy: 0.4967 - val_loss: 0.6932\n",
      "Epoch 2/100\n",
      "\u001b[1m360/383\u001b[0m \u001b[32m━━━━━━━━━━━━━━━━━━\u001b[0m\u001b[37m━━\u001b[0m \u001b[1m0s\u001b[0m 419us/step - accuracy: 0.4981 - loss: 0.6932\n",
      "Epoch 2: val_loss did not improve from 0.69312\n",
      "\u001b[1m383/383\u001b[0m \u001b[32m━━━━━━━━━━━━━━━━━━━━\u001b[0m\u001b[37m\u001b[0m \u001b[1m0s\u001b[0m 554us/step - accuracy: 0.4984 - loss: 0.6932 - val_accuracy: 0.4967 - val_loss: 0.6933\n",
      "Epoch 3/100\n",
      "\u001b[1m369/383\u001b[0m \u001b[32m━━━━━━━━━━━━━━━━━━━\u001b[0m\u001b[37m━\u001b[0m \u001b[1m0s\u001b[0m 409us/step - accuracy: 0.5030 - loss: 0.6931\n",
      "Epoch 3: val_loss did not improve from 0.69312\n",
      "\u001b[1m383/383\u001b[0m \u001b[32m━━━━━━━━━━━━━━━━━━━━\u001b[0m\u001b[37m\u001b[0m \u001b[1m0s\u001b[0m 557us/step - accuracy: 0.5030 - loss: 0.6931 - val_accuracy: 0.4967 - val_loss: 0.6932\n",
      "Epoch 4/100\n",
      "\u001b[1m356/383\u001b[0m \u001b[32m━━━━━━━━━━━━━━━━━━\u001b[0m\u001b[37m━━\u001b[0m \u001b[1m0s\u001b[0m 423us/step - accuracy: 0.5046 - loss: 0.6931\n",
      "Epoch 4: val_loss did not improve from 0.69312\n",
      "\u001b[1m383/383\u001b[0m \u001b[32m━━━━━━━━━━━━━━━━━━━━\u001b[0m\u001b[37m\u001b[0m \u001b[1m0s\u001b[0m 558us/step - accuracy: 0.5045 - loss: 0.6931 - val_accuracy: 0.4967 - val_loss: 0.6932\n",
      "Epoch 5/100\n",
      "\u001b[1m317/383\u001b[0m \u001b[32m━━━━━━━━━━━━━━━━\u001b[0m\u001b[37m━━━━\u001b[0m \u001b[1m0s\u001b[0m 477us/step - accuracy: 0.5010 - loss: 0.6932\n",
      "Epoch 5: val_loss did not improve from 0.69312\n",
      "\u001b[1m383/383\u001b[0m \u001b[32m━━━━━━━━━━━━━━━━━━━━\u001b[0m\u001b[37m\u001b[0m \u001b[1m0s\u001b[0m 594us/step - accuracy: 0.5014 - loss: 0.6932 - val_accuracy: 0.4967 - val_loss: 0.6932\n",
      "Epoch 6/100\n",
      "\u001b[1m364/383\u001b[0m \u001b[32m━━━━━━━━━━━━━━━━━━━\u001b[0m\u001b[37m━\u001b[0m \u001b[1m0s\u001b[0m 415us/step - accuracy: 0.5005 - loss: 0.6932\n",
      "Epoch 6: val_loss did not improve from 0.69312\n",
      "\u001b[1m383/383\u001b[0m \u001b[32m━━━━━━━━━━━━━━━━━━━━\u001b[0m\u001b[37m\u001b[0m \u001b[1m0s\u001b[0m 553us/step - accuracy: 0.5007 - loss: 0.6932 - val_accuracy: 0.4967 - val_loss: 0.6932\n",
      "Epoch 7/100\n",
      "\u001b[1m257/383\u001b[0m \u001b[32m━━━━━━━━━━━━━\u001b[0m\u001b[37m━━━━━━━\u001b[0m \u001b[1m0s\u001b[0m 391us/step - accuracy: 0.5058 - loss: 0.6931\n",
      "Epoch 7: val_loss did not improve from 0.69312\n",
      "\u001b[1m383/383\u001b[0m \u001b[32m━━━━━━━━━━━━━━━━━━━━\u001b[0m\u001b[37m\u001b[0m \u001b[1m0s\u001b[0m 524us/step - accuracy: 0.5051 - loss: 0.6931 - val_accuracy: 0.4967 - val_loss: 0.6932\n",
      "Epoch 8/100\n",
      "\u001b[1m297/383\u001b[0m \u001b[32m━━━━━━━━━━━━━━━\u001b[0m\u001b[37m━━━━━\u001b[0m \u001b[1m0s\u001b[0m 514us/step - accuracy: 0.5003 - loss: 0.6931\n",
      "Epoch 8: val_loss did not improve from 0.69312\n",
      "\u001b[1m383/383\u001b[0m \u001b[32m━━━━━━━━━━━━━━━━━━━━\u001b[0m\u001b[37m\u001b[0m \u001b[1m0s\u001b[0m 621us/step - accuracy: 0.5004 - loss: 0.6931 - val_accuracy: 0.4967 - val_loss: 0.6932\n",
      "Epoch 9/100\n",
      "\u001b[1m380/383\u001b[0m \u001b[32m━━━━━━━━━━━━━━━━━━━\u001b[0m\u001b[37m━\u001b[0m \u001b[1m0s\u001b[0m 398us/step - accuracy: 0.5017 - loss: 0.6932\n",
      "Epoch 9: val_loss did not improve from 0.69312\n",
      "\u001b[1m383/383\u001b[0m \u001b[32m━━━━━━━━━━━━━━━━━━━━\u001b[0m\u001b[37m\u001b[0m \u001b[1m0s\u001b[0m 530us/step - accuracy: 0.5018 - loss: 0.6932 - val_accuracy: 0.4967 - val_loss: 0.6932\n",
      "Epoch 10/100\n",
      "\u001b[1m366/383\u001b[0m \u001b[32m━━━━━━━━━━━━━━━━━━━\u001b[0m\u001b[37m━\u001b[0m \u001b[1m0s\u001b[0m 413us/step - accuracy: 0.5017 - loss: 0.6932\n",
      "Epoch 10: val_loss did not improve from 0.69312\n",
      "\u001b[1m383/383\u001b[0m \u001b[32m━━━━━━━━━━━━━━━━━━━━\u001b[0m\u001b[37m\u001b[0m \u001b[1m0s\u001b[0m 549us/step - accuracy: 0.5018 - loss: 0.6932 - val_accuracy: 0.4967 - val_loss: 0.6932\n",
      "Epoch 10: early stopping\n",
      "Restoring model weights from the end of the best epoch: 1.\n"
     ]
    }
   ],
   "source": [
    "# Train the model\n",
    "history = model.fit(X_train, y_train, epochs=100, batch_size=128, validation_split=0.3, callbacks=[early_stopping, checkpoint],\n",
    "                    verbose=1)"
   ]
  },
  {
   "cell_type": "markdown",
   "id": "a77f8ba9",
   "metadata": {},
   "source": [
    "### `Architecture III`"
   ]
  },
  {
   "cell_type": "code",
   "execution_count": 107,
   "id": "7083bca6",
   "metadata": {},
   "outputs": [
    {
     "name": "stderr",
     "output_type": "stream",
     "text": [
      "/Users/prasenjeetsmac/Library/Python/3.9/lib/python/site-packages/keras/src/layers/core/dense.py:87: UserWarning: Do not pass an `input_shape`/`input_dim` argument to a layer. When using Sequential models, prefer using an `Input(shape)` object as the first layer in the model instead.\n",
      "  super().__init__(activity_regularizer=activity_regularizer, **kwargs)\n"
     ]
    }
   ],
   "source": [
    "# Initialising the NN\n",
    "model = Sequential()\n",
    "\n",
    "# layers\n",
    "model.add(Dense(units = 16, kernel_initializer = 'uniform', activation = 'relu', input_dim = 4))\n",
    "model.add(Dense(units = 8, kernel_initializer = 'uniform', activation = 'relu'))\n",
    "model.add(Dropout(0.25))\n",
    "model.add(Dense(units = 4, kernel_initializer = 'uniform', activation = 'relu'))\n",
    "model.add(Dropout(0.5))\n",
    "model.add(Dense(units = 1, kernel_initializer = 'uniform', activation = 'sigmoid'))\n",
    "from keras.optimizers import SGD\n",
    "\n",
    "# Compiling the ANN\n",
    "model.compile(optimizer = 'adam', loss = 'binary_crossentropy', metrics = ['accuracy'])"
   ]
  },
  {
   "cell_type": "code",
   "execution_count": 108,
   "id": "8087721a",
   "metadata": {},
   "outputs": [
    {
     "name": "stdout",
     "output_type": "stream",
     "text": [
      "Epoch 1/100\n",
      "\u001b[1m267/383\u001b[0m \u001b[32m━━━━━━━━━━━━━\u001b[0m\u001b[37m━━━━━━━\u001b[0m \u001b[1m0s\u001b[0m 377us/step - accuracy: 0.4975 - loss: 0.6932\n",
      "Epoch 1: val_loss did not improve from 0.69312\n",
      "\u001b[1m383/383\u001b[0m \u001b[32m━━━━━━━━━━━━━━━━━━━━\u001b[0m\u001b[37m\u001b[0m \u001b[1m1s\u001b[0m 645us/step - accuracy: 0.4988 - loss: 0.6932 - val_accuracy: 0.4967 - val_loss: 0.6932\n",
      "Epoch 2/100\n",
      "\u001b[1m288/383\u001b[0m \u001b[32m━━━━━━━━━━━━━━━\u001b[0m\u001b[37m━━━━━\u001b[0m \u001b[1m0s\u001b[0m 349us/step - accuracy: 0.4985 - loss: 0.6932\n",
      "Epoch 2: val_loss did not improve from 0.69312\n",
      "\u001b[1m383/383\u001b[0m \u001b[32m━━━━━━━━━━━━━━━━━━━━\u001b[0m\u001b[37m\u001b[0m \u001b[1m0s\u001b[0m 483us/step - accuracy: 0.4993 - loss: 0.6932 - val_accuracy: 0.4967 - val_loss: 0.6932\n",
      "Epoch 3/100\n",
      "\u001b[1m376/383\u001b[0m \u001b[32m━━━━━━━━━━━━━━━━━━━\u001b[0m\u001b[37m━\u001b[0m \u001b[1m0s\u001b[0m 542us/step - accuracy: 0.4994 - loss: 0.6932\n",
      "Epoch 3: val_loss did not improve from 0.69312\n",
      "\u001b[1m383/383\u001b[0m \u001b[32m━━━━━━━━━━━━━━━━━━━━\u001b[0m\u001b[37m\u001b[0m \u001b[1m0s\u001b[0m 672us/step - accuracy: 0.4995 - loss: 0.6932 - val_accuracy: 0.4967 - val_loss: 0.6933\n",
      "Epoch 4/100\n",
      "\u001b[1m266/383\u001b[0m \u001b[32m━━━━━━━━━━━━━\u001b[0m\u001b[37m━━━━━━━\u001b[0m \u001b[1m0s\u001b[0m 378us/step - accuracy: 0.5052 - loss: 0.6931\n",
      "Epoch 4: val_loss did not improve from 0.69312\n",
      "\u001b[1m383/383\u001b[0m \u001b[32m━━━━━━━━━━━━━━━━━━━━\u001b[0m\u001b[37m\u001b[0m \u001b[1m0s\u001b[0m 492us/step - accuracy: 0.5043 - loss: 0.6931 - val_accuracy: 0.4967 - val_loss: 0.6932\n",
      "Epoch 5/100\n",
      "\u001b[1m293/383\u001b[0m \u001b[32m━━━━━━━━━━━━━━━\u001b[0m\u001b[37m━━━━━\u001b[0m \u001b[1m0s\u001b[0m 343us/step - accuracy: 0.5040 - loss: 0.6931\n",
      "Epoch 5: val_loss did not improve from 0.69312\n",
      "\u001b[1m383/383\u001b[0m \u001b[32m━━━━━━━━━━━━━━━━━━━━\u001b[0m\u001b[37m\u001b[0m \u001b[1m0s\u001b[0m 465us/step - accuracy: 0.5037 - loss: 0.6931 - val_accuracy: 0.4967 - val_loss: 0.6932\n",
      "Epoch 6/100\n",
      "\u001b[1m289/383\u001b[0m \u001b[32m━━━━━━━━━━━━━━━\u001b[0m\u001b[37m━━━━━\u001b[0m \u001b[1m0s\u001b[0m 348us/step - accuracy: 0.5020 - loss: 0.6932\n",
      "Epoch 6: val_loss did not improve from 0.69312\n",
      "\u001b[1m383/383\u001b[0m \u001b[32m━━━━━━━━━━━━━━━━━━━━\u001b[0m\u001b[37m\u001b[0m \u001b[1m0s\u001b[0m 469us/step - accuracy: 0.5023 - loss: 0.6932 - val_accuracy: 0.4967 - val_loss: 0.6932\n",
      "Epoch 7/100\n",
      "\u001b[1m297/383\u001b[0m \u001b[32m━━━━━━━━━━━━━━━\u001b[0m\u001b[37m━━━━━\u001b[0m \u001b[1m0s\u001b[0m 339us/step - accuracy: 0.4950 - loss: 0.6932\n",
      "Epoch 7: val_loss did not improve from 0.69312\n",
      "\u001b[1m383/383\u001b[0m \u001b[32m━━━━━━━━━━━━━━━━━━━━\u001b[0m\u001b[37m\u001b[0m \u001b[1m0s\u001b[0m 466us/step - accuracy: 0.4962 - loss: 0.6932 - val_accuracy: 0.4967 - val_loss: 0.6933\n",
      "Epoch 8/100\n",
      "\u001b[1m294/383\u001b[0m \u001b[32m━━━━━━━━━━━━━━━\u001b[0m\u001b[37m━━━━━\u001b[0m \u001b[1m0s\u001b[0m 343us/step - accuracy: 0.5047 - loss: 0.6931\n",
      "Epoch 8: val_loss did not improve from 0.69312\n",
      "\u001b[1m383/383\u001b[0m \u001b[32m━━━━━━━━━━━━━━━━━━━━\u001b[0m\u001b[37m\u001b[0m \u001b[1m0s\u001b[0m 466us/step - accuracy: 0.5043 - loss: 0.6931 - val_accuracy: 0.4967 - val_loss: 0.6932\n",
      "Epoch 9/100\n",
      "\u001b[1m296/383\u001b[0m \u001b[32m━━━━━━━━━━━━━━━\u001b[0m\u001b[37m━━━━━\u001b[0m \u001b[1m0s\u001b[0m 340us/step - accuracy: 0.5071 - loss: 0.6931\n",
      "Epoch 9: val_loss did not improve from 0.69312\n",
      "\u001b[1m383/383\u001b[0m \u001b[32m━━━━━━━━━━━━━━━━━━━━\u001b[0m\u001b[37m\u001b[0m \u001b[1m0s\u001b[0m 459us/step - accuracy: 0.5060 - loss: 0.6931 - val_accuracy: 0.4967 - val_loss: 0.6932\n",
      "Epoch 10/100\n",
      "\u001b[1m251/383\u001b[0m \u001b[32m━━━━━━━━━━━━━\u001b[0m\u001b[37m━━━━━━━\u001b[0m \u001b[1m0s\u001b[0m 413us/step - accuracy: 0.5048 - loss: 0.6931\n",
      "Epoch 10: val_loss did not improve from 0.69312\n",
      "\u001b[1m383/383\u001b[0m \u001b[32m━━━━━━━━━━━━━━━━━━━━\u001b[0m\u001b[37m\u001b[0m \u001b[1m0s\u001b[0m 519us/step - accuracy: 0.5043 - loss: 0.6931 - val_accuracy: 0.4967 - val_loss: 0.6932\n",
      "Epoch 10: early stopping\n",
      "Restoring model weights from the end of the best epoch: 1.\n"
     ]
    }
   ],
   "source": [
    "# Train the model\n",
    "history = model.fit(X_train, y_train, epochs=100, batch_size=128, validation_split=0.3, callbacks=[early_stopping, checkpoint],\n",
    "                    verbose=1)"
   ]
  },
  {
   "cell_type": "markdown",
   "id": "a1267af1",
   "metadata": {},
   "source": [
    "### `Architecture IV`"
   ]
  },
  {
   "cell_type": "code",
   "execution_count": 109,
   "id": "6e160692",
   "metadata": {},
   "outputs": [
    {
     "name": "stderr",
     "output_type": "stream",
     "text": [
      "/Users/prasenjeetsmac/Library/Python/3.9/lib/python/site-packages/keras/src/layers/core/dense.py:87: UserWarning: Do not pass an `input_shape`/`input_dim` argument to a layer. When using Sequential models, prefer using an `Input(shape)` object as the first layer in the model instead.\n",
      "  super().__init__(activity_regularizer=activity_regularizer, **kwargs)\n"
     ]
    }
   ],
   "source": [
    "model = Sequential()\n",
    "\n",
    "# Input layer with BatchNormalization and Activation (ReLU)\n",
    "model.add(Dense(10, input_dim=4, kernel_initializer='he_normal'))\n",
    "model.add(BatchNormalization())\n",
    "model.add(Activation('relu'))\n",
    "\n",
    "# First hidden layer with BatchNormalization, Activation (ReLU), and Dropout\n",
    "model.add(Dense(10, kernel_initializer='he_normal'))\n",
    "model.add(BatchNormalization())\n",
    "model.add(Activation('relu'))\n",
    "model.add(Dropout(0.2))  # 20% dropout\n",
    "\n",
    "# Second hidden layer with BatchNormalization, Activation (ReLU), and Dropout\n",
    "model.add(Dense(5, kernel_initializer='he_normal'))\n",
    "model.add(BatchNormalization())\n",
    "model.add(Activation('relu'))\n",
    "model.add(Dropout(0.1))  # 10% dropout\n",
    "\n",
    "# Output layer with Sigmoid activation\n",
    "model.add(Dense(1, activation='sigmoid'))\n",
    "\n",
    "# Compile the model\n",
    "model.compile(optimizer=Adam(), loss='binary_crossentropy', metrics=['accuracy'])"
   ]
  },
  {
   "cell_type": "markdown",
   "id": "0ff07c03",
   "metadata": {},
   "source": [
    "**`Batch Normalization`** is used before the activation function in neural networks to enhance training stability and speed up convergence. By normalizing inputs within each batch, it maintains stable distribution and prevents extreme activations, leading to faster learning and better performance.\n",
    "\n",
    "\n",
    "**`\"He_normal\"`** is a weight initialization technique in neural networks. It sets initial weights to encourage effective learning, especially with ReLU activation. It helps prevent vanishing gradient and works well in deep networks."
   ]
  },
  {
   "cell_type": "code",
   "execution_count": 110,
   "id": "2fb5b655",
   "metadata": {},
   "outputs": [
    {
     "name": "stdout",
     "output_type": "stream",
     "text": [
      "Epoch 1/100\n",
      "\u001b[1m299/383\u001b[0m \u001b[32m━━━━━━━━━━━━━━━\u001b[0m\u001b[37m━━━━━\u001b[0m \u001b[1m0s\u001b[0m 505us/step - accuracy: 0.5082 - loss: 0.7535\n",
      "Epoch 1: val_loss did not improve from 0.69312\n",
      "\u001b[1m383/383\u001b[0m \u001b[32m━━━━━━━━━━━━━━━━━━━━\u001b[0m\u001b[37m\u001b[0m \u001b[1m1s\u001b[0m 827us/step - accuracy: 0.5077 - loss: 0.7475 - val_accuracy: 0.4947 - val_loss: 0.6975\n",
      "Epoch 2/100\n",
      "\u001b[1m307/383\u001b[0m \u001b[32m━━━━━━━━━━━━━━━━\u001b[0m\u001b[37m━━━━\u001b[0m \u001b[1m0s\u001b[0m 493us/step - accuracy: 0.5063 - loss: 0.7019\n",
      "Epoch 2: val_loss did not improve from 0.69312\n",
      "\u001b[1m383/383\u001b[0m \u001b[32m━━━━━━━━━━━━━━━━━━━━\u001b[0m\u001b[37m\u001b[0m \u001b[1m0s\u001b[0m 633us/step - accuracy: 0.5061 - loss: 0.7017 - val_accuracy: 0.4937 - val_loss: 0.6954\n",
      "Epoch 3/100\n",
      "\u001b[1m317/383\u001b[0m \u001b[32m━━━━━━━━━━━━━━━━\u001b[0m\u001b[37m━━━━\u001b[0m \u001b[1m0s\u001b[0m 478us/step - accuracy: 0.5042 - loss: 0.6969\n",
      "Epoch 3: val_loss did not improve from 0.69312\n",
      "\u001b[1m383/383\u001b[0m \u001b[32m━━━━━━━━━━━━━━━━━━━━\u001b[0m\u001b[37m\u001b[0m \u001b[1m0s\u001b[0m 620us/step - accuracy: 0.5045 - loss: 0.6968 - val_accuracy: 0.4972 - val_loss: 0.6943\n",
      "Epoch 4/100\n",
      "\u001b[1m374/383\u001b[0m \u001b[32m━━━━━━━━━━━━━━━━━━━\u001b[0m\u001b[37m━\u001b[0m \u001b[1m0s\u001b[0m 538us/step - accuracy: 0.5051 - loss: 0.6956\n",
      "Epoch 4: val_loss did not improve from 0.69312\n",
      "\u001b[1m383/383\u001b[0m \u001b[32m━━━━━━━━━━━━━━━━━━━━\u001b[0m\u001b[37m\u001b[0m \u001b[1m0s\u001b[0m 682us/step - accuracy: 0.5051 - loss: 0.6955 - val_accuracy: 0.4982 - val_loss: 0.6938\n",
      "Epoch 5/100\n",
      "\u001b[1m295/383\u001b[0m \u001b[32m━━━━━━━━━━━━━━━\u001b[0m\u001b[37m━━━━━\u001b[0m \u001b[1m0s\u001b[0m 514us/step - accuracy: 0.5027 - loss: 0.6949\n",
      "Epoch 5: val_loss did not improve from 0.69312\n",
      "\u001b[1m383/383\u001b[0m \u001b[32m━━━━━━━━━━━━━━━━━━━━\u001b[0m\u001b[37m\u001b[0m \u001b[1m0s\u001b[0m 656us/step - accuracy: 0.5029 - loss: 0.6950 - val_accuracy: 0.5016 - val_loss: 0.6936\n",
      "Epoch 6/100\n",
      "\u001b[1m372/383\u001b[0m \u001b[32m━━━━━━━━━━━━━━━━━━━\u001b[0m\u001b[37m━\u001b[0m \u001b[1m0s\u001b[0m 541us/step - accuracy: 0.5021 - loss: 0.6943\n",
      "Epoch 6: val_loss did not improve from 0.69312\n",
      "\u001b[1m383/383\u001b[0m \u001b[32m━━━━━━━━━━━━━━━━━━━━\u001b[0m\u001b[37m\u001b[0m \u001b[1m0s\u001b[0m 695us/step - accuracy: 0.5022 - loss: 0.6943 - val_accuracy: 0.5007 - val_loss: 0.6935\n",
      "Epoch 7/100\n",
      "\u001b[1m361/383\u001b[0m \u001b[32m━━━━━━━━━━━━━━━━━━\u001b[0m\u001b[37m━━\u001b[0m \u001b[1m0s\u001b[0m 559us/step - accuracy: 0.5040 - loss: 0.6940\n",
      "Epoch 7: val_loss did not improve from 0.69312\n",
      "\u001b[1m383/383\u001b[0m \u001b[32m━━━━━━━━━━━━━━━━━━━━\u001b[0m\u001b[37m\u001b[0m \u001b[1m0s\u001b[0m 695us/step - accuracy: 0.5042 - loss: 0.6939 - val_accuracy: 0.4978 - val_loss: 0.6935\n",
      "Epoch 8/100\n",
      "\u001b[1m320/383\u001b[0m \u001b[32m━━━━━━━━━━━━━━━━\u001b[0m\u001b[37m━━━━\u001b[0m \u001b[1m0s\u001b[0m 473us/step - accuracy: 0.5040 - loss: 0.6938\n",
      "Epoch 8: val_loss did not improve from 0.69312\n",
      "\u001b[1m383/383\u001b[0m \u001b[32m━━━━━━━━━━━━━━━━━━━━\u001b[0m\u001b[37m\u001b[0m \u001b[1m0s\u001b[0m 607us/step - accuracy: 0.5041 - loss: 0.6938 - val_accuracy: 0.4966 - val_loss: 0.6935\n",
      "Epoch 9/100\n",
      "\u001b[1m307/383\u001b[0m \u001b[32m━━━━━━━━━━━━━━━━\u001b[0m\u001b[37m━━━━\u001b[0m \u001b[1m0s\u001b[0m 493us/step - accuracy: 0.5079 - loss: 0.6932\n",
      "Epoch 9: val_loss did not improve from 0.69312\n",
      "\u001b[1m383/383\u001b[0m \u001b[32m━━━━━━━━━━━━━━━━━━━━\u001b[0m\u001b[37m\u001b[0m \u001b[1m0s\u001b[0m 654us/step - accuracy: 0.5079 - loss: 0.6932 - val_accuracy: 0.4988 - val_loss: 0.6934\n",
      "Epoch 10/100\n",
      "\u001b[1m314/383\u001b[0m \u001b[32m━━━━━━━━━━━━━━━━\u001b[0m\u001b[37m━━━━\u001b[0m \u001b[1m0s\u001b[0m 482us/step - accuracy: 0.5077 - loss: 0.6930\n",
      "Epoch 10: val_loss did not improve from 0.69312\n",
      "\u001b[1m383/383\u001b[0m \u001b[32m━━━━━━━━━━━━━━━━━━━━\u001b[0m\u001b[37m\u001b[0m \u001b[1m0s\u001b[0m 614us/step - accuracy: 0.5075 - loss: 0.6930 - val_accuracy: 0.4974 - val_loss: 0.6934\n",
      "Epoch 10: early stopping\n",
      "Restoring model weights from the end of the best epoch: 1.\n"
     ]
    }
   ],
   "source": [
    "# Train the model\n",
    "history = model.fit(X_train, y_train, epochs=100, batch_size=128, validation_split=0.3, callbacks=[early_stopping, checkpoint],\n",
    "                    verbose=1)"
   ]
  },
  {
   "cell_type": "markdown",
   "id": "fe2c0da8",
   "metadata": {},
   "source": [
    "### `Architecture V`"
   ]
  },
  {
   "cell_type": "code",
   "execution_count": 111,
   "id": "4099a888",
   "metadata": {},
   "outputs": [
    {
     "name": "stderr",
     "output_type": "stream",
     "text": [
      "/Users/prasenjeetsmac/Library/Python/3.9/lib/python/site-packages/keras/src/layers/core/dense.py:87: UserWarning: Do not pass an `input_shape`/`input_dim` argument to a layer. When using Sequential models, prefer using an `Input(shape)` object as the first layer in the model instead.\n",
      "  super().__init__(activity_regularizer=activity_regularizer, **kwargs)\n"
     ]
    }
   ],
   "source": [
    "# Build the neural network\n",
    "model = Sequential([\n",
    "    Dense(64, activation = 'relu', input_dim = 4),\n",
    "    Dropout(0.5),\n",
    "    Dense(32, activation='relu'),\n",
    "    Dropout(0.5),\n",
    "    Dense(1, activation='sigmoid')\n",
    "])\n",
    "\n",
    "# Compile the model\n",
    "model.compile(optimizer=Adam(), loss='binary_crossentropy', metrics=['accuracy'])"
   ]
  },
  {
   "cell_type": "code",
   "execution_count": 112,
   "id": "f8f20a8b",
   "metadata": {},
   "outputs": [
    {
     "name": "stdout",
     "output_type": "stream",
     "text": [
      "Epoch 1/100\n",
      "\u001b[1m349/438\u001b[0m \u001b[32m━━━━━━━━━━━━━━━\u001b[0m\u001b[37m━━━━━\u001b[0m \u001b[1m0s\u001b[0m 432us/step - accuracy: 0.4983 - loss: 0.6957\n",
      "Epoch 1: val_loss did not improve from 0.69312\n",
      "\u001b[1m438/438\u001b[0m \u001b[32m━━━━━━━━━━━━━━━━━━━━\u001b[0m\u001b[37m\u001b[0m \u001b[1m1s\u001b[0m 647us/step - accuracy: 0.4980 - loss: 0.6955 - val_accuracy: 0.4953 - val_loss: 0.6934\n",
      "Epoch 2/100\n",
      "\u001b[1m362/438\u001b[0m \u001b[32m━━━━━━━━━━━━━━━━\u001b[0m\u001b[37m━━━━\u001b[0m \u001b[1m0s\u001b[0m 417us/step - accuracy: 0.4931 - loss: 0.6936\n",
      "Epoch 2: val_loss did not improve from 0.69312\n",
      "\u001b[1m438/438\u001b[0m \u001b[32m━━━━━━━━━━━━━━━━━━━━\u001b[0m\u001b[37m\u001b[0m \u001b[1m0s\u001b[0m 501us/step - accuracy: 0.4939 - loss: 0.6935 - val_accuracy: 0.4944 - val_loss: 0.6933\n",
      "Epoch 3/100\n",
      "\u001b[1m352/438\u001b[0m \u001b[32m━━━━━━━━━━━━━━━━\u001b[0m\u001b[37m━━━━\u001b[0m \u001b[1m0s\u001b[0m 429us/step - accuracy: 0.5007 - loss: 0.6932\n",
      "Epoch 3: val_loss did not improve from 0.69312\n",
      "\u001b[1m438/438\u001b[0m \u001b[32m━━━━━━━━━━━━━━━━━━━━\u001b[0m\u001b[37m\u001b[0m \u001b[1m0s\u001b[0m 522us/step - accuracy: 0.5010 - loss: 0.6932 - val_accuracy: 0.5016 - val_loss: 0.6931\n",
      "Epoch 4/100\n",
      "\u001b[1m364/438\u001b[0m \u001b[32m━━━━━━━━━━━━━━━━\u001b[0m\u001b[37m━━━━\u001b[0m \u001b[1m0s\u001b[0m 414us/step - accuracy: 0.5044 - loss: 0.6932\n",
      "Epoch 4: val_loss did not improve from 0.69312\n",
      "\u001b[1m438/438\u001b[0m \u001b[32m━━━━━━━━━━━━━━━━━━━━\u001b[0m\u001b[37m\u001b[0m \u001b[1m0s\u001b[0m 500us/step - accuracy: 0.5044 - loss: 0.6932 - val_accuracy: 0.4939 - val_loss: 0.6933\n",
      "Epoch 5/100\n",
      "\u001b[1m359/438\u001b[0m \u001b[32m━━━━━━━━━━━━━━━━\u001b[0m\u001b[37m━━━━\u001b[0m \u001b[1m0s\u001b[0m 421us/step - accuracy: 0.5028 - loss: 0.6932\n",
      "Epoch 5: val_loss did not improve from 0.69312\n",
      "\u001b[1m438/438\u001b[0m \u001b[32m━━━━━━━━━━━━━━━━━━━━\u001b[0m\u001b[37m\u001b[0m \u001b[1m0s\u001b[0m 502us/step - accuracy: 0.5031 - loss: 0.6932 - val_accuracy: 0.4980 - val_loss: 0.6932\n",
      "Epoch 6/100\n",
      "\u001b[1m385/438\u001b[0m \u001b[32m━━━━━━━━━━━━━━━━━\u001b[0m\u001b[37m━━━\u001b[0m \u001b[1m0s\u001b[0m 392us/step - accuracy: 0.5041 - loss: 0.6932\n",
      "Epoch 6: val_loss did not improve from 0.69312\n",
      "\u001b[1m438/438\u001b[0m \u001b[32m━━━━━━━━━━━━━━━━━━━━\u001b[0m\u001b[37m\u001b[0m \u001b[1m0s\u001b[0m 479us/step - accuracy: 0.5040 - loss: 0.6932 - val_accuracy: 0.4938 - val_loss: 0.6932\n",
      "Epoch 7/100\n",
      "\u001b[1m373/438\u001b[0m \u001b[32m━━━━━━━━━━━━━━━━━\u001b[0m\u001b[37m━━━\u001b[0m \u001b[1m0s\u001b[0m 404us/step - accuracy: 0.5038 - loss: 0.6932\n",
      "Epoch 7: val_loss did not improve from 0.69312\n",
      "\u001b[1m438/438\u001b[0m \u001b[32m━━━━━━━━━━━━━━━━━━━━\u001b[0m\u001b[37m\u001b[0m \u001b[1m0s\u001b[0m 483us/step - accuracy: 0.5036 - loss: 0.6932 - val_accuracy: 0.4960 - val_loss: 0.6932\n",
      "Epoch 8/100\n",
      "\u001b[1m385/438\u001b[0m \u001b[32m━━━━━━━━━━━━━━━━━\u001b[0m\u001b[37m━━━\u001b[0m \u001b[1m0s\u001b[0m 391us/step - accuracy: 0.5035 - loss: 0.6931\n",
      "Epoch 8: val_loss did not improve from 0.69312\n",
      "\u001b[1m438/438\u001b[0m \u001b[32m━━━━━━━━━━━━━━━━━━━━\u001b[0m\u001b[37m\u001b[0m \u001b[1m0s\u001b[0m 473us/step - accuracy: 0.5032 - loss: 0.6931 - val_accuracy: 0.4964 - val_loss: 0.6932\n",
      "Epoch 9/100\n",
      "\u001b[1m382/438\u001b[0m \u001b[32m━━━━━━━━━━━━━━━━━\u001b[0m\u001b[37m━━━\u001b[0m \u001b[1m0s\u001b[0m 396us/step - accuracy: 0.5018 - loss: 0.6932\n",
      "Epoch 9: val_loss did not improve from 0.69312\n",
      "\u001b[1m438/438\u001b[0m \u001b[32m━━━━━━━━━━━━━━━━━━━━\u001b[0m\u001b[37m\u001b[0m \u001b[1m0s\u001b[0m 479us/step - accuracy: 0.5020 - loss: 0.6932 - val_accuracy: 0.4950 - val_loss: 0.6932\n",
      "Epoch 10/100\n",
      "\u001b[1m377/438\u001b[0m \u001b[32m━━━━━━━━━━━━━━━━━\u001b[0m\u001b[37m━━━\u001b[0m \u001b[1m0s\u001b[0m 400us/step - accuracy: 0.5041 - loss: 0.6932\n",
      "Epoch 10: val_loss improved from 0.69312 to 0.69310, saving model to ChurnClassifier.keras\n",
      "\u001b[1m438/438\u001b[0m \u001b[32m━━━━━━━━━━━━━━━━━━━━\u001b[0m\u001b[37m\u001b[0m \u001b[1m0s\u001b[0m 504us/step - accuracy: 0.5040 - loss: 0.6932 - val_accuracy: 0.5081 - val_loss: 0.6931\n",
      "Epoch 10: early stopping\n",
      "Restoring model weights from the end of the best epoch: 1.\n"
     ]
    }
   ],
   "source": [
    "# Train the model\n",
    "history = model.fit(X_train, y_train, epochs=100, batch_size=128, validation_split=0.2, callbacks=[early_stopping, checkpoint],\n",
    "                    verbose=1)"
   ]
  },
  {
   "cell_type": "markdown",
   "id": "0a931ea6",
   "metadata": {},
   "source": [
    "* **I have tried multiple ANN architectures, but none of them have provided good results.**"
   ]
  },
  {
   "cell_type": "markdown",
   "id": "a86a95d2",
   "metadata": {},
   "source": [
    "## `Ensembles of Random Forest`"
   ]
  },
  {
   "cell_type": "code",
   "execution_count": 116,
   "id": "1d7fb4d9",
   "metadata": {},
   "outputs": [
    {
     "name": "stderr",
     "output_type": "stream",
     "text": [
      "/Users/prasenjeetsmac/Library/Python/3.9/lib/python/site-packages/sklearn/ensemble/_weight_boosting.py:527: FutureWarning: The SAMME.R algorithm (the default) is deprecated and will be removed in 1.6. Use the SAMME algorithm to circumvent this warning.\n",
      "  warnings.warn(\n"
     ]
    },
    {
     "name": "stdout",
     "output_type": "stream",
     "text": [
      "Training Data Results:\n",
      "                   Accuracy  Precision    Recall  F1 Score  Building Time\n",
      "AdaBoost           1.000000   1.000000  1.000000  1.000000      11.828259\n",
      "Gradient Boosting  0.530471   0.530660  0.530471  0.529365       1.809910\n",
      "XGBoost            0.622186   0.622185  0.622186  0.622182       0.109503\n",
      "\n",
      "Test Data Results:\n",
      "                   Accuracy  Precision    Recall  F1 Score  Building Time\n",
      "AdaBoost           0.501700   0.501509  0.501700  0.501422      11.828259\n",
      "Gradient Boosting  0.500767   0.500344  0.500767  0.499672       1.809910\n",
      "XGBoost            0.499500   0.499493  0.499500  0.499496       0.109503\n"
     ]
    }
   ],
   "source": [
    "import time\n",
    "import pandas as pd\n",
    "from sklearn.ensemble import AdaBoostClassifier, GradientBoostingClassifier, RandomForestClassifier\n",
    "from xgboost import XGBClassifier\n",
    "from sklearn.metrics import accuracy_score, precision_score, recall_score, f1_score\n",
    "\n",
    "# Initialize base estimator (Random Forest)\n",
    "estimator = RandomForestClassifier(n_estimators=100, random_state=42)\n",
    "\n",
    "# Initialize models using the correct parameter name for AdaBoost\n",
    "adaboost_model = AdaBoostClassifier(estimator=estimator, n_estimators=50, random_state=42)\n",
    "gradient_boost_model = GradientBoostingClassifier(n_estimators=50, random_state=42)\n",
    "xgboost_model = XGBClassifier(n_estimators=50, random_state=42)\n",
    "\n",
    "# List of models to iterate over\n",
    "models = ['AdaBoost', 'Gradient Boosting', 'XGBoost']\n",
    "metrics = ['Accuracy', 'Precision', 'Recall', 'F1 Score', 'Building Time']\n",
    "results_train = {metric: [] for metric in metrics}\n",
    "results_test = {metric: [] for metric in metrics}\n",
    "\n",
    "# Train and evaluate models\n",
    "for model, model_name in zip([adaboost_model, gradient_boost_model, xgboost_model], models):\n",
    "    start_time = time.time()  # Track training time\n",
    "    model.fit(X_train, y_train)  # Train the model\n",
    "    end_time = time.time()\n",
    "\n",
    "    # Predict on the training set\n",
    "    y_train_pred = model.predict(X_train)\n",
    "\n",
    "    # Calculate metrics on training data\n",
    "    accuracy_train = accuracy_score(y_train, y_train_pred)\n",
    "    precision_train = precision_score(y_train, y_train_pred, average='weighted')\n",
    "    recall_train = recall_score(y_train, y_train_pred, average='weighted')\n",
    "    f1_train = f1_score(y_train, y_train_pred, average='weighted')\n",
    "    building_time = end_time - start_time\n",
    "\n",
    "    # Predict on the test set\n",
    "    y_test_pred = model.predict(X_test)\n",
    "\n",
    "    # Calculate metrics on test data\n",
    "    accuracy_test = accuracy_score(y_test, y_test_pred)\n",
    "    precision_test = precision_score(y_test, y_test_pred, average='weighted')\n",
    "    recall_test = recall_score(y_test, y_test_pred, average='weighted')\n",
    "    f1_test = f1_score(y_test, y_test_pred, average='weighted')\n",
    "\n",
    "    # Append metrics to the results dictionaries\n",
    "    results_train['Accuracy'].append(accuracy_train)\n",
    "    results_train['Precision'].append(precision_train)\n",
    "    results_train['Recall'].append(recall_train)\n",
    "    results_train['F1 Score'].append(f1_train)\n",
    "    results_train['Building Time'].append(building_time)\n",
    "\n",
    "    results_test['Accuracy'].append(accuracy_test)\n",
    "    results_test['Precision'].append(precision_test)\n",
    "    results_test['Recall'].append(recall_test)\n",
    "    results_test['F1 Score'].append(f1_test)\n",
    "    results_test['Building Time'].append(building_time)\n",
    "\n",
    "# Create DataFrames from the results\n",
    "results_train_df = pd.DataFrame(results_train, index=models)\n",
    "results_test_df = pd.DataFrame(results_test, index=models)\n",
    "\n",
    "# Display the DataFrames\n",
    "print(\"Training Data Results:\")\n",
    "print(results_train_df)\n",
    "\n",
    "print(\"\\nTest Data Results:\")\n",
    "print(results_test_df)\n"
   ]
  },
  {
   "cell_type": "code",
   "execution_count": 117,
   "id": "db7b3d7e",
   "metadata": {},
   "outputs": [
    {
     "name": "stdout",
     "output_type": "stream",
     "text": [
      "\n",
      "Test Data Results:\n"
     ]
    },
    {
     "data": {
      "text/html": [
       "<div>\n",
       "<style scoped>\n",
       "    .dataframe tbody tr th:only-of-type {\n",
       "        vertical-align: middle;\n",
       "    }\n",
       "\n",
       "    .dataframe tbody tr th {\n",
       "        vertical-align: top;\n",
       "    }\n",
       "\n",
       "    .dataframe thead th {\n",
       "        text-align: right;\n",
       "    }\n",
       "</style>\n",
       "<table border=\"1\" class=\"dataframe\">\n",
       "  <thead>\n",
       "    <tr style=\"text-align: right;\">\n",
       "      <th></th>\n",
       "      <th>Accuracy</th>\n",
       "      <th>Precision</th>\n",
       "      <th>Recall</th>\n",
       "      <th>F1 Score</th>\n",
       "      <th>Building Time</th>\n",
       "    </tr>\n",
       "  </thead>\n",
       "  <tbody>\n",
       "    <tr>\n",
       "      <th>AdaBoost</th>\n",
       "      <td>0.501700</td>\n",
       "      <td>0.501509</td>\n",
       "      <td>0.501700</td>\n",
       "      <td>0.501422</td>\n",
       "      <td>11.828259</td>\n",
       "    </tr>\n",
       "    <tr>\n",
       "      <th>Gradient Boosting</th>\n",
       "      <td>0.500767</td>\n",
       "      <td>0.500344</td>\n",
       "      <td>0.500767</td>\n",
       "      <td>0.499672</td>\n",
       "      <td>1.809910</td>\n",
       "    </tr>\n",
       "    <tr>\n",
       "      <th>XGBoost</th>\n",
       "      <td>0.499500</td>\n",
       "      <td>0.499493</td>\n",
       "      <td>0.499500</td>\n",
       "      <td>0.499496</td>\n",
       "      <td>0.109503</td>\n",
       "    </tr>\n",
       "  </tbody>\n",
       "</table>\n",
       "</div>"
      ],
      "text/plain": [
       "                   Accuracy  Precision    Recall  F1 Score  Building Time\n",
       "AdaBoost           0.501700   0.501509  0.501700  0.501422      11.828259\n",
       "Gradient Boosting  0.500767   0.500344  0.500767  0.499672       1.809910\n",
       "XGBoost            0.499500   0.499493  0.499500  0.499496       0.109503"
      ]
     },
     "execution_count": 117,
     "metadata": {},
     "output_type": "execute_result"
    }
   ],
   "source": [
    "print(\"\\nTest Data Results:\")\n",
    "results_test_df"
   ]
  },
  {
   "cell_type": "markdown",
   "id": "667932e4",
   "metadata": {},
   "source": [
    "* **The performance of ensembles can vary, but they are usually not much better than individual algorithms.**\n",
    "\n",
    "\n",
    "* **None of the ensembles provided the desired results. So, I decided to trial and error using a different approach.**"
   ]
  },
  {
   "cell_type": "markdown",
   "id": "2d764cee",
   "metadata": {},
   "source": [
    "# `Model Building: PCA`"
   ]
  },
  {
   "cell_type": "code",
   "execution_count": 118,
   "id": "94366989",
   "metadata": {},
   "outputs": [
    {
     "ename": "KeyError",
     "evalue": "\"None of [Index(['Gender', 'Location'], dtype='object')] are in the [columns]\"",
     "output_type": "error",
     "traceback": [
      "\u001b[0;31m---------------------------------------------------------------------------\u001b[0m",
      "\u001b[0;31mKeyError\u001b[0m                                  Traceback (most recent call last)",
      "Cell \u001b[0;32mIn[118], line 1\u001b[0m\n\u001b[0;32m----> 1\u001b[0m df_cleaned \u001b[38;5;241m=\u001b[39m \u001b[43mpd\u001b[49m\u001b[38;5;241;43m.\u001b[39;49m\u001b[43mget_dummies\u001b[49m\u001b[43m(\u001b[49m\u001b[43mdf_cleaned\u001b[49m\u001b[43m,\u001b[49m\u001b[43m \u001b[49m\u001b[43mcolumns\u001b[49m\u001b[38;5;241;43m=\u001b[39;49m\u001b[43m[\u001b[49m\u001b[38;5;124;43m'\u001b[39;49m\u001b[38;5;124;43mGender\u001b[39;49m\u001b[38;5;124;43m'\u001b[39;49m\u001b[43m,\u001b[49m\u001b[43m \u001b[49m\u001b[38;5;124;43m'\u001b[39;49m\u001b[38;5;124;43mLocation\u001b[39;49m\u001b[38;5;124;43m'\u001b[39;49m\u001b[43m]\u001b[49m\u001b[43m,\u001b[49m\u001b[43m \u001b[49m\u001b[43mdrop_first\u001b[49m\u001b[43m \u001b[49m\u001b[38;5;241;43m=\u001b[39;49m\u001b[43m \u001b[49m\u001b[38;5;28;43;01mTrue\u001b[39;49;00m\u001b[43m)\u001b[49m\n",
      "File \u001b[0;32m~/Library/Python/3.9/lib/python/site-packages/pandas/core/reshape/encoding.py:169\u001b[0m, in \u001b[0;36mget_dummies\u001b[0;34m(data, prefix, prefix_sep, dummy_na, columns, sparse, drop_first, dtype)\u001b[0m\n\u001b[1;32m    167\u001b[0m     \u001b[38;5;28;01mraise\u001b[39;00m \u001b[38;5;167;01mTypeError\u001b[39;00m(\u001b[38;5;124m\"\u001b[39m\u001b[38;5;124mInput must be a list-like for parameter `columns`\u001b[39m\u001b[38;5;124m\"\u001b[39m)\n\u001b[1;32m    168\u001b[0m \u001b[38;5;28;01melse\u001b[39;00m:\n\u001b[0;32m--> 169\u001b[0m     data_to_encode \u001b[38;5;241m=\u001b[39m \u001b[43mdata\u001b[49m\u001b[43m[\u001b[49m\u001b[43mcolumns\u001b[49m\u001b[43m]\u001b[49m\n\u001b[1;32m    171\u001b[0m \u001b[38;5;66;03m# validate prefixes and separator to avoid silently dropping cols\u001b[39;00m\n\u001b[1;32m    172\u001b[0m \u001b[38;5;28;01mdef\u001b[39;00m \u001b[38;5;21mcheck_len\u001b[39m(item, name: \u001b[38;5;28mstr\u001b[39m):\n",
      "File \u001b[0;32m~/Library/Python/3.9/lib/python/site-packages/pandas/core/frame.py:4108\u001b[0m, in \u001b[0;36mDataFrame.__getitem__\u001b[0;34m(self, key)\u001b[0m\n\u001b[1;32m   4106\u001b[0m     \u001b[38;5;28;01mif\u001b[39;00m is_iterator(key):\n\u001b[1;32m   4107\u001b[0m         key \u001b[38;5;241m=\u001b[39m \u001b[38;5;28mlist\u001b[39m(key)\n\u001b[0;32m-> 4108\u001b[0m     indexer \u001b[38;5;241m=\u001b[39m \u001b[38;5;28;43mself\u001b[39;49m\u001b[38;5;241;43m.\u001b[39;49m\u001b[43mcolumns\u001b[49m\u001b[38;5;241;43m.\u001b[39;49m\u001b[43m_get_indexer_strict\u001b[49m\u001b[43m(\u001b[49m\u001b[43mkey\u001b[49m\u001b[43m,\u001b[49m\u001b[43m \u001b[49m\u001b[38;5;124;43m\"\u001b[39;49m\u001b[38;5;124;43mcolumns\u001b[39;49m\u001b[38;5;124;43m\"\u001b[39;49m\u001b[43m)\u001b[49m[\u001b[38;5;241m1\u001b[39m]\n\u001b[1;32m   4110\u001b[0m \u001b[38;5;66;03m# take() does not accept boolean indexers\u001b[39;00m\n\u001b[1;32m   4111\u001b[0m \u001b[38;5;28;01mif\u001b[39;00m \u001b[38;5;28mgetattr\u001b[39m(indexer, \u001b[38;5;124m\"\u001b[39m\u001b[38;5;124mdtype\u001b[39m\u001b[38;5;124m\"\u001b[39m, \u001b[38;5;28;01mNone\u001b[39;00m) \u001b[38;5;241m==\u001b[39m \u001b[38;5;28mbool\u001b[39m:\n",
      "File \u001b[0;32m~/Library/Python/3.9/lib/python/site-packages/pandas/core/indexes/base.py:6200\u001b[0m, in \u001b[0;36mIndex._get_indexer_strict\u001b[0;34m(self, key, axis_name)\u001b[0m\n\u001b[1;32m   6197\u001b[0m \u001b[38;5;28;01melse\u001b[39;00m:\n\u001b[1;32m   6198\u001b[0m     keyarr, indexer, new_indexer \u001b[38;5;241m=\u001b[39m \u001b[38;5;28mself\u001b[39m\u001b[38;5;241m.\u001b[39m_reindex_non_unique(keyarr)\n\u001b[0;32m-> 6200\u001b[0m \u001b[38;5;28;43mself\u001b[39;49m\u001b[38;5;241;43m.\u001b[39;49m\u001b[43m_raise_if_missing\u001b[49m\u001b[43m(\u001b[49m\u001b[43mkeyarr\u001b[49m\u001b[43m,\u001b[49m\u001b[43m \u001b[49m\u001b[43mindexer\u001b[49m\u001b[43m,\u001b[49m\u001b[43m \u001b[49m\u001b[43maxis_name\u001b[49m\u001b[43m)\u001b[49m\n\u001b[1;32m   6202\u001b[0m keyarr \u001b[38;5;241m=\u001b[39m \u001b[38;5;28mself\u001b[39m\u001b[38;5;241m.\u001b[39mtake(indexer)\n\u001b[1;32m   6203\u001b[0m \u001b[38;5;28;01mif\u001b[39;00m \u001b[38;5;28misinstance\u001b[39m(key, Index):\n\u001b[1;32m   6204\u001b[0m     \u001b[38;5;66;03m# GH 42790 - Preserve name from an Index\u001b[39;00m\n",
      "File \u001b[0;32m~/Library/Python/3.9/lib/python/site-packages/pandas/core/indexes/base.py:6249\u001b[0m, in \u001b[0;36mIndex._raise_if_missing\u001b[0;34m(self, key, indexer, axis_name)\u001b[0m\n\u001b[1;32m   6247\u001b[0m \u001b[38;5;28;01mif\u001b[39;00m nmissing:\n\u001b[1;32m   6248\u001b[0m     \u001b[38;5;28;01mif\u001b[39;00m nmissing \u001b[38;5;241m==\u001b[39m \u001b[38;5;28mlen\u001b[39m(indexer):\n\u001b[0;32m-> 6249\u001b[0m         \u001b[38;5;28;01mraise\u001b[39;00m \u001b[38;5;167;01mKeyError\u001b[39;00m(\u001b[38;5;124mf\u001b[39m\u001b[38;5;124m\"\u001b[39m\u001b[38;5;124mNone of [\u001b[39m\u001b[38;5;132;01m{\u001b[39;00mkey\u001b[38;5;132;01m}\u001b[39;00m\u001b[38;5;124m] are in the [\u001b[39m\u001b[38;5;132;01m{\u001b[39;00maxis_name\u001b[38;5;132;01m}\u001b[39;00m\u001b[38;5;124m]\u001b[39m\u001b[38;5;124m\"\u001b[39m)\n\u001b[1;32m   6251\u001b[0m     not_found \u001b[38;5;241m=\u001b[39m \u001b[38;5;28mlist\u001b[39m(ensure_index(key)[missing_mask\u001b[38;5;241m.\u001b[39mnonzero()[\u001b[38;5;241m0\u001b[39m]]\u001b[38;5;241m.\u001b[39munique())\n\u001b[1;32m   6252\u001b[0m     \u001b[38;5;28;01mraise\u001b[39;00m \u001b[38;5;167;01mKeyError\u001b[39;00m(\u001b[38;5;124mf\u001b[39m\u001b[38;5;124m\"\u001b[39m\u001b[38;5;132;01m{\u001b[39;00mnot_found\u001b[38;5;132;01m}\u001b[39;00m\u001b[38;5;124m not in index\u001b[39m\u001b[38;5;124m\"\u001b[39m)\n",
      "\u001b[0;31mKeyError\u001b[0m: \"None of [Index(['Gender', 'Location'], dtype='object')] are in the [columns]\""
     ]
    }
   ],
   "source": [
    "df_cleaned = pd.get_dummies(df_cleaned, columns=['Gender', 'Location'], drop_first = True)"
   ]
  },
  {
   "cell_type": "code",
   "execution_count": 119,
   "id": "b7040da2",
   "metadata": {},
   "outputs": [],
   "source": [
    "x = df_cleaned.drop('Churn', axis=1)\n",
    "y = df_cleaned['Churn']"
   ]
  },
  {
   "cell_type": "code",
   "execution_count": 120,
   "id": "c08cf20c",
   "metadata": {},
   "outputs": [],
   "source": [
    "X_train, X_test, y_train, y_test = train_test_split(x, y, test_size=0.3, random_state=42)"
   ]
  },
  {
   "cell_type": "code",
   "execution_count": 121,
   "id": "1369be14",
   "metadata": {},
   "outputs": [],
   "source": [
    "from sklearn.preprocessing import StandardScaler\n",
    "\n",
    "scaler = StandardScaler()\n",
    "\n",
    "X_train = scaler.fit_transform(X_train)\n",
    "\n",
    "X_test = scaler.transform(X_test)"
   ]
  },
  {
   "cell_type": "code",
   "execution_count": 122,
   "id": "16d2a470",
   "metadata": {},
   "outputs": [],
   "source": [
    "# Convert scaled numpy arrays back to DataFrames\n",
    "\n",
    "X_train = pd.DataFrame(X_train)\n",
    "\n",
    "X_test = pd.DataFrame(X_test)"
   ]
  },
  {
   "cell_type": "code",
   "execution_count": 123,
   "id": "16766486",
   "metadata": {},
   "outputs": [
    {
     "data": {
      "text/html": [
       "<div>\n",
       "<style scoped>\n",
       "    .dataframe tbody tr th:only-of-type {\n",
       "        vertical-align: middle;\n",
       "    }\n",
       "\n",
       "    .dataframe tbody tr th {\n",
       "        vertical-align: top;\n",
       "    }\n",
       "\n",
       "    .dataframe thead th {\n",
       "        text-align: right;\n",
       "    }\n",
       "</style>\n",
       "<table border=\"1\" class=\"dataframe\">\n",
       "  <thead>\n",
       "    <tr style=\"text-align: right;\">\n",
       "      <th></th>\n",
       "      <th>0</th>\n",
       "      <th>1</th>\n",
       "      <th>2</th>\n",
       "      <th>3</th>\n",
       "    </tr>\n",
       "  </thead>\n",
       "  <tbody>\n",
       "    <tr>\n",
       "      <th>0</th>\n",
       "      <td>-1.243589</td>\n",
       "      <td>0.074501</td>\n",
       "      <td>1.632642</td>\n",
       "      <td>1.481066</td>\n",
       "    </tr>\n",
       "    <tr>\n",
       "      <th>1</th>\n",
       "      <td>0.654284</td>\n",
       "      <td>-1.515230</td>\n",
       "      <td>0.336478</td>\n",
       "      <td>0.829765</td>\n",
       "    </tr>\n",
       "    <tr>\n",
       "      <th>2</th>\n",
       "      <td>-0.785482</td>\n",
       "      <td>1.086147</td>\n",
       "      <td>0.027632</td>\n",
       "      <td>1.166909</td>\n",
       "    </tr>\n",
       "    <tr>\n",
       "      <th>3</th>\n",
       "      <td>1.112391</td>\n",
       "      <td>-0.070020</td>\n",
       "      <td>0.894871</td>\n",
       "      <td>-1.614532</td>\n",
       "    </tr>\n",
       "    <tr>\n",
       "      <th>4</th>\n",
       "      <td>1.701386</td>\n",
       "      <td>-1.081667</td>\n",
       "      <td>-1.144499</td>\n",
       "      <td>-1.346349</td>\n",
       "    </tr>\n",
       "  </tbody>\n",
       "</table>\n",
       "</div>"
      ],
      "text/plain": [
       "          0         1         2         3\n",
       "0 -1.243589  0.074501  1.632642  1.481066\n",
       "1  0.654284 -1.515230  0.336478  0.829765\n",
       "2 -0.785482  1.086147  0.027632  1.166909\n",
       "3  1.112391 -0.070020  0.894871 -1.614532\n",
       "4  1.701386 -1.081667 -1.144499 -1.346349"
      ]
     },
     "execution_count": 123,
     "metadata": {},
     "output_type": "execute_result"
    }
   ],
   "source": [
    "X_train.head()"
   ]
  },
  {
   "cell_type": "code",
   "execution_count": 124,
   "id": "b4452a34",
   "metadata": {},
   "outputs": [
    {
     "data": {
      "text/html": [
       "<div>\n",
       "<style scoped>\n",
       "    .dataframe tbody tr th:only-of-type {\n",
       "        vertical-align: middle;\n",
       "    }\n",
       "\n",
       "    .dataframe tbody tr th {\n",
       "        vertical-align: top;\n",
       "    }\n",
       "\n",
       "    .dataframe thead th {\n",
       "        text-align: right;\n",
       "    }\n",
       "</style>\n",
       "<table border=\"1\" class=\"dataframe\">\n",
       "  <thead>\n",
       "    <tr style=\"text-align: right;\">\n",
       "      <th></th>\n",
       "      <th>0</th>\n",
       "      <th>1</th>\n",
       "      <th>2</th>\n",
       "      <th>3</th>\n",
       "    </tr>\n",
       "  </thead>\n",
       "  <tbody>\n",
       "    <tr>\n",
       "      <th>0</th>\n",
       "      <td>0.261620</td>\n",
       "      <td>-0.214541</td>\n",
       "      <td>1.155784</td>\n",
       "      <td>1.664963</td>\n",
       "    </tr>\n",
       "    <tr>\n",
       "      <th>1</th>\n",
       "      <td>0.327064</td>\n",
       "      <td>0.074501</td>\n",
       "      <td>-1.209728</td>\n",
       "      <td>1.136259</td>\n",
       "    </tr>\n",
       "    <tr>\n",
       "      <th>2</th>\n",
       "      <td>-0.850926</td>\n",
       "      <td>-1.081667</td>\n",
       "      <td>-1.585284</td>\n",
       "      <td>0.009891</td>\n",
       "    </tr>\n",
       "    <tr>\n",
       "      <th>3</th>\n",
       "      <td>0.588840</td>\n",
       "      <td>-1.226188</td>\n",
       "      <td>1.461171</td>\n",
       "      <td>0.492620</td>\n",
       "    </tr>\n",
       "    <tr>\n",
       "      <th>4</th>\n",
       "      <td>-1.374477</td>\n",
       "      <td>1.664231</td>\n",
       "      <td>0.845950</td>\n",
       "      <td>0.224437</td>\n",
       "    </tr>\n",
       "  </tbody>\n",
       "</table>\n",
       "</div>"
      ],
      "text/plain": [
       "          0         1         2         3\n",
       "0  0.261620 -0.214541  1.155784  1.664963\n",
       "1  0.327064  0.074501 -1.209728  1.136259\n",
       "2 -0.850926 -1.081667 -1.585284  0.009891\n",
       "3  0.588840 -1.226188  1.461171  0.492620\n",
       "4 -1.374477  1.664231  0.845950  0.224437"
      ]
     },
     "execution_count": 124,
     "metadata": {},
     "output_type": "execute_result"
    }
   ],
   "source": [
    "X_test.head()"
   ]
  },
  {
   "cell_type": "code",
   "execution_count": 125,
   "id": "ef9075d2",
   "metadata": {},
   "outputs": [],
   "source": [
    "from sklearn.decomposition import PCA\n",
    "\n",
    "pca = PCA()\n",
    "\n",
    "X_train_pca = pca.fit_transform(X_train)"
   ]
  },
  {
   "cell_type": "code",
   "execution_count": 126,
   "id": "f85ebff6",
   "metadata": {},
   "outputs": [
    {
     "data": {
      "text/plain": [
       "(70000, 4)"
      ]
     },
     "execution_count": 126,
     "metadata": {},
     "output_type": "execute_result"
    }
   ],
   "source": [
    "X_train_pca.shape"
   ]
  },
  {
   "cell_type": "code",
   "execution_count": 127,
   "id": "11681537",
   "metadata": {},
   "outputs": [
    {
     "data": {
      "image/png": "[encoded data removed]",
      "text/plain": [
       "<Figure size 1000x600 with 1 Axes>"
      ]
     },
     "metadata": {},
     "output_type": "display_data"
    }
   ],
   "source": [
    "# Calculate the explained variance ratio\n",
    "explained_variance_ratio = pca.explained_variance_ratio_\n",
    "\n",
    "# Calculate the cumulative explained variance ratio\n",
    "cumulative_variance_ratio = np.cumsum(explained_variance_ratio)\n",
    "\n",
    "# Plot the scree plot\n",
    "plt.figure(figsize=(10, 6))\n",
    "plt.plot(range(1, len(cumulative_variance_ratio) + 1), cumulative_variance_ratio, marker='o')\n",
    "plt.title('Scree Plot')\n",
    "plt.xlabel('Number of Principal Components')\n",
    "plt.ylabel('Cumulative Explained Variance Ratio')\n",
    "plt.grid()\n",
    "plt.show()"
   ]
  },
  {
   "cell_type": "markdown",
   "id": "1c3cfb5a",
   "metadata": {},
   "source": [
    "**8 out of 9 principal components (PCs) capture approximately 98% of the variance of the data. Therefore, I will select 8 PCs for further analysis.**"
   ]
  },
  {
   "cell_type": "code",
   "execution_count": 128,
   "id": "fad67fa8",
   "metadata": {},
   "outputs": [
    {
     "ename": "ValueError",
     "evalue": "n_components=8 must be between 0 and min(n_samples, n_features)=4 with svd_solver='covariance_eigh'",
     "output_type": "error",
     "traceback": [
      "\u001b[0;31m---------------------------------------------------------------------------\u001b[0m",
      "\u001b[0;31mValueError\u001b[0m                                Traceback (most recent call last)",
      "Cell \u001b[0;32mIn[128], line 3\u001b[0m\n\u001b[1;32m      1\u001b[0m pca \u001b[38;5;241m=\u001b[39m PCA(n_components\u001b[38;5;241m=\u001b[39m\u001b[38;5;241m8\u001b[39m)  \u001b[38;5;66;03m# Select 8 principal components\u001b[39;00m\n\u001b[0;32m----> 3\u001b[0m X_train_pca \u001b[38;5;241m=\u001b[39m \u001b[43mpca\u001b[49m\u001b[38;5;241;43m.\u001b[39;49m\u001b[43mfit_transform\u001b[49m\u001b[43m(\u001b[49m\u001b[43mX_train\u001b[49m\u001b[43m)\u001b[49m\n\u001b[1;32m      4\u001b[0m X_test_pca \u001b[38;5;241m=\u001b[39m pca\u001b[38;5;241m.\u001b[39mtransform(X_test)\n",
      "File \u001b[0;32m~/Library/Python/3.9/lib/python/site-packages/sklearn/utils/_set_output.py:313\u001b[0m, in \u001b[0;36m_wrap_method_output.<locals>.wrapped\u001b[0;34m(self, X, *args, **kwargs)\u001b[0m\n\u001b[1;32m    311\u001b[0m \u001b[38;5;129m@wraps\u001b[39m(f)\n\u001b[1;32m    312\u001b[0m \u001b[38;5;28;01mdef\u001b[39;00m \u001b[38;5;21mwrapped\u001b[39m(\u001b[38;5;28mself\u001b[39m, X, \u001b[38;5;241m*\u001b[39margs, \u001b[38;5;241m*\u001b[39m\u001b[38;5;241m*\u001b[39mkwargs):\n\u001b[0;32m--> 313\u001b[0m     data_to_wrap \u001b[38;5;241m=\u001b[39m \u001b[43mf\u001b[49m\u001b[43m(\u001b[49m\u001b[38;5;28;43mself\u001b[39;49m\u001b[43m,\u001b[49m\u001b[43m \u001b[49m\u001b[43mX\u001b[49m\u001b[43m,\u001b[49m\u001b[43m \u001b[49m\u001b[38;5;241;43m*\u001b[39;49m\u001b[43margs\u001b[49m\u001b[43m,\u001b[49m\u001b[43m \u001b[49m\u001b[38;5;241;43m*\u001b[39;49m\u001b[38;5;241;43m*\u001b[39;49m\u001b[43mkwargs\u001b[49m\u001b[43m)\u001b[49m\n\u001b[1;32m    314\u001b[0m     \u001b[38;5;28;01mif\u001b[39;00m \u001b[38;5;28misinstance\u001b[39m(data_to_wrap, \u001b[38;5;28mtuple\u001b[39m):\n\u001b[1;32m    315\u001b[0m         \u001b[38;5;66;03m# only wrap the first output for cross decomposition\u001b[39;00m\n\u001b[1;32m    316\u001b[0m         return_tuple \u001b[38;5;241m=\u001b[39m (\n\u001b[1;32m    317\u001b[0m             _wrap_data_with_container(method, data_to_wrap[\u001b[38;5;241m0\u001b[39m], X, \u001b[38;5;28mself\u001b[39m),\n\u001b[1;32m    318\u001b[0m             \u001b[38;5;241m*\u001b[39mdata_to_wrap[\u001b[38;5;241m1\u001b[39m:],\n\u001b[1;32m    319\u001b[0m         )\n",
      "File \u001b[0;32m~/Library/Python/3.9/lib/python/site-packages/sklearn/base.py:1473\u001b[0m, in \u001b[0;36m_fit_context.<locals>.decorator.<locals>.wrapper\u001b[0;34m(estimator, *args, **kwargs)\u001b[0m\n\u001b[1;32m   1466\u001b[0m     estimator\u001b[38;5;241m.\u001b[39m_validate_params()\n\u001b[1;32m   1468\u001b[0m \u001b[38;5;28;01mwith\u001b[39;00m config_context(\n\u001b[1;32m   1469\u001b[0m     skip_parameter_validation\u001b[38;5;241m=\u001b[39m(\n\u001b[1;32m   1470\u001b[0m         prefer_skip_nested_validation \u001b[38;5;129;01mor\u001b[39;00m global_skip_validation\n\u001b[1;32m   1471\u001b[0m     )\n\u001b[1;32m   1472\u001b[0m ):\n\u001b[0;32m-> 1473\u001b[0m     \u001b[38;5;28;01mreturn\u001b[39;00m \u001b[43mfit_method\u001b[49m\u001b[43m(\u001b[49m\u001b[43mestimator\u001b[49m\u001b[43m,\u001b[49m\u001b[43m \u001b[49m\u001b[38;5;241;43m*\u001b[39;49m\u001b[43margs\u001b[49m\u001b[43m,\u001b[49m\u001b[43m \u001b[49m\u001b[38;5;241;43m*\u001b[39;49m\u001b[38;5;241;43m*\u001b[39;49m\u001b[43mkwargs\u001b[49m\u001b[43m)\u001b[49m\n",
      "File \u001b[0;32m~/Library/Python/3.9/lib/python/site-packages/sklearn/decomposition/_pca.py:474\u001b[0m, in \u001b[0;36mPCA.fit_transform\u001b[0;34m(self, X, y)\u001b[0m\n\u001b[1;32m    451\u001b[0m \u001b[38;5;129m@_fit_context\u001b[39m(prefer_skip_nested_validation\u001b[38;5;241m=\u001b[39m\u001b[38;5;28;01mTrue\u001b[39;00m)\n\u001b[1;32m    452\u001b[0m \u001b[38;5;28;01mdef\u001b[39;00m \u001b[38;5;21mfit_transform\u001b[39m(\u001b[38;5;28mself\u001b[39m, X, y\u001b[38;5;241m=\u001b[39m\u001b[38;5;28;01mNone\u001b[39;00m):\n\u001b[1;32m    453\u001b[0m \u001b[38;5;250m    \u001b[39m\u001b[38;5;124;03m\"\"\"Fit the model with X and apply the dimensionality reduction on X.\u001b[39;00m\n\u001b[1;32m    454\u001b[0m \n\u001b[1;32m    455\u001b[0m \u001b[38;5;124;03m    Parameters\u001b[39;00m\n\u001b[0;32m   (...)\u001b[0m\n\u001b[1;32m    472\u001b[0m \u001b[38;5;124;03m    C-ordered array, use 'np.ascontiguousarray'.\u001b[39;00m\n\u001b[1;32m    473\u001b[0m \u001b[38;5;124;03m    \"\"\"\u001b[39;00m\n\u001b[0;32m--> 474\u001b[0m     U, S, _, X, x_is_centered, xp \u001b[38;5;241m=\u001b[39m \u001b[38;5;28;43mself\u001b[39;49m\u001b[38;5;241;43m.\u001b[39;49m\u001b[43m_fit\u001b[49m\u001b[43m(\u001b[49m\u001b[43mX\u001b[49m\u001b[43m)\u001b[49m\n\u001b[1;32m    475\u001b[0m     \u001b[38;5;28;01mif\u001b[39;00m U \u001b[38;5;129;01mis\u001b[39;00m \u001b[38;5;129;01mnot\u001b[39;00m \u001b[38;5;28;01mNone\u001b[39;00m:\n\u001b[1;32m    476\u001b[0m         U \u001b[38;5;241m=\u001b[39m U[:, : \u001b[38;5;28mself\u001b[39m\u001b[38;5;241m.\u001b[39mn_components_]\n",
      "File \u001b[0;32m~/Library/Python/3.9/lib/python/site-packages/sklearn/decomposition/_pca.py:547\u001b[0m, in \u001b[0;36mPCA._fit\u001b[0;34m(self, X)\u001b[0m\n\u001b[1;32m    545\u001b[0m \u001b[38;5;66;03m# Call different fits for either full or truncated SVD\u001b[39;00m\n\u001b[1;32m    546\u001b[0m \u001b[38;5;28;01mif\u001b[39;00m \u001b[38;5;28mself\u001b[39m\u001b[38;5;241m.\u001b[39m_fit_svd_solver \u001b[38;5;129;01min\u001b[39;00m (\u001b[38;5;124m\"\u001b[39m\u001b[38;5;124mfull\u001b[39m\u001b[38;5;124m\"\u001b[39m, \u001b[38;5;124m\"\u001b[39m\u001b[38;5;124mcovariance_eigh\u001b[39m\u001b[38;5;124m\"\u001b[39m):\n\u001b[0;32m--> 547\u001b[0m     \u001b[38;5;28;01mreturn\u001b[39;00m \u001b[38;5;28;43mself\u001b[39;49m\u001b[38;5;241;43m.\u001b[39;49m\u001b[43m_fit_full\u001b[49m\u001b[43m(\u001b[49m\u001b[43mX\u001b[49m\u001b[43m,\u001b[49m\u001b[43m \u001b[49m\u001b[43mn_components\u001b[49m\u001b[43m,\u001b[49m\u001b[43m \u001b[49m\u001b[43mxp\u001b[49m\u001b[43m,\u001b[49m\u001b[43m \u001b[49m\u001b[43mis_array_api_compliant\u001b[49m\u001b[43m)\u001b[49m\n\u001b[1;32m    548\u001b[0m \u001b[38;5;28;01melif\u001b[39;00m \u001b[38;5;28mself\u001b[39m\u001b[38;5;241m.\u001b[39m_fit_svd_solver \u001b[38;5;129;01min\u001b[39;00m [\u001b[38;5;124m\"\u001b[39m\u001b[38;5;124marpack\u001b[39m\u001b[38;5;124m\"\u001b[39m, \u001b[38;5;124m\"\u001b[39m\u001b[38;5;124mrandomized\u001b[39m\u001b[38;5;124m\"\u001b[39m]:\n\u001b[1;32m    549\u001b[0m     \u001b[38;5;28;01mreturn\u001b[39;00m \u001b[38;5;28mself\u001b[39m\u001b[38;5;241m.\u001b[39m_fit_truncated(X, n_components, xp)\n",
      "File \u001b[0;32m~/Library/Python/3.9/lib/python/site-packages/sklearn/decomposition/_pca.py:561\u001b[0m, in \u001b[0;36mPCA._fit_full\u001b[0;34m(self, X, n_components, xp, is_array_api_compliant)\u001b[0m\n\u001b[1;32m    557\u001b[0m         \u001b[38;5;28;01mraise\u001b[39;00m \u001b[38;5;167;01mValueError\u001b[39;00m(\n\u001b[1;32m    558\u001b[0m             \u001b[38;5;124m\"\u001b[39m\u001b[38;5;124mn_components=\u001b[39m\u001b[38;5;124m'\u001b[39m\u001b[38;5;124mmle\u001b[39m\u001b[38;5;124m'\u001b[39m\u001b[38;5;124m is only supported if n_samples >= n_features\u001b[39m\u001b[38;5;124m\"\u001b[39m\n\u001b[1;32m    559\u001b[0m         )\n\u001b[1;32m    560\u001b[0m \u001b[38;5;28;01melif\u001b[39;00m \u001b[38;5;129;01mnot\u001b[39;00m \u001b[38;5;241m0\u001b[39m \u001b[38;5;241m<\u001b[39m\u001b[38;5;241m=\u001b[39m n_components \u001b[38;5;241m<\u001b[39m\u001b[38;5;241m=\u001b[39m \u001b[38;5;28mmin\u001b[39m(n_samples, n_features):\n\u001b[0;32m--> 561\u001b[0m     \u001b[38;5;28;01mraise\u001b[39;00m \u001b[38;5;167;01mValueError\u001b[39;00m(\n\u001b[1;32m    562\u001b[0m         \u001b[38;5;124mf\u001b[39m\u001b[38;5;124m\"\u001b[39m\u001b[38;5;124mn_components=\u001b[39m\u001b[38;5;132;01m{\u001b[39;00mn_components\u001b[38;5;132;01m}\u001b[39;00m\u001b[38;5;124m must be between 0 and \u001b[39m\u001b[38;5;124m\"\u001b[39m\n\u001b[1;32m    563\u001b[0m         \u001b[38;5;124mf\u001b[39m\u001b[38;5;124m\"\u001b[39m\u001b[38;5;124mmin(n_samples, n_features)=\u001b[39m\u001b[38;5;132;01m{\u001b[39;00m\u001b[38;5;28mmin\u001b[39m(n_samples,\u001b[38;5;250m \u001b[39mn_features)\u001b[38;5;132;01m}\u001b[39;00m\u001b[38;5;124m with \u001b[39m\u001b[38;5;124m\"\u001b[39m\n\u001b[1;32m    564\u001b[0m         \u001b[38;5;124mf\u001b[39m\u001b[38;5;124m\"\u001b[39m\u001b[38;5;124msvd_solver=\u001b[39m\u001b[38;5;132;01m{\u001b[39;00m\u001b[38;5;28mself\u001b[39m\u001b[38;5;241m.\u001b[39m_fit_svd_solver\u001b[38;5;132;01m!r}\u001b[39;00m\u001b[38;5;124m\"\u001b[39m\n\u001b[1;32m    565\u001b[0m     )\n\u001b[1;32m    567\u001b[0m \u001b[38;5;28mself\u001b[39m\u001b[38;5;241m.\u001b[39mmean_ \u001b[38;5;241m=\u001b[39m xp\u001b[38;5;241m.\u001b[39mmean(X, axis\u001b[38;5;241m=\u001b[39m\u001b[38;5;241m0\u001b[39m)\n\u001b[1;32m    568\u001b[0m \u001b[38;5;66;03m# When X is a scipy sparse matrix, self.mean_ is a numpy matrix, so we need\u001b[39;00m\n\u001b[1;32m    569\u001b[0m \u001b[38;5;66;03m# to transform it to a 1D array. Note that this is not the case when X\u001b[39;00m\n\u001b[1;32m    570\u001b[0m \u001b[38;5;66;03m# is a scipy sparse array.\u001b[39;00m\n\u001b[1;32m    571\u001b[0m \u001b[38;5;66;03m# TODO: remove the following two lines when scikit-learn only depends\u001b[39;00m\n\u001b[1;32m    572\u001b[0m \u001b[38;5;66;03m# on scipy versions that no longer support scipy.sparse matrices.\u001b[39;00m\n",
      "\u001b[0;31mValueError\u001b[0m: n_components=8 must be between 0 and min(n_samples, n_features)=4 with svd_solver='covariance_eigh'"
     ]
    }
   ],
   "source": [
    "pca = PCA(n_components=8)  # Select 8 principal components\n",
    "\n",
    "X_train_pca = pca.fit_transform(X_train)\n",
    "X_test_pca = pca.transform(X_test)"
   ]
  },
  {
   "cell_type": "code",
   "execution_count": null,
   "id": "20bae1ae",
   "metadata": {},
   "outputs": [
    {
     "data": {
      "text/plain": [
       "((70000, 8), (30000, 8))"
      ]
     },
     "execution_count": 76,
     "metadata": {},
     "output_type": "execute_result"
    }
   ],
   "source": [
    "X_train_pca.shape, X_test_pca.shape"
   ]
  },
  {
   "cell_type": "code",
   "execution_count": null,
   "id": "16cbbe8c",
   "metadata": {},
   "outputs": [
    {
     "name": "stderr",
     "output_type": "stream",
     "text": [
      "C:\\Users\\HP\\Anaconda3\\lib\\site-packages\\sklearn\\neighbors\\_classification.py:228: FutureWarning: Unlike other reduction functions (e.g. `skew`, `kurtosis`), the default behavior of `mode` typically preserves the axis it acts along. In SciPy 1.11.0, this behavior will change: the default value of `keepdims` will become False, the `axis` over which the statistic is taken will be eliminated, and the value None will no longer be accepted. Set `keepdims` to True or False to avoid this warning.\n",
      "  mode, _ = stats.mode(_y[neigh_ind, k], axis=1)\n"
     ]
    },
    {
     "data": {
      "text/html": [
       "<div>\n",
       "<style scoped>\n",
       "    .dataframe tbody tr th:only-of-type {\n",
       "        vertical-align: middle;\n",
       "    }\n",
       "\n",
       "    .dataframe tbody tr th {\n",
       "        vertical-align: top;\n",
       "    }\n",
       "\n",
       "    .dataframe thead th {\n",
       "        text-align: right;\n",
       "    }\n",
       "</style>\n",
       "<table border=\"1\" class=\"dataframe\">\n",
       "  <thead>\n",
       "    <tr style=\"text-align: right;\">\n",
       "      <th></th>\n",
       "      <th>Algorithm</th>\n",
       "      <th>Accuracy</th>\n",
       "      <th>Precision</th>\n",
       "      <th>Recall</th>\n",
       "      <th>F1-score</th>\n",
       "      <th>Building Time (s)</th>\n",
       "    </tr>\n",
       "  </thead>\n",
       "  <tbody>\n",
       "    <tr>\n",
       "      <th>0</th>\n",
       "      <td>LogisticRegression</td>\n",
       "      <td>0.504100</td>\n",
       "      <td>0.504041</td>\n",
       "      <td>0.504100</td>\n",
       "      <td>0.502468</td>\n",
       "      <td>8.944818</td>\n",
       "    </tr>\n",
       "    <tr>\n",
       "      <th>1</th>\n",
       "      <td>DecisionTreeClassifier</td>\n",
       "      <td>1.000000</td>\n",
       "      <td>1.000000</td>\n",
       "      <td>1.000000</td>\n",
       "      <td>1.000000</td>\n",
       "      <td>3.820117</td>\n",
       "    </tr>\n",
       "    <tr>\n",
       "      <th>2</th>\n",
       "      <td>KNeighborsClassifier</td>\n",
       "      <td>0.688157</td>\n",
       "      <td>0.688157</td>\n",
       "      <td>0.688157</td>\n",
       "      <td>0.688157</td>\n",
       "      <td>2.678202</td>\n",
       "    </tr>\n",
       "    <tr>\n",
       "      <th>3</th>\n",
       "      <td>GaussianNB</td>\n",
       "      <td>0.505600</td>\n",
       "      <td>0.505607</td>\n",
       "      <td>0.505600</td>\n",
       "      <td>0.501428</td>\n",
       "      <td>0.109698</td>\n",
       "    </tr>\n",
       "    <tr>\n",
       "      <th>4</th>\n",
       "      <td>AdaBoostClassifier</td>\n",
       "      <td>0.517357</td>\n",
       "      <td>0.518133</td>\n",
       "      <td>0.517357</td>\n",
       "      <td>0.510504</td>\n",
       "      <td>5.871627</td>\n",
       "    </tr>\n",
       "    <tr>\n",
       "      <th>5</th>\n",
       "      <td>GradientBoostingClassifier</td>\n",
       "      <td>0.539629</td>\n",
       "      <td>0.540417</td>\n",
       "      <td>0.539629</td>\n",
       "      <td>0.536908</td>\n",
       "      <td>21.214955</td>\n",
       "    </tr>\n",
       "    <tr>\n",
       "      <th>6</th>\n",
       "      <td>RandomForestClassifier</td>\n",
       "      <td>1.000000</td>\n",
       "      <td>1.000000</td>\n",
       "      <td>1.000000</td>\n",
       "      <td>1.000000</td>\n",
       "      <td>13.480596</td>\n",
       "    </tr>\n",
       "    <tr>\n",
       "      <th>7</th>\n",
       "      <td>XGBClassifier</td>\n",
       "      <td>0.655871</td>\n",
       "      <td>0.656014</td>\n",
       "      <td>0.655871</td>\n",
       "      <td>0.655770</td>\n",
       "      <td>5.292027</td>\n",
       "    </tr>\n",
       "    <tr>\n",
       "      <th>8</th>\n",
       "      <td>SVC</td>\n",
       "      <td>0.522286</td>\n",
       "      <td>0.522553</td>\n",
       "      <td>0.522286</td>\n",
       "      <td>0.520140</td>\n",
       "      <td>882.968847</td>\n",
       "    </tr>\n",
       "  </tbody>\n",
       "</table>\n",
       "</div>"
      ],
      "text/plain": [
       "                    Algorithm  Accuracy  Precision    Recall  F1-score  \\\n",
       "0          LogisticRegression  0.504100   0.504041  0.504100  0.502468   \n",
       "1      DecisionTreeClassifier  1.000000   1.000000  1.000000  1.000000   \n",
       "2        KNeighborsClassifier  0.688157   0.688157  0.688157  0.688157   \n",
       "3                  GaussianNB  0.505600   0.505607  0.505600  0.501428   \n",
       "4          AdaBoostClassifier  0.517357   0.518133  0.517357  0.510504   \n",
       "5  GradientBoostingClassifier  0.539629   0.540417  0.539629  0.536908   \n",
       "6      RandomForestClassifier  1.000000   1.000000  1.000000  1.000000   \n",
       "7               XGBClassifier  0.655871   0.656014  0.655871  0.655770   \n",
       "8                         SVC  0.522286   0.522553  0.522286  0.520140   \n",
       "\n",
       "   Building Time (s)  \n",
       "0           8.944818  \n",
       "1           3.820117  \n",
       "2           2.678202  \n",
       "3           0.109698  \n",
       "4           5.871627  \n",
       "5          21.214955  \n",
       "6          13.480596  \n",
       "7           5.292027  \n",
       "8         882.968847  "
      ]
     },
     "execution_count": 77,
     "metadata": {},
     "output_type": "execute_result"
    }
   ],
   "source": [
    "algorithms = [\n",
    "    LogisticRegression(n_jobs=-1, random_state=42),\n",
    "    DecisionTreeClassifier(random_state=42),\n",
    "    KNeighborsClassifier(n_jobs=-1),\n",
    "    GaussianNB(),\n",
    "    AdaBoostClassifier(random_state=42),\n",
    "    GradientBoostingClassifier(random_state=42),\n",
    "    RandomForestClassifier(n_jobs=-1, random_state=42),\n",
    "    XGBClassifier(n_jobs=-1, random_state=42),\n",
    "    SVC(random_state=42)\n",
    "]\n",
    "\n",
    "# Initialize the results dictionary for training data\n",
    "results_train = {\n",
    "    'Algorithm': [],\n",
    "    'Accuracy': [],\n",
    "    'Precision': [],\n",
    "    'Recall': [],\n",
    "    'F1-score': [],\n",
    "    'Building Time (s)': []\n",
    "}\n",
    "\n",
    "# Apply the algorithms and calculate performance metrics for training data using X_train_pca\n",
    "for algorithm in algorithms:\n",
    "    start_time = time.time()  # Start timer\n",
    "\n",
    "    algorithm_name = type(algorithm).__name__\n",
    "    algorithm.fit(X_train_pca, y_train)\n",
    "    y_train_pred = algorithm.predict(X_train_pca)\n",
    "\n",
    "    accuracy = accuracy_score(y_train, y_train_pred)\n",
    "    precision = precision_score(y_train, y_train_pred, average='weighted')\n",
    "    recall = recall_score(y_train, y_train_pred, average='weighted')\n",
    "    f1 = f1_score(y_train, y_train_pred, average='weighted')\n",
    "\n",
    "    end_time = time.time()  # End timer\n",
    "    building_time = end_time - start_time\n",
    "\n",
    "    results_train['Algorithm'].append(algorithm_name)\n",
    "    results_train['Accuracy'].append(accuracy)\n",
    "    results_train['Precision'].append(precision)\n",
    "    results_train['Recall'].append(recall)\n",
    "    results_train['F1-score'].append(f1)\n",
    "    results_train['Building Time (s)'].append(building_time)\n",
    "\n",
    "# Create a DataFrame for the training data results\n",
    "df_train = pd.DataFrame(results_train)\n",
    "df_train"
   ]
  },
  {
   "cell_type": "code",
   "execution_count": null,
   "id": "651353c3",
   "metadata": {},
   "outputs": [
    {
     "name": "stderr",
     "output_type": "stream",
     "text": [
      "C:\\Users\\HP\\Anaconda3\\lib\\site-packages\\sklearn\\neighbors\\_classification.py:228: FutureWarning: Unlike other reduction functions (e.g. `skew`, `kurtosis`), the default behavior of `mode` typically preserves the axis it acts along. In SciPy 1.11.0, this behavior will change: the default value of `keepdims` will become False, the `axis` over which the statistic is taken will be eliminated, and the value None will no longer be accepted. Set `keepdims` to True or False to avoid this warning.\n",
      "  mode, _ = stats.mode(_y[neigh_ind, k], axis=1)\n"
     ]
    },
    {
     "data": {
      "text/html": [
       "<div>\n",
       "<style scoped>\n",
       "    .dataframe tbody tr th:only-of-type {\n",
       "        vertical-align: middle;\n",
       "    }\n",
       "\n",
       "    .dataframe tbody tr th {\n",
       "        vertical-align: top;\n",
       "    }\n",
       "\n",
       "    .dataframe thead th {\n",
       "        text-align: right;\n",
       "    }\n",
       "</style>\n",
       "<table border=\"1\" class=\"dataframe\">\n",
       "  <thead>\n",
       "    <tr style=\"text-align: right;\">\n",
       "      <th></th>\n",
       "      <th>Algorithm</th>\n",
       "      <th>Accuracy</th>\n",
       "      <th>Precision</th>\n",
       "      <th>Recall</th>\n",
       "      <th>F1-score</th>\n",
       "    </tr>\n",
       "  </thead>\n",
       "  <tbody>\n",
       "    <tr>\n",
       "      <th>0</th>\n",
       "      <td>LogisticRegression</td>\n",
       "      <td>0.503667</td>\n",
       "      <td>0.503184</td>\n",
       "      <td>0.503667</td>\n",
       "      <td>0.502102</td>\n",
       "    </tr>\n",
       "    <tr>\n",
       "      <th>1</th>\n",
       "      <td>DecisionTreeClassifier</td>\n",
       "      <td>0.495833</td>\n",
       "      <td>0.495833</td>\n",
       "      <td>0.495833</td>\n",
       "      <td>0.495833</td>\n",
       "    </tr>\n",
       "    <tr>\n",
       "      <th>2</th>\n",
       "      <td>KNeighborsClassifier</td>\n",
       "      <td>0.496733</td>\n",
       "      <td>0.496756</td>\n",
       "      <td>0.496733</td>\n",
       "      <td>0.496742</td>\n",
       "    </tr>\n",
       "    <tr>\n",
       "      <th>3</th>\n",
       "      <td>GaussianNB</td>\n",
       "      <td>0.503667</td>\n",
       "      <td>0.502901</td>\n",
       "      <td>0.503667</td>\n",
       "      <td>0.499713</td>\n",
       "    </tr>\n",
       "    <tr>\n",
       "      <th>4</th>\n",
       "      <td>AdaBoostClassifier</td>\n",
       "      <td>0.506067</td>\n",
       "      <td>0.505211</td>\n",
       "      <td>0.506067</td>\n",
       "      <td>0.499374</td>\n",
       "    </tr>\n",
       "    <tr>\n",
       "      <th>5</th>\n",
       "      <td>GradientBoostingClassifier</td>\n",
       "      <td>0.500200</td>\n",
       "      <td>0.499450</td>\n",
       "      <td>0.500200</td>\n",
       "      <td>0.497172</td>\n",
       "    </tr>\n",
       "    <tr>\n",
       "      <th>6</th>\n",
       "      <td>RandomForestClassifier</td>\n",
       "      <td>0.497533</td>\n",
       "      <td>0.497356</td>\n",
       "      <td>0.497533</td>\n",
       "      <td>0.497298</td>\n",
       "    </tr>\n",
       "    <tr>\n",
       "      <th>7</th>\n",
       "      <td>XGBClassifier</td>\n",
       "      <td>0.497900</td>\n",
       "      <td>0.497803</td>\n",
       "      <td>0.497900</td>\n",
       "      <td>0.497807</td>\n",
       "    </tr>\n",
       "    <tr>\n",
       "      <th>8</th>\n",
       "      <td>SVC</td>\n",
       "      <td>0.502667</td>\n",
       "      <td>0.502032</td>\n",
       "      <td>0.502667</td>\n",
       "      <td>0.500129</td>\n",
       "    </tr>\n",
       "  </tbody>\n",
       "</table>\n",
       "</div>"
      ],
      "text/plain": [
       "                    Algorithm  Accuracy  Precision    Recall  F1-score\n",
       "0          LogisticRegression  0.503667   0.503184  0.503667  0.502102\n",
       "1      DecisionTreeClassifier  0.495833   0.495833  0.495833  0.495833\n",
       "2        KNeighborsClassifier  0.496733   0.496756  0.496733  0.496742\n",
       "3                  GaussianNB  0.503667   0.502901  0.503667  0.499713\n",
       "4          AdaBoostClassifier  0.506067   0.505211  0.506067  0.499374\n",
       "5  GradientBoostingClassifier  0.500200   0.499450  0.500200  0.497172\n",
       "6      RandomForestClassifier  0.497533   0.497356  0.497533  0.497298\n",
       "7               XGBClassifier  0.497900   0.497803  0.497900  0.497807\n",
       "8                         SVC  0.502667   0.502032  0.502667  0.500129"
      ]
     },
     "execution_count": 78,
     "metadata": {},
     "output_type": "execute_result"
    }
   ],
   "source": [
    "results_test = {\n",
    "    'Algorithm': [],\n",
    "    'Accuracy': [],\n",
    "    'Precision': [],\n",
    "    'Recall': [],\n",
    "    'F1-score': []\n",
    "}\n",
    "\n",
    "# Apply the algorithms and calculate performance metrics for test data using X_test_pca\n",
    "for algorithm in algorithms:\n",
    "    algorithm_name = type(algorithm).__name__\n",
    "    y_test_pred = algorithm.predict(X_test_pca)\n",
    "\n",
    "    accuracy = accuracy_score(y_test, y_test_pred)\n",
    "    precision = precision_score(y_test, y_test_pred, average='weighted')\n",
    "    recall = recall_score(y_test, y_test_pred, average='weighted')\n",
    "    f1 = f1_score(y_test, y_test_pred, average='weighted')\n",
    "\n",
    "    results_test['Algorithm'].append(algorithm_name)\n",
    "    results_test['Accuracy'].append(accuracy)\n",
    "    results_test['Precision'].append(precision)\n",
    "    results_test['Recall'].append(recall)\n",
    "    results_test['F1-score'].append(f1)\n",
    "\n",
    "# Create a DataFrame for the test data results\n",
    "df_test = pd.DataFrame(results_test)\n",
    "df_test"
   ]
  },
  {
   "cell_type": "markdown",
   "id": "01aa5ff2",
   "metadata": {},
   "source": [
    "**There's no significant improvement in performance with PCA.**"
   ]
  },
  {
   "cell_type": "markdown",
   "id": "003e0238",
   "metadata": {},
   "source": [
    "**`Final Model:` XGBClassifier is the best-performing algorithm on both the training and test data, using 9 variables, 4 variables, or PCA. It has the highest accuracy, precision, recall, and F1-score on all three. Therefore, I will build the final model using XGBoost Classifier using 9 variables.**"
   ]
  },
  {
   "cell_type": "markdown",
   "id": "551aff0a",
   "metadata": {},
   "source": [
    "# `Final Model: XGBoost Using 9 variables`"
   ]
  },
  {
   "cell_type": "code",
   "execution_count": 129,
   "id": "017bf4e8",
   "metadata": {},
   "outputs": [],
   "source": [
    "x = df_cleaned.drop(\"Churn\",axis=1)\n",
    "y = df_cleaned['Churn']"
   ]
  },
  {
   "cell_type": "code",
   "execution_count": 130,
   "id": "1ad161be",
   "metadata": {},
   "outputs": [],
   "source": [
    "X_train, X_test, y_train, y_test = train_test_split(x, y, test_size=0.3, random_state=42)"
   ]
  },
  {
   "cell_type": "code",
   "execution_count": 131,
   "id": "b636f4b1",
   "metadata": {},
   "outputs": [
    {
     "data": {
      "text/plain": [
       "((70000, 4), (30000, 4))"
      ]
     },
     "execution_count": 131,
     "metadata": {},
     "output_type": "execute_result"
    }
   ],
   "source": [
    "X_train.shape, X_test.shape"
   ]
  },
  {
   "cell_type": "code",
   "execution_count": 132,
   "id": "5eeffc6d",
   "metadata": {},
   "outputs": [
    {
     "data": {
      "text/plain": [
       "Index(['Age', 'Subscription_Length_Months', 'Monthly_Bill', 'Total_Usage_GB'], dtype='object')"
      ]
     },
     "execution_count": 132,
     "metadata": {},
     "output_type": "execute_result"
    }
   ],
   "source": [
    "X_train.columns"
   ]
  },
  {
   "cell_type": "code",
   "execution_count": 133,
   "id": "7af7dc73",
   "metadata": {},
   "outputs": [],
   "source": [
    "columns_to_scale = ['Age', 'Subscription_Length_Months', 'Monthly_Bill', 'Total_Usage_GB']\n",
    "\n",
    "scaler = MinMaxScaler()\n",
    "\n",
    "X_train[columns_to_scale] = scaler.fit_transform(X_train[columns_to_scale])\n",
    "\n",
    "X_test[columns_to_scale] = scaler.transform(X_test[columns_to_scale])"
   ]
  },
  {
   "cell_type": "code",
   "execution_count": null,
   "id": "bd3ce919",
   "metadata": {},
   "outputs": [
    {
     "data": {
      "text/plain": [
       "XGBClassifier(base_score=None, booster=None, callbacks=None,\n",
       "              colsample_bylevel=None, colsample_bynode=None,\n",
       "              colsample_bytree=None, early_stopping_rounds=None,\n",
       "              enable_categorical=False, eval_metric=None, feature_types=None,\n",
       "              gamma=None, gpu_id=None, grow_policy=None, importance_type=None,\n",
       "              interaction_constraints=None, learning_rate=None, max_bin=None,\n",
       "              max_cat_threshold=None, max_cat_to_onehot=None,\n",
       "              max_delta_step=None, max_depth=None, max_leaves=None,\n",
       "              min_child_weight=None, missing=nan, monotone_constraints=None,\n",
       "              n_estimators=100, n_jobs=None, num_parallel_tree=None,\n",
       "              predictor=None, random_state=42, ...)"
      ]
     },
     "execution_count": 90,
     "metadata": {},
     "output_type": "execute_result"
    }
   ],
   "source": [
    "# Initialize the XGBoost classifier\n",
    "xgb_classifier = XGBClassifier(\n",
    "    objective='binary:logistic',  # For binary classification\n",
    "    random_state=42               # Random seed for reproducibility\n",
    ")\n",
    "\n",
    "# Train (fit) the model\n",
    "xgb_classifier.fit(X_train, y_train)\n"
   ]
  },
  {
   "cell_type": "code",
   "execution_count": null,
   "id": "dc09c244",
   "metadata": {},
   "outputs": [
    {
     "data": {
      "text/html": [
       "<div>\n",
       "<style scoped>\n",
       "    .dataframe tbody tr th:only-of-type {\n",
       "        vertical-align: middle;\n",
       "    }\n",
       "\n",
       "    .dataframe tbody tr th {\n",
       "        vertical-align: top;\n",
       "    }\n",
       "\n",
       "    .dataframe thead th {\n",
       "        text-align: right;\n",
       "    }\n",
       "</style>\n",
       "<table border=\"1\" class=\"dataframe\">\n",
       "  <thead>\n",
       "    <tr style=\"text-align: right;\">\n",
       "      <th></th>\n",
       "      <th>Metric</th>\n",
       "      <th>Train</th>\n",
       "      <th>Test</th>\n",
       "    </tr>\n",
       "  </thead>\n",
       "  <tbody>\n",
       "    <tr>\n",
       "      <th>0</th>\n",
       "      <td>Accuracy</td>\n",
       "      <td>0.664929</td>\n",
       "      <td>0.500500</td>\n",
       "    </tr>\n",
       "    <tr>\n",
       "      <th>1</th>\n",
       "      <td>Precision</td>\n",
       "      <td>0.668665</td>\n",
       "      <td>0.495329</td>\n",
       "    </tr>\n",
       "    <tr>\n",
       "      <th>2</th>\n",
       "      <td>Recall</td>\n",
       "      <td>0.651227</td>\n",
       "      <td>0.489224</td>\n",
       "    </tr>\n",
       "    <tr>\n",
       "      <th>3</th>\n",
       "      <td>F1-Score</td>\n",
       "      <td>0.659831</td>\n",
       "      <td>0.492258</td>\n",
       "    </tr>\n",
       "  </tbody>\n",
       "</table>\n",
       "</div>"
      ],
      "text/plain": [
       "      Metric     Train      Test\n",
       "0   Accuracy  0.664929  0.500500\n",
       "1  Precision  0.668665  0.495329\n",
       "2     Recall  0.651227  0.489224\n",
       "3   F1-Score  0.659831  0.492258"
      ]
     },
     "execution_count": 91,
     "metadata": {},
     "output_type": "execute_result"
    }
   ],
   "source": [
    "y_train_pred = xgb_classifier.predict(X_train)\n",
    "y_test_pred = xgb_classifier.predict(X_test)\n",
    "\n",
    "# Calculate metrics for train set\n",
    "train_accuracy = accuracy_score(y_train, y_train_pred)\n",
    "train_precision = precision_score(y_train, y_train_pred)\n",
    "train_recall = recall_score(y_train, y_train_pred)\n",
    "train_f1 = f1_score(y_train, y_train_pred)\n",
    "\n",
    "# Calculate metrics for test set\n",
    "test_accuracy = accuracy_score(y_test, y_test_pred)\n",
    "test_precision = precision_score(y_test, y_test_pred)\n",
    "test_recall = recall_score(y_test, y_test_pred)\n",
    "test_f1 = f1_score(y_test, y_test_pred)\n",
    "\n",
    "# Create a DataFrame to store the results\n",
    "results = pd.DataFrame({\n",
    "    'Metric': ['Accuracy', 'Precision', 'Recall', 'F1-Score'],\n",
    "    'Train': [train_accuracy, train_precision, train_recall, train_f1],\n",
    "    'Test': [test_accuracy, test_precision, test_recall, test_f1]\n",
    "})\n",
    "\n",
    "results"
   ]
  },
  {
   "cell_type": "markdown",
   "id": "b20b997f",
   "metadata": {},
   "source": [
    "# `Hyperparameter Tunning`\n",
    "\n",
    "Hyperparameters are settings in machine learning algorithms that control how the algorithm works. They are like the knobs and dials on a machine, and they can be adjusted to improve the performance of the algorithm."
   ]
  },
  {
   "cell_type": "code",
   "execution_count": null,
   "id": "123a8187",
   "metadata": {},
   "outputs": [],
   "source": [
    "from sklearn.model_selection import GridSearchCV\n",
    "\n",
    "# Define the parameter grid for hyperparameter tuning\n",
    "\n",
    "param_grid = {\n",
    "    'max_depth': [3, 4, 5],\n",
    "    'learning_rate': [0.1, 0.01, 0.001],\n",
    "    'n_estimators': [50, 100, 150]\n",
    "}"
   ]
  },
  {
   "cell_type": "code",
   "execution_count": null,
   "id": "9866b820",
   "metadata": {},
   "outputs": [
    {
     "data": {
      "text/plain": [
       "GridSearchCV(cv=5,\n",
       "             estimator=XGBClassifier(base_score=None, booster=None,\n",
       "                                     callbacks=None, colsample_bylevel=None,\n",
       "                                     colsample_bynode=None,\n",
       "                                     colsample_bytree=None,\n",
       "                                     early_stopping_rounds=None,\n",
       "                                     enable_categorical=False, eval_metric=None,\n",
       "                                     feature_types=None, gamma=None,\n",
       "                                     gpu_id=None, grow_policy=None,\n",
       "                                     importance_type=None,\n",
       "                                     interaction_constraints=None,\n",
       "                                     learning_rate=None,...\n",
       "                                     max_cat_threshold=None,\n",
       "                                     max_cat_to_onehot=None,\n",
       "                                     max_delta_step=None, max_depth=None,\n",
       "                                     max_leaves=None, min_child_weight=None,\n",
       "                                     missing=nan, monotone_constraints=None,\n",
       "                                     n_estimators=100, n_jobs=None,\n",
       "                                     num_parallel_tree=None, predictor=None,\n",
       "                                     random_state=42, ...),\n",
       "             param_grid={'learning_rate': [0.1, 0.01, 0.001],\n",
       "                         'max_depth': [3, 4, 5],\n",
       "                         'n_estimators': [50, 100, 150]},\n",
       "             scoring='recall')"
      ]
     },
     "execution_count": 94,
     "metadata": {},
     "output_type": "execute_result"
    }
   ],
   "source": [
    "# Initialize GridSearchCV with recall as the scoring metric\n",
    "grid_search = GridSearchCV(\n",
    "    estimator=xgb_classifier,\n",
    "    param_grid=param_grid,\n",
    "    scoring='recall',\n",
    "    cv=5\n",
    ")\n",
    "\n",
    "# Fit the GridSearchCV on the training data\n",
    "grid_search.fit(X_train, y_train)"
   ]
  },
  {
   "cell_type": "markdown",
   "id": "c77426fe",
   "metadata": {},
   "source": [
    "**According to the problem statement, false negatives are more important to reduce. Therefore, I selected recall as a metric to focus on.**"
   ]
  },
  {
   "cell_type": "code",
   "execution_count": null,
   "id": "b4bc2604",
   "metadata": {},
   "outputs": [
    {
     "name": "stdout",
     "output_type": "stream",
     "text": [
      "Best Parameters: {'learning_rate': 0.1, 'max_depth': 5, 'n_estimators': 150}\n",
      "Test Recall with Best Model: 0.46619073275862066\n"
     ]
    }
   ],
   "source": [
    "# Get the best model from the search\n",
    "best_xgb = grid_search.best_estimator_\n",
    "\n",
    "# Make predictions on the test set using the best model\n",
    "y_test_pred = best_xgb.predict(X_test)\n",
    "\n",
    "# Calculate recall for the test set\n",
    "test_recall = recall_score(y_test, y_test_pred)\n",
    "\n",
    "print(\"Best Parameters:\", grid_search.best_params_)\n",
    "print(\"Test Recall with Best Model:\", test_recall)"
   ]
  },
  {
   "cell_type": "markdown",
   "id": "dbae3723",
   "metadata": {},
   "source": [
    "**After hyperparameter tuning, the performance of the model did not improve. Hence, I choose XGBoost CLassifier without hyperparameter tunning and perform cross-validation on it.**"
   ]
  },
  {
   "cell_type": "markdown",
   "id": "94e29ae7",
   "metadata": {},
   "source": [
    "# `Cross Validation`\n",
    "\n",
    "* Cross-validation is a technique used to evaluate the performance of a machine learning model. It works by dividing the data into several parts, called folds. The model is then trained on a subset of the data and tested on the remaining folds. This process is repeated several times, and the results are averaged to get an estimate of the model's performance.\n",
    "\n",
    "\n",
    "* Cross-validation is necessary because it helps us avoid overfitting the model to the training data.\n",
    "\n",
    "\n",
    "* Cross-validation is a way to make sure that our model is not just memorizing the training data, but that it is actually learning to make accurate predictions on new data."
   ]
  },
  {
   "cell_type": "code",
   "execution_count": null,
   "id": "c2a1e598",
   "metadata": {},
   "outputs": [
    {
     "name": "stdout",
     "output_type": "stream",
     "text": [
      "Cross-Validation Scores (Accuracy): [0.49692857 0.50057143 0.49892857 0.50478571 0.505     ]\n",
      "\n",
      "Mean Accuracy Score: 0.5012428571428571\n"
     ]
    }
   ],
   "source": [
    "#cross validation of accuracy\n",
    "\n",
    "from sklearn.model_selection import cross_val_score\n",
    "\n",
    "scores = cross_val_score(xgb_classifier, X_train, y_train, cv=5, scoring='accuracy',n_jobs=-1)\n",
    "\n",
    "print(\"Cross-Validation Scores (Accuracy):\", scores)\n",
    "print()\n",
    "print(\"Mean Accuracy Score:\", scores.mean())"
   ]
  },
  {
   "cell_type": "code",
   "execution_count": null,
   "id": "a6c7b3d6",
   "metadata": {},
   "outputs": [
    {
     "name": "stdout",
     "output_type": "stream",
     "text": [
      "Cross-Validation Scores (Recall): [0.48990983 0.49398798 0.48869167 0.50171772 0.49427426]\n",
      "\n",
      "Mean Recall Score: 0.4937162923036775\n"
     ]
    }
   ],
   "source": [
    "#cross validation of recall\n",
    "\n",
    "scores = cross_val_score(xgb_classifier, X_train, y_train, cv=5, scoring='recall',n_jobs=-1)\n",
    "\n",
    "print(\"Cross-Validation Scores (Recall):\", scores)\n",
    "print()\n",
    "print(\"Mean Recall Score:\", scores.mean())"
   ]
  },
  {
   "cell_type": "markdown",
   "id": "54677bf9",
   "metadata": {},
   "source": [
    "# `Finding Optimal Threshold`"
   ]
  },
  {
   "cell_type": "code",
   "execution_count": null,
   "id": "ad4e4573",
   "metadata": {},
   "outputs": [
    {
     "data": {
      "text/html": [
       "<div>\n",
       "<style scoped>\n",
       "    .dataframe tbody tr th:only-of-type {\n",
       "        vertical-align: middle;\n",
       "    }\n",
       "\n",
       "    .dataframe tbody tr th {\n",
       "        vertical-align: top;\n",
       "    }\n",
       "\n",
       "    .dataframe thead th {\n",
       "        text-align: right;\n",
       "    }\n",
       "</style>\n",
       "<table border=\"1\" class=\"dataframe\">\n",
       "  <thead>\n",
       "    <tr style=\"text-align: right;\">\n",
       "      <th></th>\n",
       "      <th>Probability</th>\n",
       "      <th>Actual_Label</th>\n",
       "      <th>Predicted_Label</th>\n",
       "    </tr>\n",
       "  </thead>\n",
       "  <tbody>\n",
       "    <tr>\n",
       "      <th>43364</th>\n",
       "      <td>0.474755</td>\n",
       "      <td>1</td>\n",
       "      <td>0</td>\n",
       "    </tr>\n",
       "    <tr>\n",
       "      <th>52617</th>\n",
       "      <td>0.490060</td>\n",
       "      <td>1</td>\n",
       "      <td>0</td>\n",
       "    </tr>\n",
       "    <tr>\n",
       "      <th>83194</th>\n",
       "      <td>0.420003</td>\n",
       "      <td>0</td>\n",
       "      <td>0</td>\n",
       "    </tr>\n",
       "    <tr>\n",
       "      <th>79395</th>\n",
       "      <td>0.481040</td>\n",
       "      <td>0</td>\n",
       "      <td>0</td>\n",
       "    </tr>\n",
       "    <tr>\n",
       "      <th>78962</th>\n",
       "      <td>0.469605</td>\n",
       "      <td>0</td>\n",
       "      <td>0</td>\n",
       "    </tr>\n",
       "    <tr>\n",
       "      <th>32846</th>\n",
       "      <td>0.477571</td>\n",
       "      <td>0</td>\n",
       "      <td>0</td>\n",
       "    </tr>\n",
       "    <tr>\n",
       "      <th>88132</th>\n",
       "      <td>0.498932</td>\n",
       "      <td>1</td>\n",
       "      <td>0</td>\n",
       "    </tr>\n",
       "    <tr>\n",
       "      <th>22788</th>\n",
       "      <td>0.528793</td>\n",
       "      <td>0</td>\n",
       "      <td>1</td>\n",
       "    </tr>\n",
       "    <tr>\n",
       "      <th>63261</th>\n",
       "      <td>0.456429</td>\n",
       "      <td>0</td>\n",
       "      <td>0</td>\n",
       "    </tr>\n",
       "    <tr>\n",
       "      <th>48217</th>\n",
       "      <td>0.518680</td>\n",
       "      <td>0</td>\n",
       "      <td>1</td>\n",
       "    </tr>\n",
       "  </tbody>\n",
       "</table>\n",
       "</div>"
      ],
      "text/plain": [
       "       Probability  Actual_Label  Predicted_Label\n",
       "43364     0.474755             1                0\n",
       "52617     0.490060             1                0\n",
       "83194     0.420003             0                0\n",
       "79395     0.481040             0                0\n",
       "78962     0.469605             0                0\n",
       "32846     0.477571             0                0\n",
       "88132     0.498932             1                0\n",
       "22788     0.528793             0                1\n",
       "63261     0.456429             0                0\n",
       "48217     0.518680             0                1"
      ]
     },
     "execution_count": 98,
     "metadata": {},
     "output_type": "execute_result"
    }
   ],
   "source": [
    "#creating a dataframe of probabilites, actual labels, predicted labels for genral check\n",
    "\n",
    "probabilities = xgb_classifier.predict_proba(X_train)\n",
    "\n",
    "predicted_labels = xgb_classifier.predict(X_train)\n",
    "\n",
    "results = pd.DataFrame({'Probability': probabilities[:, 1],\n",
    "                        'Actual_Label': y_train,\n",
    "                        'Predicted_Label': predicted_labels})\n",
    "\n",
    "results.sample(10)"
   ]
  },
  {
   "cell_type": "code",
   "execution_count": null,
   "id": "5d000988",
   "metadata": {},
   "outputs": [
    {
     "data": {
      "text/html": [
       "<div>\n",
       "<style scoped>\n",
       "    .dataframe tbody tr th:only-of-type {\n",
       "        vertical-align: middle;\n",
       "    }\n",
       "\n",
       "    .dataframe tbody tr th {\n",
       "        vertical-align: top;\n",
       "    }\n",
       "\n",
       "    .dataframe thead th {\n",
       "        text-align: right;\n",
       "    }\n",
       "</style>\n",
       "<table border=\"1\" class=\"dataframe\">\n",
       "  <thead>\n",
       "    <tr style=\"text-align: right;\">\n",
       "      <th></th>\n",
       "      <th>Probability</th>\n",
       "      <th>Accuracy</th>\n",
       "      <th>Precision</th>\n",
       "      <th>Recall</th>\n",
       "      <th>F1 Score</th>\n",
       "    </tr>\n",
       "  </thead>\n",
       "  <tbody>\n",
       "    <tr>\n",
       "      <th>0</th>\n",
       "      <td>0.1</td>\n",
       "      <td>0.499214</td>\n",
       "      <td>0.499114</td>\n",
       "      <td>1.000000</td>\n",
       "      <td>0.665879</td>\n",
       "    </tr>\n",
       "    <tr>\n",
       "      <th>1</th>\n",
       "      <td>0.2</td>\n",
       "      <td>0.501929</td>\n",
       "      <td>0.500473</td>\n",
       "      <td>1.000000</td>\n",
       "      <td>0.667087</td>\n",
       "    </tr>\n",
       "    <tr>\n",
       "      <th>2</th>\n",
       "      <td>0.3</td>\n",
       "      <td>0.514757</td>\n",
       "      <td>0.506998</td>\n",
       "      <td>0.999714</td>\n",
       "      <td>0.672793</td>\n",
       "    </tr>\n",
       "    <tr>\n",
       "      <th>3</th>\n",
       "      <td>0.4</td>\n",
       "      <td>0.569243</td>\n",
       "      <td>0.537409</td>\n",
       "      <td>0.982508</td>\n",
       "      <td>0.694786</td>\n",
       "    </tr>\n",
       "    <tr>\n",
       "      <th>4</th>\n",
       "      <td>0.5</td>\n",
       "      <td>0.664929</td>\n",
       "      <td>0.668665</td>\n",
       "      <td>0.651227</td>\n",
       "      <td>0.659831</td>\n",
       "    </tr>\n",
       "    <tr>\n",
       "      <th>5</th>\n",
       "      <td>0.6</td>\n",
       "      <td>0.569614</td>\n",
       "      <td>0.888422</td>\n",
       "      <td>0.157281</td>\n",
       "      <td>0.267250</td>\n",
       "    </tr>\n",
       "    <tr>\n",
       "      <th>6</th>\n",
       "      <td>0.7</td>\n",
       "      <td>0.517100</td>\n",
       "      <td>0.986207</td>\n",
       "      <td>0.032750</td>\n",
       "      <td>0.063395</td>\n",
       "    </tr>\n",
       "    <tr>\n",
       "      <th>7</th>\n",
       "      <td>0.8</td>\n",
       "      <td>0.504286</td>\n",
       "      <td>1.000000</td>\n",
       "      <td>0.006613</td>\n",
       "      <td>0.013139</td>\n",
       "    </tr>\n",
       "    <tr>\n",
       "      <th>8</th>\n",
       "      <td>0.9</td>\n",
       "      <td>0.501371</td>\n",
       "      <td>1.000000</td>\n",
       "      <td>0.000773</td>\n",
       "      <td>0.001545</td>\n",
       "    </tr>\n",
       "    <tr>\n",
       "      <th>9</th>\n",
       "      <td>1.0</td>\n",
       "      <td>0.500986</td>\n",
       "      <td>1.000000</td>\n",
       "      <td>0.000000</td>\n",
       "      <td>0.000000</td>\n",
       "    </tr>\n",
       "  </tbody>\n",
       "</table>\n",
       "</div>"
      ],
      "text/plain": [
       "   Probability  Accuracy  Precision    Recall  F1 Score\n",
       "0          0.1  0.499214   0.499114  1.000000  0.665879\n",
       "1          0.2  0.501929   0.500473  1.000000  0.667087\n",
       "2          0.3  0.514757   0.506998  0.999714  0.672793\n",
       "3          0.4  0.569243   0.537409  0.982508  0.694786\n",
       "4          0.5  0.664929   0.668665  0.651227  0.659831\n",
       "5          0.6  0.569614   0.888422  0.157281  0.267250\n",
       "6          0.7  0.517100   0.986207  0.032750  0.063395\n",
       "7          0.8  0.504286   1.000000  0.006613  0.013139\n",
       "8          0.9  0.501371   1.000000  0.000773  0.001545\n",
       "9          1.0  0.500986   1.000000  0.000000  0.000000"
      ]
     },
     "execution_count": 99,
     "metadata": {},
     "output_type": "execute_result"
    }
   ],
   "source": [
    "#check evaulation metrics for different thresholds\n",
    "\n",
    "thresholds = [0.1, 0.2, 0.3, 0.4, 0.5, 0.6, 0.7, 0.8, 0.9, 1.0]\n",
    "\n",
    "# Creating an empty DataFrame to store the evaluation metrics\n",
    "metrics_df = pd.DataFrame(columns=['Probability', 'Accuracy', 'Precision', 'Recall', 'F1 Score'])\n",
    "\n",
    "# Iterating over the probability thresholds\n",
    "for threshold in thresholds:\n",
    "    # Converting probabilities to predicted labels based on the threshold\n",
    "    predicted_labels = (probabilities[:, 1] >= threshold).astype(int)\n",
    "\n",
    "    # Calculating evaluation metrics\n",
    "    accuracy = accuracy_score(y_train, predicted_labels)\n",
    "    precision = precision_score(y_train, predicted_labels, zero_division=1)\n",
    "    recall = recall_score(y_train, predicted_labels, zero_division=1)\n",
    "    f1 = f1_score(y_train, predicted_labels, zero_division=1)\n",
    "\n",
    "    # Adding the metrics to the DataFrame\n",
    "    metrics_df = pd.concat([metrics_df, pd.DataFrame({'Probability': [threshold],\n",
    "                                                      'Accuracy': [accuracy],\n",
    "                                                      'Precision': [precision],\n",
    "                                                      'Recall': [recall],\n",
    "                                                      'F1 Score': [f1]})], ignore_index=True)\n",
    "metrics_df"
   ]
  },
  {
   "cell_type": "markdown",
   "id": "2f5513a7",
   "metadata": {},
   "source": [
    "## `Check the Trade-Off Between Accuracy, Sensitivity, Specitivity, F-1 Score and Probabilities (Thresholds)`"
   ]
  },
  {
   "cell_type": "code",
   "execution_count": null,
   "id": "c5ad2048",
   "metadata": {},
   "outputs": [
    {
     "data": {
      "image/png": "[encoded data removed]",
      "text/plain": [
       "<Figure size 600x400 with 1 Axes>"
      ]
     },
     "metadata": {},
     "output_type": "display_data"
    }
   ],
   "source": [
    "from sklearn.metrics import confusion_matrix\n",
    "\n",
    "# Calculate predicted probabilities for the train data\n",
    "train_probabilities = xgb_classifier.predict_proba(X_train)[:, 1]\n",
    "\n",
    "# Apply different thresholds to obtain binary predictions for train data\n",
    "thresholds = np.arange(0, 1.1, 0.1)\n",
    "sensitivity = []\n",
    "specificity = []\n",
    "accuracy = []\n",
    "f1_scores = []\n",
    "\n",
    "for threshold in thresholds:\n",
    "    train_predictions = (train_probabilities >= threshold).astype(int)\n",
    "    tn, fp, fn, tp = confusion_matrix(y_train, train_predictions).ravel()\n",
    "    sensitivity.append(tp / (tp + fn))\n",
    "    specificity.append(tn / (tn + fp))\n",
    "    accuracy.append((tp + tn) / (tp + tn + fp + fn))\n",
    "    f1_scores.append(f1_score(y_train, train_predictions))\n",
    "\n",
    "# Plot the sensitivity, specificity, accuracy, and F1 score against probability thresholds\n",
    "plt.figure(figsize=(6,4))\n",
    "plt.plot(thresholds, sensitivity, label='Sensitivity')\n",
    "plt.plot(thresholds, specificity, label='Specificity')\n",
    "plt.plot(thresholds, accuracy, label='Accuracy')\n",
    "plt.plot(thresholds, f1_scores, label='F1 Score')\n",
    "plt.xlabel('Probability Threshold')\n",
    "plt.xticks(np.arange(0, 1.1, 0.1))\n",
    "plt.ylabel('Metric Value')\n",
    "plt.title('Metrics vs. Probability Threshold')\n",
    "plt.legend(loc='lower left')\n",
    "plt.show()"
   ]
  },
  {
   "cell_type": "markdown",
   "id": "33900411",
   "metadata": {},
   "source": [
    "**The graph indicates that 0.5 is the best threshold point, where accuracy, sensitivity, specificity, and F1 score are all stable.**"
   ]
  },
  {
   "cell_type": "markdown",
   "id": "7c81360d",
   "metadata": {},
   "source": [
    "# `Model Evaulation (XG Boost)`"
   ]
  },
  {
   "cell_type": "markdown",
   "id": "9c2cb8fe",
   "metadata": {},
   "source": [
    "## `Train & Test Data Metrics`"
   ]
  },
  {
   "cell_type": "code",
   "execution_count": null,
   "id": "bd89a37d",
   "metadata": {},
   "outputs": [
    {
     "data": {
      "text/html": [
       "<div>\n",
       "<style scoped>\n",
       "    .dataframe tbody tr th:only-of-type {\n",
       "        vertical-align: middle;\n",
       "    }\n",
       "\n",
       "    .dataframe tbody tr th {\n",
       "        vertical-align: top;\n",
       "    }\n",
       "\n",
       "    .dataframe thead th {\n",
       "        text-align: right;\n",
       "    }\n",
       "</style>\n",
       "<table border=\"1\" class=\"dataframe\">\n",
       "  <thead>\n",
       "    <tr style=\"text-align: right;\">\n",
       "      <th></th>\n",
       "      <th>Dataset</th>\n",
       "      <th>Accuracy</th>\n",
       "      <th>Precision</th>\n",
       "      <th>Recall</th>\n",
       "      <th>F1-score</th>\n",
       "    </tr>\n",
       "  </thead>\n",
       "  <tbody>\n",
       "    <tr>\n",
       "      <th>0</th>\n",
       "      <td>Train</td>\n",
       "      <td>0.664929</td>\n",
       "      <td>0.665030</td>\n",
       "      <td>0.664902</td>\n",
       "      <td>0.664853</td>\n",
       "    </tr>\n",
       "    <tr>\n",
       "      <th>1</th>\n",
       "      <td>Test</td>\n",
       "      <td>0.500500</td>\n",
       "      <td>0.500387</td>\n",
       "      <td>0.500387</td>\n",
       "      <td>0.500368</td>\n",
       "    </tr>\n",
       "  </tbody>\n",
       "</table>\n",
       "</div>"
      ],
      "text/plain": [
       "  Dataset  Accuracy  Precision    Recall  F1-score\n",
       "0   Train  0.664929   0.665030  0.664902  0.664853\n",
       "1    Test  0.500500   0.500387  0.500387  0.500368"
      ]
     },
     "execution_count": 101,
     "metadata": {},
     "output_type": "execute_result"
    }
   ],
   "source": [
    "# Calculate evaluation metrics for train data\n",
    "train_accuracy = accuracy_score(y_train, y_train_pred)\n",
    "train_precision = precision_score(y_train, y_train_pred, average='macro')\n",
    "train_recall = recall_score(y_train, y_train_pred, average='macro')\n",
    "train_f1_score = f1_score(y_train, y_train_pred, average='macro')\n",
    "\n",
    "# Predict on the test data\n",
    "y_test_pred = xgb_classifier.predict(X_test)\n",
    "\n",
    "# Calculate evaluation metrics for test data\n",
    "test_accuracy = accuracy_score(y_test, y_test_pred)\n",
    "test_precision = precision_score(y_test, y_test_pred, average='macro')\n",
    "test_recall = recall_score(y_test, y_test_pred, average='macro')\n",
    "test_f1_score = f1_score(y_test, y_test_pred, average='macro')\n",
    "\n",
    "# Create a DataFrame to store the evaluation metrics\n",
    "metrics_data = {\n",
    "    'Dataset': ['Train', 'Test'],\n",
    "    'Accuracy': [train_accuracy, test_accuracy],\n",
    "    'Precision': [train_precision, test_precision],\n",
    "    'Recall': [train_recall, test_recall],\n",
    "    'F1-score': [train_f1_score, test_f1_score]\n",
    "}\n",
    "\n",
    "metrics_df = pd.DataFrame(metrics_data)\n",
    "metrics_df"
   ]
  },
  {
   "cell_type": "markdown",
   "id": "6ed2be82",
   "metadata": {},
   "source": [
    "## `Confusion Matrix`\n",
    "\n",
    "Confusion matrix is a table that is used to evaluate the performance of a machine learning model. It shows how many instances were correctly classified as positive (true positives), incorrectly classified as positive (false positives), correctly classified as negative (true negatives), and incorrectly classified as negative (false negatives)."
   ]
  },
  {
   "cell_type": "code",
   "execution_count": null,
   "id": "0d130517",
   "metadata": {},
   "outputs": [
    {
     "data": {
      "text/html": [
       "<div>\n",
       "<style scoped>\n",
       "    .dataframe tbody tr th:only-of-type {\n",
       "        vertical-align: middle;\n",
       "    }\n",
       "\n",
       "    .dataframe tbody tr th {\n",
       "        vertical-align: top;\n",
       "    }\n",
       "\n",
       "    .dataframe thead th {\n",
       "        text-align: right;\n",
       "    }\n",
       "</style>\n",
       "<table border=\"1\" class=\"dataframe\">\n",
       "  <thead>\n",
       "    <tr style=\"text-align: right;\">\n",
       "      <th></th>\n",
       "      <th>Training Set</th>\n",
       "      <th>Test Set</th>\n",
       "    </tr>\n",
       "  </thead>\n",
       "  <tbody>\n",
       "    <tr>\n",
       "      <th>True Positive (%)</th>\n",
       "      <td>33.995714</td>\n",
       "      <td>25.836667</td>\n",
       "    </tr>\n",
       "    <tr>\n",
       "      <th>True Negative (%)</th>\n",
       "      <td>16.102857</td>\n",
       "      <td>24.670000</td>\n",
       "    </tr>\n",
       "    <tr>\n",
       "      <th>False Positive (%)</th>\n",
       "      <td>17.404286</td>\n",
       "      <td>25.280000</td>\n",
       "    </tr>\n",
       "    <tr>\n",
       "      <th>False Negative (%)</th>\n",
       "      <td>32.497143</td>\n",
       "      <td>24.213333</td>\n",
       "    </tr>\n",
       "  </tbody>\n",
       "</table>\n",
       "</div>"
      ],
      "text/plain": [
       "                    Training Set   Test Set\n",
       "True Positive (%)      33.995714  25.836667\n",
       "True Negative (%)      16.102857  24.670000\n",
       "False Positive (%)     17.404286  25.280000\n",
       "False Negative (%)     32.497143  24.213333"
      ]
     },
     "execution_count": 102,
     "metadata": {},
     "output_type": "execute_result"
    }
   ],
   "source": [
    "from sklearn.metrics import confusion_matrix\n",
    "\n",
    "# Calculate predictions for the training set using a threshold of 0.50\n",
    "train_predictions = (xgb_classifier.predict_proba(X_train)[:, 1] >= 0.50).astype(int)\n",
    "train_confusion_matrix = confusion_matrix(y_train, train_predictions)\n",
    "\n",
    "# Calculate predictions for the test set using a threshold of 0.50\n",
    "test_predictions = (xgb_classifier.predict_proba(X_test)[:, 1] >= 0.50).astype(int)\n",
    "test_confusion_matrix = confusion_matrix(y_test, test_predictions)\n",
    "\n",
    "# Calculate the total number of samples in each set\n",
    "train_total = len(y_train)\n",
    "test_total = len(y_test)\n",
    "\n",
    "# Calculate the confusion matrix in percentage form for the training set\n",
    "train_confusion_matrix_percent = train_confusion_matrix / train_total * 100\n",
    "\n",
    "# Calculate the confusion matrix in percentage form for the test set\n",
    "test_confusion_matrix_percent = test_confusion_matrix / test_total * 100\n",
    "\n",
    "# Create a dataframe for the confusion matrix\n",
    "confusion_matrix_df = pd.DataFrame({'Training Set': train_confusion_matrix_percent.flatten(),\n",
    "                                    'Test Set': test_confusion_matrix_percent.flatten()},\n",
    "                                   index=['True Positive (%)', 'True Negative (%)', 'False Positive (%)', 'False Negative (%)', ])\n",
    "#\n",
    "confusion_matrix_df"
   ]
  },
  {
   "cell_type": "markdown",
   "id": "15b520c0",
   "metadata": {},
   "source": [
    "## `ROC-AUC Curve`\n",
    "\n",
    "ROC-AUC curve, or Receiver Operating Characteristic-Area Under Curve, is a graph used in machine learning to measure the performance of a binary classifier. It plots the true positive rate (TPR) against the false positive rate (FPR) at different classification thresholds."
   ]
  },
  {
   "cell_type": "code",
   "execution_count": null,
   "id": "be8d8208",
   "metadata": {},
   "outputs": [
    {
     "data": {
      "image/png": "[encoded data removed]",
      "text/plain": [
       "<Figure size 600x400 with 1 Axes>"
      ]
     },
     "metadata": {},
     "output_type": "display_data"
    }
   ],
   "source": [
    "from sklearn.metrics import roc_curve, auc, roc_auc_score\n",
    "\n",
    "# Calculate predicted probabilities for the train data\n",
    "train_probabilities = xgb_classifier.predict_proba(X_train)[:, 1]\n",
    "\n",
    "# Apply the threshold of 0.50 to obtain binary predictions for train data\n",
    "train_predictions = (train_probabilities >= 0.50).astype(int)\n",
    "\n",
    "# Calculate the false positive rate, true positive rate, and thresholds for train data\n",
    "fpr_train, tpr_train, thresholds_train = roc_curve(y_train, train_probabilities)\n",
    "\n",
    "# Calculate the ROC-AUC score for train data\n",
    "roc_auc_train = roc_auc_score(y_train, train_predictions)\n",
    "\n",
    "# Calculate predicted probabilities for the test data\n",
    "test_probabilities = xgb_classifier.predict_proba(X_test)[:, 1]\n",
    "\n",
    "# Apply the threshold of 0.50 to obtain binary predictions for test data\n",
    "test_predictions = (test_probabilities >= 0.50).astype(int)\n",
    "\n",
    "# Calculate the false positive rate, true positive rate, and thresholds for test data\n",
    "fpr_test, tpr_test, thresholds_test = roc_curve(y_test, test_probabilities)\n",
    "\n",
    "# Calculate the ROC-AUC score for test data\n",
    "roc_auc_test = roc_auc_score(y_test, test_predictions)\n",
    "\n",
    "# Plot the ROC curves\n",
    "plt.figure(figsize=(6,4))\n",
    "plt.plot(fpr_train, tpr_train, label='Train ROC curve (area = {:.2f})'.format(roc_auc_train))\n",
    "plt.plot(fpr_test, tpr_test, label='Test ROC curve (area = {:.2f})'.format(roc_auc_test))\n",
    "plt.plot([0, 1], [0, 1], 'k--')\n",
    "plt.xlim([0.0, 1.0])\n",
    "plt.ylim([0.0, 1.05])\n",
    "plt.xlabel('False Positive Rate')\n",
    "plt.ylabel('True Positive Rate')\n",
    "plt.title('Receiver Operating Characteristic (ROC)')\n",
    "plt.legend(loc='lower right')\n",
    "plt.show()"
   ]
  },
  {
   "cell_type": "markdown",
   "id": "5b272b92",
   "metadata": {},
   "source": [
    "# `Important Features in Model Building`"
   ]
  },
  {
   "cell_type": "code",
   "execution_count": null,
   "id": "a90c65f3",
   "metadata": {},
   "outputs": [
    {
     "data": {
      "text/html": [
       "<div>\n",
       "<style scoped>\n",
       "    .dataframe tbody tr th:only-of-type {\n",
       "        vertical-align: middle;\n",
       "    }\n",
       "\n",
       "    .dataframe tbody tr th {\n",
       "        vertical-align: top;\n",
       "    }\n",
       "\n",
       "    .dataframe thead th {\n",
       "        text-align: right;\n",
       "    }\n",
       "</style>\n",
       "<table border=\"1\" class=\"dataframe\">\n",
       "  <thead>\n",
       "    <tr style=\"text-align: right;\">\n",
       "      <th></th>\n",
       "      <th>Feature</th>\n",
       "      <th>Importance</th>\n",
       "    </tr>\n",
       "  </thead>\n",
       "  <tbody>\n",
       "    <tr>\n",
       "      <th>0</th>\n",
       "      <td>Monthly_Bill</td>\n",
       "      <td>0.316383</td>\n",
       "    </tr>\n",
       "    <tr>\n",
       "      <th>1</th>\n",
       "      <td>Total_Usage_GB</td>\n",
       "      <td>0.290353</td>\n",
       "    </tr>\n",
       "    <tr>\n",
       "      <th>2</th>\n",
       "      <td>Age</td>\n",
       "      <td>0.194396</td>\n",
       "    </tr>\n",
       "    <tr>\n",
       "      <th>3</th>\n",
       "      <td>Subscription_Length_Months</td>\n",
       "      <td>0.142624</td>\n",
       "    </tr>\n",
       "    <tr>\n",
       "      <th>4</th>\n",
       "      <td>Gender_Male</td>\n",
       "      <td>0.016683</td>\n",
       "    </tr>\n",
       "    <tr>\n",
       "      <th>5</th>\n",
       "      <td>Location_Los Angeles</td>\n",
       "      <td>0.010595</td>\n",
       "    </tr>\n",
       "    <tr>\n",
       "      <th>6</th>\n",
       "      <td>Location_Houston</td>\n",
       "      <td>0.010007</td>\n",
       "    </tr>\n",
       "    <tr>\n",
       "      <th>7</th>\n",
       "      <td>Location_Miami</td>\n",
       "      <td>0.009792</td>\n",
       "    </tr>\n",
       "    <tr>\n",
       "      <th>8</th>\n",
       "      <td>Location_New York</td>\n",
       "      <td>0.009166</td>\n",
       "    </tr>\n",
       "  </tbody>\n",
       "</table>\n",
       "</div>"
      ],
      "text/plain": [
       "                      Feature  Importance\n",
       "0                Monthly_Bill    0.316383\n",
       "1              Total_Usage_GB    0.290353\n",
       "2                         Age    0.194396\n",
       "3  Subscription_Length_Months    0.142624\n",
       "4                 Gender_Male    0.016683\n",
       "5        Location_Los Angeles    0.010595\n",
       "6            Location_Houston    0.010007\n",
       "7              Location_Miami    0.009792\n",
       "8           Location_New York    0.009166"
      ]
     },
     "execution_count": 104,
     "metadata": {},
     "output_type": "execute_result"
    }
   ],
   "source": [
    "feature_importance_df"
   ]
  },
  {
   "cell_type": "markdown",
   "id": "91105e19",
   "metadata": {},
   "source": [
    "**The four variables ['Monthly_Bill', 'Total_Usage_GB', 'Age', and 'Subscription_Length_Months'] are the most important variables in the analysis because they contain 94% of the feature importance or information gain in predicting whether a customer will churn or not.**"
   ]
  },
  {
   "cell_type": "markdown",
   "id": "4f58250a",
   "metadata": {},
   "source": [
    "# `Save model in a pickle file`"
   ]
  },
  {
   "cell_type": "code",
   "execution_count": null,
   "id": "82acf819",
   "metadata": {},
   "outputs": [
    {
     "data": {
      "text/plain": [
       "['customer_churn_classifier.pkl']"
      ]
     },
     "execution_count": 106,
     "metadata": {},
     "output_type": "execute_result"
    }
   ],
   "source": [
    "import joblib\n",
    "\n",
    "\n",
    "joblib.dump(xgb_classifier, 'customer_churn_classifier.pkl')"
   ]
  },
  {
   "cell_type": "markdown",
   "id": "dbbf8995",
   "metadata": {},
   "source": [
    "# `Outcome`\n",
    "\n",
    "**This customer churn prediction project aims to build a machine learning model that forecasts the likelihood of customer churn based on attributes such as age, gender, location, subscription duration, monthly bill, and total usage. The model helps identify customers at higher risk of leaving, allowing the business to implement proactive strategies for retention. By leveraging these predictions, the company can optimize resource allocation, tailor engagement approaches, and execute targeted retention initiatives. The success of this project is evaluated by the model’s accuracy in predicting churn, leading to reduced churn rates, enhanced customer satisfaction, and improved retention strategies**"
   ]
  },
  {
   "cell_type": "code",
   "execution_count": null,
   "id": "e585340d",
   "metadata": {},
   "outputs": [],
   "source": []
  }
 ],
 "metadata": {
  "kernelspec": {
   "display_name": "Python 3 (ipykernel)",
   "language": "python",
   "name": "python3"
  },
  "language_info": {
   "codemirror_mode": {
    "name": "ipython",
    "version": 3
   },
   "file_extension": ".py",
   "mimetype": "text/x-python",
   "name": "python",
   "nbconvert_exporter": "python",
   "pygments_lexer": "ipython3",
   "version": "3.9.6"
  }
 },
 "nbformat": 4,
 "nbformat_minor": 5
}
